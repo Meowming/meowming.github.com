{
 "cells": [
  {
   "cell_type": "markdown",
   "metadata": {},
   "source": [
    "# Functional programming\n",
    "\n",
    "Functional programming is a paradigm just like object oriented programming. In this case, instead of using classes and objects, we model every solution as a set of functions. Therefore, we don't manipulat data directly but instead creat a copy of the data, manipulate it in our function and return it.\n",
    "\n",
    "You have been using functional programming already, but this will be a more formal presentation of the topic including the rules of engagement.\n",
    "\n",
    "Functional code is characterised by one thing: the absence of side effects. It doesn’t rely on data outside the current function, and it doesn’t change data that exists outside the current function. Every other “functional” thing can be derived from this property. Use it as a guide rope as you learn.\n",
    "\n"
   ]
  },
  {
   "cell_type": "code",
   "execution_count": 2,
   "metadata": {},
   "outputs": [],
   "source": [
    "a = 0\n",
    "def increment():\n",
    "    global a\n",
    "    a += 1  ## This is unfunctional\n",
    "    \n",
    "    \n",
    "    \n",
    "########\n",
    "\n",
    "\n",
    "def increment(a):\n",
    "    return a + 1 ### This is functional"
   ]
  },
  {
   "cell_type": "markdown",
   "metadata": {},
   "source": [
    "Let's start by looking at three higher order built in functions that are used in python\n",
    "\n",
    "## Map\n",
    "\n",
    "Map takes a function and a collection of items. It makes a new, empty collection, runs the function on each item in the original collection and inserts each return value into the new collection. It returns the new collection.\n",
    "\n",
    "This is a simple map that takes a list of names and returns a list of the lengths of those names:\n"
   ]
  },
  {
   "cell_type": "code",
   "execution_count": 8,
   "metadata": {},
   "outputs": [
    {
     "name": "stdout",
     "output_type": "stream",
     "text": [
      "4\n",
      "4\n",
      "3\n"
     ]
    }
   ],
   "source": [
    "name_lengths = map(len, [\"Mary\", \"Isla\", \"Sam\"])\n",
    "\n",
    "for leng in name_lengths:\n",
    "    print (leng)"
   ]
  },
  {
   "cell_type": "markdown",
   "metadata": {},
   "source": [
    "This is a map that squares every number in the passed collection:"
   ]
  },
  {
   "cell_type": "code",
   "execution_count": 11,
   "metadata": {},
   "outputs": [
    {
     "name": "stdout",
     "output_type": "stream",
     "text": [
      "0\n",
      "1\n",
      "4\n",
      "9\n",
      "16\n"
     ]
    }
   ],
   "source": [
    "squares = map(lambda x: x * x, [0, 1, 2, 3, 4])\n",
    "\n",
    "for l in squares:\n",
    "    print (l)"
   ]
  },
  {
   "cell_type": "markdown",
   "metadata": {},
   "source": [
    "This map doesn’t take a named function. It takes an anonymous, inlined function defined with lambda. The parameters of the lambda are defined to the left of the colon. The function body is defined to the right of the colon. The result of running the function body is (implicitly) returned.\n",
    "\n",
    "The unfunctional code below takes a list of real names and replaces them with randomly assigned code names."
   ]
  },
  {
   "cell_type": "code",
   "execution_count": 12,
   "metadata": {},
   "outputs": [
    {
     "name": "stdout",
     "output_type": "stream",
     "text": [
      "['Mr. Orange', 'Mr. Orange', 'Mr. Blonde']\n"
     ]
    }
   ],
   "source": [
    "import random\n",
    "\n",
    "names = ['Mary', 'Isla', 'Sam']\n",
    "code_names = ['Mr. Pink', 'Mr. Orange', 'Mr. Blonde']\n",
    "\n",
    "for i in range(len(names)):\n",
    "    names[i] = random.choice(code_names)\n",
    "\n",
    "print (names)"
   ]
  },
  {
   "cell_type": "markdown",
   "metadata": {},
   "source": [
    "This can be rewritten as a map:"
   ]
  },
  {
   "cell_type": "code",
   "execution_count": 22,
   "metadata": {},
   "outputs": [
    {
     "name": "stdout",
     "output_type": "stream",
     "text": [
      "Mr. Pink\n",
      "Mr. Blonde\n",
      "Mr. Pink\n"
     ]
    }
   ],
   "source": [
    "import random\n",
    "\n",
    "names = ['Mary', 'Isla', 'Sam']\n",
    "\n",
    "names = map(lambda x: random.choice(['Mr. Pink',\n",
    "                                            'Mr. Orange',\n",
    "                                            'Mr. Blonde']),\n",
    "                                             names)\n",
    "\n",
    "for l in names:\n",
    "    print (l)"
   ]
  },
  {
   "cell_type": "markdown",
   "metadata": {},
   "source": [
    "## Reduce\n",
    "\n",
    "Reduce takes a function and a collection of items. It returns a value that is created by combining the items.\n",
    "\n",
    "This is a simple reduce. It returns the sum of all the items in the collection."
   ]
  },
  {
   "cell_type": "code",
   "execution_count": 24,
   "metadata": {},
   "outputs": [
    {
     "name": "stdout",
     "output_type": "stream",
     "text": [
      "10\n"
     ]
    }
   ],
   "source": [
    "from functools import reduce\n",
    "\n",
    "suma = reduce(lambda a, x: a + x, [0, 1, 2, 3, 4])\n",
    "\n",
    "print (suma)"
   ]
  },
  {
   "cell_type": "markdown",
   "metadata": {},
   "source": [
    "x is the current item being iterated over. a is the accumulator. It is the value returned by the execution of the lambda on the previous item. reduce() walks through the items. For each one, it runs the lambda on the current a and x and returns the result as the a of the next iteration.\n",
    "\n",
    "What is a in the first iteration? There is no previous iteration result for it to pass along. reduce() uses the first item in the collection for a in the first iteration and starts iterating at the second item. That is, the first x is the second item.\n",
    "\n",
    "This code counts how often the word 'Sam' appears in a list of strings:"
   ]
  },
  {
   "cell_type": "code",
   "execution_count": 25,
   "metadata": {},
   "outputs": [
    {
     "name": "stdout",
     "output_type": "stream",
     "text": [
      "3\n"
     ]
    }
   ],
   "source": [
    "sentences = ['Mary read a story to Sam and Isla.',\n",
    "             'Isla cuddled Sam.',\n",
    "             'Sam chortled.']\n",
    "\n",
    "sam_count = 0\n",
    "for sentence in sentences:\n",
    "    sam_count += sentence.count('Sam')\n",
    "\n",
    "print (sam_count)"
   ]
  },
  {
   "cell_type": "markdown",
   "metadata": {},
   "source": [
    "This is the same code written as a reduce:"
   ]
  },
  {
   "cell_type": "code",
   "execution_count": 26,
   "metadata": {},
   "outputs": [
    {
     "name": "stdout",
     "output_type": "stream",
     "text": [
      "3\n"
     ]
    }
   ],
   "source": [
    "sentences = ['Mary read a story to Sam and Isla.',\n",
    "             'Isla cuddled Sam.',\n",
    "             'Sam chortled.']\n",
    "\n",
    "sam_count = reduce(lambda a, x: a + x.count('Sam'),\n",
    "                   sentences,\n",
    "                   0)\n",
    "\n",
    "print(sam_count)"
   ]
  },
  {
   "cell_type": "markdown",
   "metadata": {},
   "source": [
    "How does this code come up with its initial a? The starting point for the number of incidences of 'Sam' cannot be 'Mary read a story to Sam and Isla.' The initial accumulator is specified with the third argument to reduce(). This allows the use of a value of a different type from the items in the collection.\n",
    "\n",
    "Why are map and reduce better?\n",
    "\n",
    "First, they are often one-liners.\n",
    "\n",
    "Second, the important parts of the iteration - the collection, the operation and the return value - are always in the same places in every map and reduce.\n",
    "\n",
    "Third, the code in a loop may affect variables defined before it or code that runs after it. By convention, maps and reduces are functional.\n",
    "\n",
    "Fourth, map and reduce are elemental operations. Every time a person reads a for loop, they have to work through the logic line by line. There are few structural regularities they can use to create a scaffolding on which to hang their understanding of the code. In contrast, map and reduce are at once building blocks that can be combined into complex algorithms, and elements that the code reader can instantly understand and abstract in their mind. “Ah, this code is transforming each item in this collection. It’s throwing some of the transformations away. It’s combining the remainder into a single output.”\n",
    "\n",
    "Fifth, map and reduce have many friends that provide useful, tweaked versions of their basic behaviour. For example: filter, all, any and find.\n",
    "\n",
    "## Filter\n",
    "\n",
    "This function takes a predicate (a unary function returning a bool,\n",
    "although in Python most values have a bool interpretation: recall the __bool__\n",
    "method) and some list/iterable of values and produces a list/iterable with only\n",
    "those values for which the predicate returns True (or a value that is\n",
    "interpreted as True by the /__bool__ method defined in its class). "
   ]
  },
  {
   "cell_type": "code",
   "execution_count": 37,
   "metadata": {},
   "outputs": [
    {
     "name": "stdout",
     "output_type": "stream",
     "text": [
      "The filtered vowels are:\n",
      "a\n",
      "e\n",
      "i\n",
      "o\n"
     ]
    }
   ],
   "source": [
    "# list of alphabets\n",
    "alphabets = ['a', 'b', 'd', 'e', 'i', 'j', 'o']\n",
    "\n",
    "# function that filters vowels\n",
    "def filterVowels(alphabet):\n",
    "    vowels = ['a', 'e', 'i', 'o', 'u']\n",
    "\n",
    "    if(alphabet in vowels):\n",
    "        return True\n",
    "    else:\n",
    "        return False\n",
    "\n",
    "filteredVowels = filter(filterVowels, alphabets)\n",
    "\n",
    "print('The filtered vowels are:')\n",
    "for vowel in filteredVowels:\n",
    "    print(vowel)\n"
   ]
  },
  {
   "cell_type": "markdown",
   "metadata": {},
   "source": [
    "Here, we list have a list of alphabets and need to filter out only the vowels in it.\n",
    "\n",
    "We could use a for loop to loop through each element in alphabets list and store it in another list, but in Python, this process is easier and faster using filter() method.\n",
    "\n",
    "We have a function filterVowels that checks if an alphabet is a vowel or not. This function is passed onto the filter() method with the list of alphabets.\n",
    "\n",
    "The filter() method then passes each alphabet to the filterVowels() method to check if it returns true or not. In the end, it creates an iterator of the ones that return true (vowels).\n",
    "\n",
    "Since, iterator doesn't store the values itself, we loop through it and print out vowels one by one."
   ]
  },
  {
   "cell_type": "code",
   "execution_count": 38,
   "metadata": {},
   "outputs": [
    {
     "name": "stdout",
     "output_type": "stream",
     "text": [
      "The filtered elements are:\n",
      "1\n",
      "a\n",
      "True\n",
      "0\n"
     ]
    }
   ],
   "source": [
    "# random list\n",
    "randomList = [1, 'a', 0, False, True, '0']\n",
    "\n",
    "filteredList = filter(None, randomList)\n",
    "\n",
    "print('The filtered elements are:')\n",
    "for element in filteredList:\n",
    "    print(element)"
   ]
  },
  {
   "cell_type": "markdown",
   "metadata": {},
   "source": [
    "Here, we have a random list of number, string and boolean in randomList.\n",
    "\n",
    "We pass randomList to the filter() method with first parameter (filter function) as None.\n",
    "\n",
    "With filter function as None, the function defaults to Identity function, and each element in randomList is checked if it's true or not.\n",
    "\n",
    "When we loop through the final filteredList, we get the elements which are true: 1, a, True and '0' ('0' as a string is also true)."
   ]
  },
  {
   "cell_type": "markdown",
   "metadata": {},
   "source": [
    "## Excercise\n",
    "\n",
    "Try rewriting the code below using map, reduce and filter. Filter takes a function and a collection. It returns a collection of every item for which the function returned True."
   ]
  },
  {
   "cell_type": "code",
   "execution_count": 39,
   "metadata": {},
   "outputs": [
    {
     "name": "stdout",
     "output_type": "stream",
     "text": [
      "120.0\n"
     ]
    }
   ],
   "source": [
    "people = [{'name': 'Mary', 'height': 160},\n",
    "          {'name': 'Isla', 'height': 80},\n",
    "          {'name': 'Sam'}]\n",
    "\n",
    "height_total = 0\n",
    "height_count = 0\n",
    "for person in people:\n",
    "    if 'height' in person:\n",
    "        height_total += person['height']\n",
    "        height_count += 1\n",
    "\n",
    "if height_count > 0:\n",
    "    average_height = height_total / height_count\n",
    "\n",
    "    print (average_height)"
   ]
  },
  {
   "cell_type": "markdown",
   "metadata": {},
   "source": [
    "### Solution\n",
    "\n",
    "If this seems tricky, try not thinking about the operations on the data. Think of the states the data will go through, from the list of people dictionaries to the average height. Don’t try and bundle multiple transformations together. Put each on a separate line and assign the result to a descriptively-named variable. Once the code works, condense it."
   ]
  },
  {
   "cell_type": "code",
   "execution_count": 55,
   "metadata": {},
   "outputs": [
    {
     "name": "stdout",
     "output_type": "stream",
     "text": [
      "120.0\n"
     ]
    }
   ],
   "source": [
    "people = [{'name': 'Mary', 'height': 160},\n",
    "          {'name': 'Isla', 'height': 80},\n",
    "          {'name': 'Sam'}]\n",
    "\n",
    "heights =list( map(lambda x: x['height'],\n",
    "              filter(lambda x: 'height' in x, people)))\n",
    "#print (list(heights))\n",
    "if len(list(heights)) > 0:\n",
    "    from operator import add\n",
    "    average_height = reduce(add, list(heights)) / len(list(heights))\n",
    "print (average_height)"
   ]
  },
  {
   "cell_type": "markdown",
   "metadata": {},
   "source": [
    "## Racing cars\n",
    "\n",
    "The program below runs a race between three cars. At each time step, each car may move forwards or it may stall. At each time step, the program prints out the paths of the cars so far. After five time steps, the race is over.\n",
    "\n",
    "This is some sample output:\n",
    "\n"
   ]
  },
  {
   "cell_type": "code",
   "execution_count": 56,
   "metadata": {},
   "outputs": [
    {
     "ename": "SyntaxError",
     "evalue": "invalid syntax (<ipython-input-56-37b80193b00c>, line 1)",
     "output_type": "error",
     "traceback": [
      "\u001b[1;36m  File \u001b[1;32m\"<ipython-input-56-37b80193b00c>\"\u001b[1;36m, line \u001b[1;32m1\u001b[0m\n\u001b[1;33m    -\u001b[0m\n\u001b[1;37m     ^\u001b[0m\n\u001b[1;31mSyntaxError\u001b[0m\u001b[1;31m:\u001b[0m invalid syntax\n"
     ]
    }
   ],
   "source": [
    "-\n",
    "--\n",
    "--\n",
    "\n",
    "--\n",
    "--\n",
    "---\n",
    "\n",
    "---\n",
    "--\n",
    "---\n",
    "\n",
    "----\n",
    "---\n",
    "----\n",
    "\n",
    "----\n",
    "----\n",
    "-----"
   ]
  },
  {
   "cell_type": "code",
   "execution_count": 59,
   "metadata": {},
   "outputs": [
    {
     "name": "stdout",
     "output_type": "stream",
     "text": [
      "\n",
      "-\n",
      "--\n",
      "-\n",
      "\n",
      "-\n",
      "--\n",
      "--\n",
      "\n",
      "--\n",
      "--\n",
      "---\n",
      "\n",
      "---\n",
      "---\n",
      "----\n",
      "\n",
      "----\n",
      "----\n",
      "-----\n"
     ]
    }
   ],
   "source": [
    "from random import random\n",
    "\n",
    "time = 5\n",
    "car_positions = [1, 1, 1]\n",
    "\n",
    "while time:\n",
    "    # decrease time\n",
    "    time -= 1\n",
    "\n",
    "    print ('')\n",
    "    for i in range(len(car_positions)):\n",
    "        # move car\n",
    "        if random() > 0.3:\n",
    "            car_positions[i] += 1\n",
    "\n",
    "        # draw car\n",
    "        print( '-' * car_positions[i])"
   ]
  },
  {
   "cell_type": "markdown",
   "metadata": {},
   "source": [
    "The code is written imperatively. A functional version would be declarative. It would describe what to do, rather than how to do it.\n",
    "\n",
    "## Use functions\n",
    "\n",
    "A program can be made more declarative by bundling pieces of the code into functions."
   ]
  },
  {
   "cell_type": "code",
   "execution_count": 61,
   "metadata": {},
   "outputs": [
    {
     "name": "stdout",
     "output_type": "stream",
     "text": [
      "\n",
      "--\n",
      "-\n",
      "--\n",
      "\n",
      "--\n",
      "-\n",
      "---\n",
      "\n",
      "---\n",
      "--\n",
      "---\n",
      "\n",
      "---\n",
      "---\n",
      "----\n",
      "\n",
      "----\n",
      "----\n",
      "----\n"
     ]
    }
   ],
   "source": [
    "from random import random\n",
    "\n",
    "def move_cars():\n",
    "    for i, _ in enumerate(car_positions):\n",
    "        if random() > 0.3:\n",
    "            car_positions[i] += 1\n",
    "\n",
    "def draw_car(car_position):\n",
    "    print ('-' * car_position)\n",
    "\n",
    "def run_step_of_race():\n",
    "    global time\n",
    "    time -= 1\n",
    "    move_cars()\n",
    "\n",
    "def draw():\n",
    "    print ()\n",
    "    for car_position in car_positions:\n",
    "        draw_car(car_position)\n",
    "\n",
    "time = 5\n",
    "car_positions = [1, 1, 1]\n",
    "\n",
    "while time:\n",
    "    run_step_of_race()\n",
    "    draw()"
   ]
  },
  {
   "cell_type": "markdown",
   "metadata": {},
   "source": [
    "To understand this program, the reader just reads the main loop. “If there is time left, run a step of the race and draw. Check the time again.” If the reader wants to understand more about what it means to run a step of the race, or draw, they can read the code in those functions.\n",
    "\n",
    "There are no comments any more. The code describes itself.\n",
    "\n",
    "Splitting code into functions is a great, low brain power way to make code more readable.\n",
    "\n",
    "This technique uses functions, but it uses them as sub-routines. They parcel up code. The code is not functional in the sense of the guide rope. The functions in the code use state that was not passed as arguments. They affect the code around them by changing external variables, rather than by returning values. To check what a function really does, the reader must read each line carefully. If they find an external variable, they must find its origin. They must see what other functions change that variable.\n",
    "\n",
    "This is a functional version of the car race code:\n",
    "\n"
   ]
  },
  {
   "cell_type": "code",
   "execution_count": 62,
   "metadata": {},
   "outputs": [
    {
     "name": "stdout",
     "output_type": "stream",
     "text": [
      "\n",
      "-\n",
      "-\n",
      "-\n",
      "\n",
      "-\n",
      "--\n",
      "--\n",
      "\n",
      "\n",
      "\n",
      "\n",
      "\n",
      "\n",
      "\n",
      "\n"
     ]
    }
   ],
   "source": [
    "from random import random\n",
    "\n",
    "def move_cars(car_positions):\n",
    "    return map(lambda x: x + 1 if random() > 0.3 else x,\n",
    "               car_positions)\n",
    "\n",
    "def output_car(car_position):\n",
    "    return '-' * car_position\n",
    "\n",
    "def run_step_of_race(state):\n",
    "    return {'time': state['time'] - 1,\n",
    "            'car_positions': move_cars(state['car_positions'])}\n",
    "\n",
    "def draw(state):\n",
    "    print ()\n",
    "    print ('\\n'.join(map(output_car, state['car_positions'])))\n",
    "\n",
    "def race(state):\n",
    "    draw(state)\n",
    "    if state['time']:\n",
    "        race(run_step_of_race(state))\n",
    "\n",
    "race({'time': 5,\n",
    "      'car_positions': [1, 1, 1]})"
   ]
  },
  {
   "cell_type": "markdown",
   "metadata": {},
   "source": [
    "The code is still split into functions, but the functions are functional. There are three signs of this. First, there are no longer any shared variables. time and car_positions get passed straight into race(). Second, functions take parameters. Third, no variables are instantiated inside functions. All data changes are done with return values. race() recurses3 with the result of run_step_of_race(). Each time a step generates a new state, it is passed immediately into the next step.\n",
    "\n",
    "Now, here are two functions, zero() and one():"
   ]
  },
  {
   "cell_type": "code",
   "execution_count": 63,
   "metadata": {},
   "outputs": [],
   "source": [
    "def zero(s):\n",
    "    if s[0] == \"0\":\n",
    "        return s[1:]\n",
    "\n",
    "def one(s):\n",
    "    if s[0] == \"1\":\n",
    "        return s[1:]"
   ]
  },
  {
   "cell_type": "markdown",
   "metadata": {},
   "source": [
    "zero() takes a string, s. If the first character is '0', it returns the rest of the string. If it is not, it returns None, the default return value of Python functions. one() does the same, but for a first character of '1'.\n",
    "\n",
    "Imagine a function called rule_sequence(). It takes a string and a list of rule functions of the form of zero() and one(). It calls the first rule on the string. Unless None is returned, it takes the return value and calls the second rule on it. Unless None is returned, it takes the return value and calls the third rule on it. And so forth. If any rule returns None, rule_sequence() stops and returns None. Otherwise, it returns the return value of the final rule.\n",
    "\n",
    "This is some sample input and output:"
   ]
  },
  {
   "cell_type": "code",
   "execution_count": 66,
   "metadata": {},
   "outputs": [
    {
     "name": "stdout",
     "output_type": "stream",
     "text": [
      "1\n",
      "None\n"
     ]
    }
   ],
   "source": [
    "def rule_sequence(s, rules):\n",
    "    if s == None or not rules:\n",
    "        return s\n",
    "    else:\n",
    "        return rule_sequence(rules[0](s), rules[1:])\n",
    "\n",
    "print (rule_sequence('0101', [zero, one, zero]))\n",
    "\n",
    "\n",
    "print (rule_sequence('0101', [zero, zero]))"
   ]
  },
  {
   "cell_type": "markdown",
   "metadata": {},
   "source": [
    "## Pipelines\n",
    "\n",
    "In the previous section, some imperative loops were rewritten as recursions that called out to auxiliary functions. In this section, a different type of imperative loop will be rewritten using a technique called a pipeline.\n",
    "\n",
    "The loop below performs transformations on dictionaries that hold the name, incorrect country of origin and active status of some bands."
   ]
  },
  {
   "cell_type": "code",
   "execution_count": 67,
   "metadata": {},
   "outputs": [
    {
     "name": "stdout",
     "output_type": "stream",
     "text": [
      "[{'name': 'Sunset Rubdown', 'country': 'Canada', 'active': False}, {'name': 'Women', 'country': 'Canada', 'active': False}, {'name': 'A Silver Mt Zion', 'country': 'Canada', 'active': True}]\n"
     ]
    }
   ],
   "source": [
    "bands = [{'name': 'sunset rubdown', 'country': 'UK', 'active': False},\n",
    "         {'name': 'women', 'country': 'Germany', 'active': False},\n",
    "         {'name': 'a silver mt. zion', 'country': 'Spain', 'active': True}]\n",
    "\n",
    "def format_bands(bands):\n",
    "    for band in bands:\n",
    "        band['country'] = 'Canada'\n",
    "        band['name'] = band['name'].replace('.', '')\n",
    "        band['name'] = band['name'].title()\n",
    "\n",
    "format_bands(bands)\n",
    "\n",
    "print (bands)"
   ]
  },
  {
   "cell_type": "markdown",
   "metadata": {},
   "source": [
    "Worries are stirred by the name of the function. “format” is very vague. Upon closer inspection of the code, these worries begin to claw. Three things happen in the same loop. The 'country' key gets set to 'Canada'. Punctuation is removed from the band name. The band name gets capitalized. It is hard to tell what the code is intended to do and hard to tell if it does what it appears to do. The code is hard to reuse, hard to test and hard to parallelize.\n",
    "\n",
    "Compare it with this:"
   ]
  },
  {
   "cell_type": "code",
   "execution_count": 71,
   "metadata": {},
   "outputs": [
    {
     "name": "stdout",
     "output_type": "stream",
     "text": [
      "[{'name': 'Sunset Rubdown', 'country': 'Canada', 'active': False}, {'name': 'Women', 'country': 'Canada', 'active': False}, {'name': 'A Silver Mt Zion', 'country': 'Canada', 'active': True}]\n"
     ]
    }
   ],
   "source": [
    "def pipeline_each(data, fns):\n",
    "    return reduce(lambda a, x: map(x, a),\n",
    "                  fns,\n",
    "                  data)\n",
    "def assoc(_d, key, value):\n",
    "    from copy import deepcopy\n",
    "    d = deepcopy(_d)\n",
    "    d[key] = value\n",
    "    return d\n",
    "\n",
    "def set_canada_as_country(band):\n",
    "    return assoc(band, 'country', \"Canada\")\n",
    "\n",
    "def strip_punctuation_from_name(band):\n",
    "    return assoc(band, 'name', band['name'].replace('.', ''))\n",
    "\n",
    "def capitalize_names(band):\n",
    "    return assoc(band, 'name', band['name'].title())\n",
    "\n",
    "print (list(pipeline_each(bands, [set_canada_as_country,\n",
    "                            strip_punctuation_from_name,\n",
    "                            capitalize_names])))"
   ]
  },
  {
   "cell_type": "markdown",
   "metadata": {},
   "source": [
    "This code is easy to understand. It gives the impression that the auxiliary functions are functional because they seem to be chained together. The output from the previous one comprises the input to the next. If they are functional, they are easy to verify. They are also easy to reuse, easy to test and easy to parallelize.\n",
    "\n",
    "The job of pipeline_each() is to pass the bands, one at a time, to a transformation function, like set_canada_as_country(). After the function has been applied to all the bands, pipeline_each() bundles up the transformed bands. Then, it passes each one to the next function.\n",
    "\n",
    "Each one associates a key on a band with a new value. There is no easy way to do this without mutating the original band. assoc() solves this problem by using deepcopy() to produce a copy of the passed dictionary. Each transformation function makes its modification to the copy and returns that copy.\n",
    "\n",
    "Everything seems fine. Band dictionary originals are protected from mutation when a key is associated with a new value. But there are two other potential mutations in the code above. In strip_punctuation_from_name(), the unpunctuated name is generated by calling replace() on the original name. In capitalize_names(), the capitalized name is generated by calling title() on the original name. If replace() and title() are not functional, strip_punctuation_from_name() and capitalize_names() are not functional.\n",
    "\n",
    "Fortunately, replace() and title() do not mutate the strings they operate on. This is because strings are immutable in Python. When, for example, replace() operates on a band name string, the original band name is copied and replace() is called on the copy. Phew.\n",
    "\n",
    "This contrast between the mutability of strings and dictionaries in Python illustrates the appeal of languages like Clojure. The programmer need never think about whether they are mutating data. They aren’t."
   ]
  },
  {
   "cell_type": "markdown",
   "metadata": {},
   "source": [
    "## Custom higher order functions\n",
    "\n",
    "Let's build our custom higher order functions, that is, a function that takes a fucntion as an argument"
   ]
  },
  {
   "cell_type": "code",
   "execution_count": 74,
   "metadata": {},
   "outputs": [
    {
     "name": "stdout",
     "output_type": "stream",
     "text": [
      "[{'name': 'Sunset Rubdown', 'country': 'Canada', 'active': False}, {'name': 'Women', 'country': 'Canada', 'active': False}, {'name': 'A Silver Mt Zion', 'country': 'Canada', 'active': True}]\n"
     ]
    }
   ],
   "source": [
    "def assoc(_d, key, value):\n",
    "    from copy import deepcopy\n",
    "    d = deepcopy(_d)\n",
    "    d[key] = value\n",
    "    return d\n",
    "\n",
    "def call(fn, key):\n",
    "    def apply_fn(record):\n",
    "        return assoc(record, key, fn(record.get(key)))\n",
    "    return apply_fn\n",
    "\n",
    "\n",
    "print (list(pipeline_each(bands, [call(lambda x: 'Canada', 'country'),\n",
    "                            call(lambda x: x.replace('.', ''), 'name'),\n",
    "                            call(str.title, 'name')])))"
   ]
  },
  {
   "cell_type": "markdown",
   "metadata": {},
   "source": [
    "There is a lot going on here. Let’s take it piece by piece.\n",
    "\n",
    "One. call() is a higher order function. A higher order function takes a function as an argument, or returns a function. Or, like call(), it does both.\n",
    "\n",
    "Two. apply_fn() looks very similar to the three transformation functions. It takes a record (a band). It looks up the value at record[key]. It calls fn on that value. It assigns the result back to a copy of the record. It returns the copy.\n",
    "\n",
    "Three. call() does not do any actual work. apply_fn(), when called, will do the work. In the example of using pipeline_each() above, one instance of apply_fn() will set 'country' to 'Canada' on a passed band. Another instance will capitalize the name of a passed band.\n",
    "\n",
    "Four. When an apply_fn() instance is run, fn and key will not be in scope. They are neither arguments to apply_fn(), nor locals inside it. But they will still be accessible. When a function is defined, it saves references to the variables it closes over: those that were defined in a scope outside the function and that are used inside the function. When the function is run and its code references a variable, Python looks up the variable in the locals and in the arguments. If it doesn’t find it there, it looks in the saved references to closed over variables. This is where it will find fn and key.\n",
    "\n",
    "Five. There is no mention of bands in the call() code. That is because call() could be used to generate pipeline functions for any program, regardless of topic. Functional programming is partly about building up a library of generic, reusable, composable functions.\n",
    "\n",
    "There is one more piece of band processing to do. That is to remove everything but the name and country. extract_name_and_country() can pull that information out:"
   ]
  },
  {
   "cell_type": "code",
   "execution_count": 75,
   "metadata": {},
   "outputs": [
    {
     "name": "stdout",
     "output_type": "stream",
     "text": [
      "[{'name': 'Sunset Rubdown', 'country': 'Canada'}, {'name': 'Women', 'country': 'Canada'}, {'name': 'A Silver Mt Zion', 'country': 'Canada'}]\n"
     ]
    }
   ],
   "source": [
    "def extract_name_and_country(band):\n",
    "    plucked_band = {}\n",
    "    plucked_band['name'] = band['name']\n",
    "    plucked_band['country'] = band['country']\n",
    "    return plucked_band\n",
    "\n",
    "print (list(pipeline_each(bands, [call(lambda x: 'Canada', 'country'),\n",
    "                            call(lambda x: x.replace('.', ''), 'name'),\n",
    "                            call(str.title, 'name'),\n",
    "                            extract_name_and_country])))"
   ]
  },
  {
   "cell_type": "code",
   "execution_count": null,
   "metadata": {},
   "outputs": [],
   "source": []
  }
 ],
 "metadata": {
  "kernelspec": {
   "display_name": "Python 3",
   "language": "python",
   "name": "python3"
  },
  "language_info": {
   "codemirror_mode": {
    "name": "ipython",
    "version": 3
   },
   "file_extension": ".py",
   "mimetype": "text/x-python",
   "name": "python",
   "nbconvert_exporter": "python",
   "pygments_lexer": "ipython3",
   "version": "3.6.5"
  }
 },
 "nbformat": 4,
 "nbformat_minor": 2
}
