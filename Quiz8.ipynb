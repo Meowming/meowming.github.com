{
 "cells": [
  {
   "cell_type": "markdown",
   "metadata": {},
   "source": [
    "# Quiz 8\n",
    "\n",
    "Note: You can use the data structures in the Modules.\n"
   ]
  },
  {
   "cell_type": "markdown",
   "metadata": {},
   "source": [
    "Question 1 - Linked Lists\n",
    "\n",
    "\n",
    "Create a singly linked unordered list and a singly linked ordered list, and populate it with the given values. \n",
    "\n",
    "Now write a recursive function to print elements of each linked list in reverse, but don't print every other value starting with the 2nd from the back."
   ]
  },
  {
   "cell_type": "code",
   "execution_count": null,
   "metadata": {},
   "outputs": [],
   "source": [
    "values = [67,58,34,2,97,35,78,3,7,1,4,86]"
   ]
  },
  {
   "cell_type": "markdown",
   "metadata": {},
   "source": [
    "Question 2 - Binary Trees\n",
    "\n",
    "Given a sequence of numbers, fill a binary search tree by inserting the given numbers in order from left to right, with the given rules:\n",
    "\n",
    "1. Start from root.\n",
    "2. Compare the inserting element with root, if less than root, then recurse for left, else recurse for right.\n",
    "3. After reaching end,just insert that node at left(if less than current) else right.\n",
    "    \n",
    "Use pre-order traversal to print the tree's nodes."
   ]
  },
  {
   "cell_type": "code",
   "execution_count": null,
   "metadata": {},
   "outputs": [],
   "source": [
    "nodenumbers = [3,4,6,8,10,5,2,7,9,1,0]"
   ]
  },
  {
   "cell_type": "markdown",
   "metadata": {},
   "source": [
    "Question 3 - Stack, Queue, De-queue\n",
    "\n",
    "Implement semi-shuffling using a stack, queue, and deque. Push values 1 through 52 into a stack and perform the following:\n",
    "\n",
    "- Pop 13 values from the stack, and enqueue the 7 of the popped values into the queue, while adding the 6 others to the back of a deque. \n",
    "- Dequeue 2 of the values in the queue and enqueue them again.\n",
    "- Dequeue all of the values in the queue, but alternate adding the values to the front and adding them to the rear of the deque. \n",
    "- Remove all of the items in the deque from the front and print them.\n",
    "- Repeat until the stack is empty.\n"
   ]
  },
  {
   "cell_type": "code",
   "execution_count": null,
   "metadata": {},
   "outputs": [],
   "source": []
  },
  {
   "cell_type": "markdown",
   "metadata": {},
   "source": [
    "Save your outputs to Quiz8.txt in the following format:\n",
    "\n",
    "Firstname Lastname \n",
    "\n",
    "Quiz 1 - Quiz 1 Output\n",
    "\n",
    "Quiz 2 - Quiz 2 Output\n",
    "\n",
    "Quiz 3 - Quiz 3 Output\n",
    "\n",
    "Compress the text file and your IPython Notebook into a zip and upload to the assignment submission page."
   ]
  }
 ],
 "metadata": {
  "kernelspec": {
   "display_name": "Python 3",
   "language": "python",
   "name": "python3"
  },
  "language_info": {
   "codemirror_mode": {
    "name": "ipython",
    "version": 3
   },
   "file_extension": ".py",
   "mimetype": "text/x-python",
   "name": "python",
   "nbconvert_exporter": "python",
   "pygments_lexer": "ipython3",
   "version": "3.6.6"
  }
 },
 "nbformat": 4,
 "nbformat_minor": 2
}
