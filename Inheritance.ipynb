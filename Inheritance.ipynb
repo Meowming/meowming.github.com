{
 "cells": [
  {
   "attachments": {
    "img74.gif": {
     "image/gif": "[encoded data removed]"
    }
   },
   "cell_type": "markdown",
   "metadata": {},
   "source": [
    "# Inheritance\n",
    "\n",
    "So now that you know how to build classes, operator overloading and iterators, is time for one of the biggest topics in Object Oriented Programming: Inheritance.\n",
    "\n",
    "This notebook has information obtained form https://www.python-course.eu\n",
    "\n",
    "We will review how inheritance works, then we'll talk about multi inheritance and finally we'll see examples of both.\n",
    "\n",
    "![img74.gif](attachment:img74.gif)"
   ]
  },
  {
   "cell_type": "markdown",
   "metadata": {},
   "source": [
    "Now what is inheritance. No is not an amount of money you get after a relative passed away. In this case the natural parallel would be genetic inheritance. In object oriented programming inheritance is a property of objects to share methods and attributes with another object hierarchically. Not every programming language applies this concept the same ways so keep in mind that terms may change depending on the context.\n",
    "\n",
    "There are two terms you need to get familiar with:\n",
    "\n",
    "1) Superclass/ Ancestor Are root classes or \"parents\" of other classes. They might be usable directly or they can be abstract classes, which just provide structure to the classes derived from it but are not really aplicable into the main code.\n",
    "\n",
    "2) Subclasses/ Descendants Are derived classes that inherit attributes from a superclass. Now you can have multilevel inheritance so a subclass can be a superclass as well.\n",
    "\n",
    "There's really not much difference from the way you declare a superclass to every other class, but subclasses follow this general structure:\n",
    "\n",
    "class DerivedClassName(BaseClassName):\n",
    "\n",
    "    pass\n",
    "    \n",
    "    \n",
    "Let's dive in with an example:"
   ]
  },
  {
   "cell_type": "code",
   "execution_count": 1,
   "metadata": {},
   "outputs": [
    {
     "name": "stdout",
     "output_type": "stream",
     "text": [
      "Marge Simpson\n",
      "Homer Simpson, 1007\n",
      "Homer Simpson\n"
     ]
    }
   ],
   "source": [
    "class Person:\n",
    "\n",
    "    def __init__(self, first, last):\n",
    "        self.firstname = first\n",
    "        self.lastname = last\n",
    "\n",
    "    def Name(self):\n",
    "        return self.firstname + \" \" + self.lastname\n",
    "\n",
    "class Employee(Person):\n",
    "\n",
    "    def __init__(self, first, last, staffnum):\n",
    "        super().__init__(first, last)\n",
    "        #Person.__init__(self,first, last)\n",
    "        self.staffnumber = staffnum\n",
    "\n",
    "    def GetEmployee(self):\n",
    "        return self.Name() + \", \" +  self.staffnumber\n",
    "\n",
    "x = Person(\"Marge\", \"Simpson\")\n",
    "y = Employee(\"Homer\", \"Simpson\", \"1007\")\n",
    "\n",
    "print(x.Name())\n",
    "print(y.GetEmployee())\n",
    "print(y.Name())"
   ]
  },
  {
   "cell_type": "markdown",
   "metadata": {},
   "source": [
    "Employee is a subclass of Person. That means that unless the operators are overloaded, Employee has all the methods and attributes of Person (remember that methods=operators, one is a Python term the other an OOP term). \n",
    "\n",
    "In this case we are overriding the init() method of Person to also include a staff number. However the name() method doesn't get overloaded or overridden and Employee still inherits it. Employee also has a method called GetEmployee() that is not shared with Person. LEt's look at another example where employee overloads all the methods in person instead of creating a new one:"
   ]
  },
  {
   "cell_type": "code",
   "execution_count": 2,
   "metadata": {},
   "outputs": [
    {
     "name": "stdout",
     "output_type": "stream",
     "text": [
      "Marge Simpson, 36\n",
      "Homer Simpson, 28, 1007\n"
     ]
    }
   ],
   "source": [
    "class Person:\n",
    "\n",
    "    def __init__(self, first, last, age):\n",
    "        self.firstname = first\n",
    "        self.lastname = last\n",
    "        self.age = age\n",
    "\n",
    "    def __str__(self):\n",
    "        return self.firstname + \" \" + self.lastname + \", \" + str(self.age)\n",
    "\n",
    "class Employee(Person):\n",
    "\n",
    "    def __init__(self, first, last, age, staffnum):\n",
    "        super().__init__(first, last, age)\n",
    "        self.staffnumber = staffnum\n",
    "\n",
    "    def __str__(self):\n",
    "        return super().__str__() + \", \" +  self.staffnumber\n",
    "\n",
    "\n",
    "x = Person(\"Marge\", \"Simpson\", 36)\n",
    "y = Employee(\"Homer\", \"Simpson\", 28, \"1007\")\n",
    "\n",
    "print(x)\n",
    "print(y)"
   ]
  },
  {
   "cell_type": "markdown",
   "metadata": {},
   "source": [
    "In this case instead of creating a GetEmployee method, we overloaded a str() method to add the staff number. This code does exactly the same thing as the previous one but fully uses the concept of inheritance. Using inheritance correctly requires good design of the classes. For big projects the inheritance would usually be explained in the documentation so developers know which suprclasses to inherit from.\n",
    "\n",
    "## Inheritance design rules\n",
    "\n",
    "Now let's look at some design rules. So far we have inherited the init() method and the str() method as well. In other languages such as Java and C, you are limited to accessing variables through methods. That means that if you try to access and modify the self.name from the Person class through Employee, you would get an exception. Python doesn't do that, but it's still considered bad programming that goes against everything OOP holds true and valuable.\n",
    "\n",
    "To solve this problem, each class should define methods to access/set all the\n",
    "attributes it defines. That is why in there are reset/inc/value_of methods in\n",
    "the Counter class: so the ModularCounter class can examine/update the _value\n",
    "attribute defined in Counter. So,\n",
    "\n",
    "1) If a class adds an attribute to an object (e.g., in \\__init__) then methods\n",
    "defined in only that class should access the attribute directly.\n",
    "\n",
    "2) If other classes (including derived/subclasses) need to access/update the\n",
    "information stored in that attribute, then the defining class should define\n",
    "methods that do the job, which the other class should call.\n",
    "\n",
    "This introduces a wonderful concept of OOP called\n",
    "\n",
    "## Encapsulation\n",
    "\n",
    "Encapsulation is best explained with how we drive a car. When we get on a car, we can control acceleration by pressing the gas pedal, and break by pressing the break pedal. However, we have no control over the different variables and mechanisms that makes a car accelerate or break. All those attributes and methods are __private__ and you can only access them by opening the hood and looking inside the object.\n",
    "\n",
    "The same applies for object oriented programming. Encapsulation is a principle (enforced by languages like Java but optional in Python) that dictates that some methods and attributes ought to be private, and accessed only within the class. For that we need to determine the __interface__ for the class that will allow some attributes to be read or written. Here's an example:"
   ]
  },
  {
   "cell_type": "code",
   "execution_count": 5,
   "metadata": {},
   "outputs": [
    {
     "name": "stdout",
     "output_type": "stream",
     "text": [
      "updating software\n",
      "driving\n",
      "updating software\n"
     ]
    }
   ],
   "source": [
    "class Car:\n",
    " \n",
    "    def __init__(self):\n",
    "        self.__updateSoftware()\n",
    " \n",
    "    def drive(self):\n",
    "        print ('driving')\n",
    " \n",
    "    def __updateSoftware(self):\n",
    "        print ('updating software')\n",
    "\n",
    "redcar = Car()\n",
    "redcar.drive()\n",
    "redcar._Car__updateSoftware() "
   ]
  },
  {
   "cell_type": "markdown",
   "metadata": {},
   "source": [
    "The \\__updateSoftware method is only accessible form inside Car. You can't call it from your code. That is because this method is __private__. (you can actually access the method using redcar._Car\\__updateSoftware(), but that is because Python allows you to bypass encapsulation. But this is bad habit and you should stay away from doing it)\n",
    "\n",
    "Here's a general sense on how private classes and methods work:\n",
    "\n",
    "\n",
    "public methods\tAccessible from anywhere\n",
    "\n",
    "private methods\tAccessible only in their own class. starts with two underscores\n",
    "\n",
    "public variables\tAccessible from anywhere\n",
    "\n",
    "private variables\tAccesible only in their own class or by a method if defined. starts with two underscores\n",
    "\n",
    "Now what about variables. As per encapsulation principle you should not access variables directly, they should all be private. The right way to access a variable should be through a method, like so "
   ]
  },
  {
   "cell_type": "code",
   "execution_count": 6,
   "metadata": {},
   "outputs": [
    {
     "name": "stdout",
     "output_type": "stream",
     "text": [
      "driving. maxspeed 200\n",
      "driving. maxspeed 320\n"
     ]
    }
   ],
   "source": [
    "class Car:\n",
    " \n",
    "    __maxspeed = 0\n",
    "    __name = \"\"\n",
    " \n",
    "    def __init__(self):\n",
    "        self.__maxspeed = 200\n",
    "        self.__name = \"Supercar\"\n",
    " \n",
    "    def drive(self):\n",
    "        print ('driving. maxspeed ' + str(self.__maxspeed))\n",
    " \n",
    "    def setMaxSpeed(self,speed):\n",
    "        self.__maxspeed = speed\n",
    " \n",
    "redcar = Car()\n",
    "redcar.drive()\n",
    "redcar.setMaxSpeed(320)\n",
    "redcar.drive()"
   ]
  },
  {
   "cell_type": "markdown",
   "metadata": {},
   "source": [
    "The maxspeed attribute can only be modified by the setMaxSpeed. Which brings us to the wonderful world of:\n",
    "    \n",
    "## Setters and Getters\n",
    "\n",
    "Setters and Getters are encapsulation put into practice. No mind you these are general guidelines on how to do encapsulation. You could have a method called accelerate() that makes more sense than setSpeed(), but for coherence let's assume that every public attribute is read using a get method and written using a set method.\n",
    "\n",
    "Let's talk Java for a little bit. In java, all attributes of a class have to be private. Whenever you add a new attribute you generally creat its setter and getter. Most IDEs will even prompt you to do it automatically. \n",
    "\n",
    "Arguably, this is not the pythonic way to do it. In python the attributes should be public. (I know I just told you something different. Some will argue that the pythonic way is the only right way to do it. Personally I think you should know both paradigms in order to be able to demonstrate you understand the universal concept of encapsulation, not just how one specific language does it).\n",
    "\n",
    "Now, for our class Car, we are forcing Python to behave in a Javaesque way. A pythonic class would look more like this:"
   ]
  },
  {
   "cell_type": "code",
   "execution_count": 7,
   "metadata": {},
   "outputs": [
    {
     "name": "stdout",
     "output_type": "stream",
     "text": [
      "driving. maxspeed 200\n",
      "driving. maxspeed 300\n"
     ]
    }
   ],
   "source": [
    "class Car:\n",
    " \n",
    "    maxspeed = 0\n",
    "    __name = \"\"\n",
    " \n",
    "    def __init__(self):\n",
    "        self.maxspeed = 200\n",
    "        self.__name = \"Supercar\"\n",
    " \n",
    "    def drive(self):\n",
    "        print ('driving. maxspeed ' + str(self.maxspeed))\n",
    "\n",
    " \n",
    "redcar = Car()\n",
    "redcar.drive()\n",
    "redcar.maxspeed=300\n",
    "redcar.drive()"
   ]
  },
  {
   "cell_type": "markdown",
   "metadata": {},
   "source": [
    "Notice that name is still private because as per the class definition we don't intend name to be ever read or written directly. Does this mean that encapsulation is mute in Python? Not really, is just that it is implemented in a different way. We use decorators which we will learn about in further lessons but for the sake of context I'll introduce you to some of them.\n",
    "\n",
    "## Properties\n",
    "\n",
    "Instead of setters and getters, Python uses properties. Let's see how this works:"
   ]
  },
  {
   "cell_type": "code",
   "execution_count": 8,
   "metadata": {},
   "outputs": [
    {
     "name": "stdout",
     "output_type": "stream",
     "text": [
      "driving. maxspeed 200\n",
      "driving. maxspeed 300\n",
      "You can't have a negative speed\n"
     ]
    }
   ],
   "source": [
    "class Car:\n",
    " \n",
    "    maxspeed = 0\n",
    "    __name = \"\"\n",
    " \n",
    "    def __init__(self):\n",
    "        self.maxspeed = 200\n",
    "        self.__name = \"Supercar\"\n",
    "    @property\n",
    "    def maxspeed(self):\n",
    "        return self.__maxspeed\n",
    "    @maxspeed.setter\n",
    "    def maxspeed(self, maxspeed):\n",
    "        if maxspeed<0:\n",
    "            print('You can\\'t have a negative speed')\n",
    "        else:\n",
    "            self.__maxspeed=maxspeed\n",
    " \n",
    "    def drive(self):\n",
    "        print ('driving. maxspeed ' + str(self.maxspeed))\n",
    "\n",
    " \n",
    "redcar = Car()\n",
    "redcar.drive()\n",
    "redcar.maxspeed=300\n",
    "redcar.drive()\n",
    "redcar.maxspeed=-1"
   ]
  },
  {
   "cell_type": "markdown",
   "metadata": {},
   "source": [
    "The tag property is called a decorator, which allows a function to have another function as an argument (nested functions). Is okay if you are confused now, we haven't really learned about this topic but for now you just need know that property allows us to modify the way maxspeed is accessed and establish a condition on what is acceptable.\n",
    "\n",
    "As you write more complicated programs, you will need to make encapsulation a standard to ensure that your code doesn't break just because a worng value was written for an attribute.\n",
    "\n",
    "## Public vs Private\n",
    "\n",
    "Returning to the topic of inheritance, private and public attributes are inherited to the subclasses. But you still need to decide when to use each, and here is a guideline:\n",
    "\n",
    "1) Will the attribute be needed directly by the users of your class? (if yes it should be public)\n",
    "\n",
    "2) Is my code sensistive to the value that the user assigns to the attribute? (if yes then you need to use a property)\n",
    "\n",
    "# Multi Inheritance\n",
    "\n",
    "Ok so we learned about inheritance and we learned about encapsulation. Now let's look at multi inheritance. Not all OOP languages support full multi inheritance. For example Java only allows for inheriting specific interfaces. But Python allows a class to be fathered by two or more superclasses. As you guessed it, multi inheritance is declared as follows:\n",
    "\n",
    "class SubclassName(BaseClass1, BaseClass2, BaseClass3, ...):\n",
    "    pass\n",
    "    \n",
    "And a class with multiple parents will inherit them to its subclasses. Now let's assume we have a clock with a calendar and that it will inherit methods and attributes from a superclass called Clock and a superclass called Calendar. Here's our Clock class:\n"
   ]
  },
  {
   "cell_type": "code",
   "execution_count": null,
   "metadata": {},
   "outputs": [],
   "source": [
    "\"\"\" \n",
    "The class Clock is used to simulate a clock.\n",
    "\"\"\"\n",
    "\n",
    "class Clock(object):\n",
    "\n",
    "    def __init__(self, hours, minutes, seconds):\n",
    "        \"\"\"\n",
    "        The paramaters hours, minutes and seconds have to be \n",
    "        integers and must satisfy the following equations:\n",
    "        0 <= h < 24\n",
    "        0 <= m < 60\n",
    "        0 <= s < 60\n",
    "        \"\"\"\n",
    "\n",
    "        self.set_Clock(hours, minutes, seconds)\n",
    "\n",
    "    def set_Clock(self, hours, minutes, seconds):\n",
    "        \"\"\"\n",
    "        The parameters hours, minutes and seconds have to be \n",
    "        integers and must satisfy the following equations:\n",
    "        0 <= h < 24\n",
    "        0 <= m < 60\n",
    "        0 <= s < 60\n",
    "        \"\"\"\n",
    "\n",
    "        if type(hours) == int and 0 <= hours and hours < 24:\n",
    "            self._hours = hours\n",
    "        else:\n",
    "            raise TypeError(\"Hours have to be integers between 0 and 23!\")\n",
    "        if type(minutes) == int and 0 <= minutes and minutes < 60:\n",
    "            self.__minutes = minutes \n",
    "        else:\n",
    "            raise TypeError(\"Minutes have to be integers between 0 and 59!\")\n",
    "        if type(seconds) == int and 0 <= seconds and seconds < 60:\n",
    "            self.__seconds = seconds\n",
    "        else:\n",
    "            raise TypeError(\"Seconds have to be integers between 0 and 59!\")\n",
    "\n",
    "    def __str__(self):\n",
    "        return \"{0:02d}:{1:02d}:{2:02d}\".format(self._hours,\n",
    "                                                self.__minutes,\n",
    "                                                self.__seconds)\n",
    "\n",
    "    def tick(self):\n",
    "        \"\"\"\n",
    "        This method lets the clock \"tick\", this means that the \n",
    "        internal time will be advanced by one second.\n",
    "\n",
    "        Examples:\n",
    "        >>> x = Clock(12,59,59)\n",
    "        >>> print(x)\n",
    "        12:59:59\n",
    "        >>> x.tick()\n",
    "        >>> print(x)\n",
    "        13:00:00\n",
    "        >>> x.tick()\n",
    "        >>> print(x)\n",
    "        13:00:01\n",
    "        \"\"\"\n",
    "\n",
    "        if self.__seconds == 59:\n",
    "            self.__seconds = 0\n",
    "            if self.__minutes == 59:\n",
    "                self.__minutes = 0\n",
    "                if self._hours == 23:\n",
    "                    self._hours = 0\n",
    "                else:\n",
    "                    self._hours += 1\n",
    "            else:\n",
    "                self.__minutes += 1\n",
    "        else:\n",
    "            self.__seconds += 1\n",
    "\n",
    "\n",
    "if __name__ == \"__main__\":\n",
    "    x = Clock(23,59,59)\n",
    "    print(x)\n",
    "    x.tick()\n",
    "    print(x)\n",
    "    y = str(x)\n",
    "    print(type(y))"
   ]
  },
  {
   "cell_type": "markdown",
   "metadata": {},
   "source": [
    "All that fancy code adds format and plausability to inputed time. But for all intents and purposes this is a clock. You should understand all the code here so you can analyze it afterwards. Now here's a fancy Calendar class."
   ]
  },
  {
   "cell_type": "code",
   "execution_count": null,
   "metadata": {},
   "outputs": [],
   "source": [
    "\"\"\" \n",
    "The class Calendar implements a calendar.   \n",
    "\"\"\"\n",
    "\n",
    "class Calendar(object):\n",
    "\n",
    "    months = (31,28,31,30,31,30,31,31,30,31,30,31)\n",
    "    date_style = \"British\"\n",
    "\n",
    "    @staticmethod\n",
    "    def leapyear(year):\n",
    "        \"\"\" \n",
    "        The method leapyear returns True if the parameter year\n",
    "        is a leap year, False otherwise\n",
    "        \"\"\"\n",
    "        if not year % 4 == 0:\n",
    "            return False\n",
    "        elif not year % 100 == 0:\n",
    "            return True\n",
    "        elif not year % 400 == 0:\n",
    "            return False\n",
    "        else:\n",
    "            return True\n",
    "\n",
    "\n",
    "    def __init__(self, d, m, y):\n",
    "        \"\"\"\n",
    "        d, m, y have to be integer values and year has to be \n",
    "        a four digit year number\n",
    "        \"\"\"\n",
    "\n",
    "        self.set_Calendar(d,m,y)\n",
    "\n",
    "\n",
    "    def set_Calendar(self, d, m, y):\n",
    "        \"\"\"\n",
    "        d, m, y have to be integer values and year has to be \n",
    "        a four digit year number\n",
    "        \"\"\"\n",
    "\n",
    "        if type(d) == int and type(m) == int and type(y) == int:\n",
    "            self.__days = d\n",
    "            self.__months = m\n",
    "            self.__years = y\n",
    "        else:\n",
    "            raise TypeError(\"d, m, y have to be integers!\")\n",
    "\n",
    "\n",
    "    def __str__(self):\n",
    "        if Calendar.date_style == \"British\":\n",
    "            return \"{0:02d}/{1:02d}/{2:4d}\".format(self.__days,\n",
    "                                                   self.__months,\n",
    "                                                   self.__years)\n",
    "        else: \n",
    "            # assuming American style\n",
    "            return \"{0:02d}/{1:02d}/{2:4d}\".format(self.__months,\n",
    "                                                   self.__days,\n",
    "                                                   self.__years)\n",
    "\n",
    "\n",
    "\n",
    "    def advance(self):\n",
    "        \"\"\"\n",
    "        This method advances to the next date.\n",
    "        \"\"\"\n",
    "\n",
    "        max_days = Calendar.months[self.__months-1]\n",
    "        if self.__months == 2 and Calendar.leapyear(self.__years):\n",
    "            max_days += 1\n",
    "        if self.__days == max_days:\n",
    "            self.__days= 1\n",
    "            if self.__months == 12:\n",
    "                self.__months = 1\n",
    "                self.__years += 1\n",
    "            else:\n",
    "                self.__months += 1\n",
    "        else:\n",
    "            self.__days += 1\n",
    "\n",
    "\n",
    "if __name__ == \"__main__\":\n",
    "    x = Calendar(31,12,2012)\n",
    "    print(x, end=\" \")\n",
    "    x.advance()\n",
    "    print(\"after applying advance: \", x)\n",
    "    print(\"2012 was a leapyear:\")\n",
    "    x = Calendar(28,2,2012)\n",
    "    print(x, end=\" \")\n",
    "    x.advance()\n",
    "    print(\"after applying advance: \", x)\n",
    "    x = Calendar(28,2,2013)\n",
    "    print(x, end=\" \")\n",
    "    x.advance()\n",
    "    print(\"after applying advance: \", x)\n",
    "    print(\"1900 no leapyear: number divisible by 100 but not by 400: \")\n",
    "    x = Calendar(28,2,1900)\n",
    "    print(x, end=\" \")\n",
    "    x.advance()\n",
    "    print(\"after applying advance: \", x)\n",
    "    print(\"2000 was a leapyear, because number divisibe by 400: \")\n",
    "    x = Calendar(28,2,2000)\n",
    "    print(x, end=\" \")\n",
    "    x.advance()\n",
    "    print(\"after applying advance: \", x)\n",
    "    print(\"Switching to American date style: \")\n",
    "    Calendar.date_style = \"American\"\n",
    "    print(\"after applying advance: \", x)  "
   ]
  },
  {
   "cell_type": "markdown",
   "metadata": {},
   "source": [
    "Now let's implement our multiple inheritance with our CalendarClock:"
   ]
  },
  {
   "cell_type": "code",
   "execution_count": null,
   "metadata": {},
   "outputs": [],
   "source": [
    "\"\"\" \n",
    "Modul, which implements the class CalendarClock.\n",
    "\"\"\"\n",
    "\n",
    "class CalendarClock(Clock, Calendar):\n",
    "    \"\"\" \n",
    "        The class CalendarClock implements a clock with integrated \n",
    "        calendar. It's a case of multiple inheritance, as it inherits \n",
    "        both from Clock and Calendar      \n",
    "    \"\"\"\n",
    "\n",
    "    def __init__(self,day, month, year, hour, minute, second):\n",
    "        Clock.__init__(self,hour, minute, second)\n",
    "        Calendar.__init__(self,day, month, year)\n",
    "\n",
    "\n",
    "\n",
    "    def __str__(self):\n",
    "        return Calendar.__str__(self) + \", \" + Clock.__str__(self)\n",
    "\n",
    "\n",
    "if __name__ == \"__main__\":\n",
    "    x = CalendarClock(31,12,2013,23,59,59)\n",
    "    print(\"One tick from \",x, end=\" \")\n",
    "    x.tick()\n",
    "    print(\"to \", x)\n",
    "\n",
    "    x = CalendarClock(28,2,1900,23,59,59)\n",
    "    print(\"One tick from \",x, end=\" \")\n",
    "    x.tick()\n",
    "    print(\"to \", x)\n",
    "\n",
    "    x = CalendarClock(28,2,2000,23,59,59)\n",
    "    print(\"One tick from \",x, end=\" \")\n",
    "    x.tick()\n",
    "    print(\"to \", x)\n",
    "\n",
    "    x = CalendarClock(7,2,2013,13,55,40)\n",
    "    print(\"One tick from \",x, end=\" \")\n",
    "    x.tick()\n",
    "    print(\"to \", x)"
   ]
  },
  {
   "attachments": {
    "multiple_inheritance_diamond.png": {
     "image/png": "[encoded data removed]"
    }
   },
   "cell_type": "markdown",
   "metadata": {},
   "source": [
    "Now let's see. We are overloading the init() class to take in time and date and that's it. All the methods from Calendar and Clock were inherited. And just like that multi-inheritance is applied.\n",
    "\n",
    "### The diamond problem\n",
    "\n",
    "![multiple_inheritance_diamond.png](attachment:multiple_inheritance_diamond.png)\n",
    "\n",
    "The diamond problem is the favorite conundrum for oppositors of multiple inheritance. If B and C are subclasses of A, and have overriden methods of A, and then D inherits from B and C, then which method will D inherit?  Let's check it out"
   ]
  },
  {
   "cell_type": "code",
   "execution_count": null,
   "metadata": {},
   "outputs": [],
   "source": [
    "class A:\n",
    "    def m(self):\n",
    "        print(\"m of A called\")\n",
    "\n",
    "class B(A):\n",
    "    def m(self):\n",
    "        print(\"m of B called\")\n",
    "    \n",
    "class C(A):\n",
    "    def m(self):\n",
    "        print(\"m of C called\")\n",
    "\n",
    "class D(B,C):\n",
    "    pass\n",
    "\n",
    "d=D()\n",
    "print(d)\n",
    "d.m()"
   ]
  },
  {
   "cell_type": "markdown",
   "metadata": {},
   "source": [
    "Interesting, D inheritted the method from B and ignored A and C. This is because of the order of inheritance, notice that D inherits from B first (since inheritance is in the form of B,C) so the first class supercedes the second.\n",
    "\n",
    "But what about if B doesn't override A, wht will happen?"
   ]
  },
  {
   "cell_type": "code",
   "execution_count": null,
   "metadata": {},
   "outputs": [],
   "source": [
    "class A:\n",
    "    def m(self):\n",
    "        print(\"m of A called\")\n",
    "\n",
    "class B(A):\n",
    "    pass\n",
    "    \n",
    "class C(A):\n",
    "    def m(self):\n",
    "        print(\"m of C called\")\n",
    "\n",
    "class D(B,C):\n",
    "    pass\n",
    "\n",
    "x = D()\n",
    "x.m()"
   ]
  },
  {
   "cell_type": "markdown",
   "metadata": {},
   "source": [
    "We get C. That is because children supercede fathers in inheritance, so whil B didn't overload, C did. (Note: In Python 2 this would have been m of A called because inheritance obeys the first parent and if the first parent doesn't overload then it goes to it's parent.)\n",
    "\n",
    "Now we can also make D inherit from all three classes:"
   ]
  },
  {
   "cell_type": "code",
   "execution_count": null,
   "metadata": {},
   "outputs": [],
   "source": [
    "class A:\n",
    "    def m(self):\n",
    "        print(\"m of A called\")\n",
    "\n",
    "class B(A):\n",
    "    def m(self):\n",
    "        print(\"m of B called\")\n",
    "        A.m(self)\n",
    "    \n",
    "class C(A):\n",
    "    def m(self):\n",
    "        print(\"m of C called\")\n",
    "        A.m(self)\n",
    "\n",
    "class D(B,C):\n",
    "    def m(self):\n",
    "        print(\"m of D called\")\n",
    "        B.m(self)\n",
    "        C.m(self)\n",
    "        \n",
    "x = D()\n",
    "x.m()"
   ]
  },
  {
   "cell_type": "markdown",
   "metadata": {},
   "source": [
    "There is one problem though, A is called twice, once per inheritance level. This is not right, let's solve it by using the super() function"
   ]
  },
  {
   "cell_type": "code",
   "execution_count": null,
   "metadata": {},
   "outputs": [],
   "source": [
    "class A:\n",
    "    def m(self):\n",
    "        print(\"m of A called\")\n",
    "\n",
    "class B(A):\n",
    "    def m(self):\n",
    "        print(\"m of B called\")\n",
    "        super().m()\n",
    "    \n",
    "class C(A):\n",
    "    def m(self):\n",
    "        print(\"m of C called\")\n",
    "        super().m()\n",
    "\n",
    "class D(B,C):\n",
    "    def m(self):\n",
    "        print(\"m of D called\")\n",
    "        super().m()\n",
    "x = D()\n",
    "x.m()"
   ]
  },
  {
   "cell_type": "markdown",
   "metadata": {},
   "source": [
    "The super function calls upon the method from the superclass following somehting called method resolution order. What's happening here is that D is calling B, which is calling A. When it calls C it doesn't call A again because B supercedes C."
   ]
  },
  {
   "cell_type": "markdown",
   "metadata": {},
   "source": [
    "## Polymorphism\n",
    "\n",
    "Polymorphism means multiple forms. It is the ability to have the same interface for different underlying forms. Basically you can have the same method name but with different behaviors."
   ]
  },
  {
   "cell_type": "code",
   "execution_count": null,
   "metadata": {},
   "outputs": [],
   "source": [
    "def f(x, y):\n",
    "    print(\"values: \", x, y)\n",
    "\n",
    "f(42, 43)\n",
    "f(42, 43.7) \n",
    "f(42.3, 43)\n",
    "f(42.0, 43.9)\n",
    "f([23,24],23)"
   ]
  },
  {
   "cell_type": "markdown",
   "metadata": {},
   "source": [
    "Python handles polymorhism implicitly which makes for a very elegant implementation. In this case f() can take in ints or floats without having to declare a method for each one. We can even use lists how crazy!!!!"
   ]
  },
  {
   "cell_type": "markdown",
   "metadata": {
    "collapsed": true
   },
   "source": [
    "## Examples of inheritance\n",
    "\n",
    "The following class inherits a dictionary and overloads some operators to it"
   ]
  },
  {
   "cell_type": "code",
   "execution_count": 12,
   "metadata": {},
   "outputs": [
    {
     "name": "stdout",
     "output_type": "stream",
     "text": [
      "<class 'list'>\n",
      "pdefaultdict(<class 'list'>,{'a': ['x']})\n"
     ]
    },
    {
     "ename": "KeyError",
     "evalue": "'a'",
     "output_type": "error",
     "traceback": [
      "\u001b[1;31m---------------------------------------------------------------------------\u001b[0m",
      "\u001b[1;31mKeyError\u001b[0m                                  Traceback (most recent call last)",
      "\u001b[1;32m<ipython-input-12-1413ae4c5851>\u001b[0m in \u001b[0;36m<module>\u001b[1;34m()\u001b[0m\n\u001b[0;32m     24\u001b[0m \u001b[0mprint\u001b[0m\u001b[1;33m(\u001b[0m\u001b[0mx\u001b[0m\u001b[1;33m)\u001b[0m\u001b[1;33m\u001b[0m\u001b[0m\n\u001b[0;32m     25\u001b[0m \u001b[0my\u001b[0m\u001b[1;33m=\u001b[0m\u001b[0mdict\u001b[0m\u001b[1;33m(\u001b[0m\u001b[1;33m)\u001b[0m\u001b[1;33m\u001b[0m\u001b[0m\n\u001b[1;32m---> 26\u001b[1;33m \u001b[0my\u001b[0m\u001b[1;33m[\u001b[0m\u001b[1;34m'a'\u001b[0m\u001b[1;33m]\u001b[0m\u001b[1;33m.\u001b[0m\u001b[0mappend\u001b[0m\u001b[1;33m(\u001b[0m\u001b[1;34m'y'\u001b[0m\u001b[1;33m)\u001b[0m\u001b[1;33m\u001b[0m\u001b[0m\n\u001b[0m\u001b[0;32m     27\u001b[0m \u001b[0mprint\u001b[0m\u001b[1;33m(\u001b[0m\u001b[0my\u001b[0m\u001b[1;33m)\u001b[0m\u001b[1;33m\u001b[0m\u001b[0m\n",
      "\u001b[1;31mKeyError\u001b[0m: 'a'"
     ]
    }
   ],
   "source": [
    "class pdefaultdict(dict):\n",
    "    def __init__(self,default_factory=None,initial_dict=[],**kargs):\n",
    "        dict.__init__(self,initial_dict,**kargs) # call to initialize base-class\n",
    "        self._default_factory = default_factory  # used in overridden methods\n",
    "        \n",
    "    def __repr__(self):\n",
    "        return 'pdefaultdict('+str(self._default_factory)+','+dict.__repr__(self)+')'\n",
    "\n",
    "    # When accessing d[key] the inherited method __getitem__ is\n",
    "    #   called; if it finds key is not in the dictionary, it calls\n",
    "    #   self.__missing__(key), returns the result of executing this\n",
    "    #   method, which uses default_factory, if present, to create a\n",
    "    #   value associated with d[key] and return that value\n",
    "    def __missing__(self,key):\n",
    "        if self._default_factory == None:\n",
    "            dict.__missing__(self,key)       # same as: raise KeyError(str(key))\n",
    "        result    = self._default_factory()  # Call default, with no arguments\n",
    "        self[key] = result\t\t     # Store it in the pdefaultdict\n",
    "        return result\t\t\t     # Return a reference to it\n",
    "\n",
    "x = pdefaultdict(list)\n",
    "print(x._default_factory)\n",
    "x['a'].append('x')\n",
    "print(x)\n",
    "y=dict()\n",
    "y['a'].append('y')\n",
    "print(y)\n"
   ]
  },
  {
   "cell_type": "markdown",
   "metadata": {},
   "source": [
    " (1) The standard dict.\\__init__ method has default-value parameters (a) an\n",
    "  iterable of items to pre-load the dictionary and (b) any number of item\n",
    "  parameters of the form key=value (collected in **kargs and added to the\n",
    "  dictionary after the pre-loaded items).\n",
    "\n",
    "  IMPORTANT: We don't have to know how dict.\\__init__ processes such data. We\n",
    "  do need to be aware of what arguments it expects/processes, and supply\n",
    "  parameters for these arguments to pdefaultdict.\\__init__, so its can pass them\n",
    "  along to dict.\\__init__ for real processing (just like init_value in Counter).\n",
    "\n",
    "  The pdefaultdict.\\__init__ method also has an extra default_factory\n",
    "  parameter: it uses its second two parameters to call dict.\\__init__ and then\n",
    "  also stores default_factory as an attribute the newly constructed pdefauldict\n",
    "  object, where it is used in the overridden methods \\__repr__ and \\__missing___.\n",
    "\n",
    "  (2) The pdefaultdict.\\__repr__ method returns the appropriate string, including\n",
    "  the name 'pdefaultdict', the special reference to a class/function to call\n",
    "  for missing keys, and the current contents of the dictionary . Of special\n",
    "  interest is that fact that there is an explicit call to dict.\\__repr__(self)\n",
    "  in this method, which overrides \\__repr__, to show the dict part of the\n",
    "  pdefaultdict.\n",
    "\n",
    "  (3) The pdefaultdict.\\__missing__ method supplies the main difference \n",
    "  between dicts and defaultdicts, by overriding the dict.\\__missing__ method\n",
    "  (which in dict always raises KeyError): here, so long as self.default_factory\n",
    "  is not None (meaning an argument has been supplied to this parameter in its\n",
    "  \\__init__), it is called to produce an initial value to associate with the\n",
    "  missing key.\n",
    "\n",
    "  (4) Any other operator/method applied to a pdefaultdict object executes the\n",
    "  corresponding method inherited from dict: there are very many of these\n",
    "  inherited (and not overridden) methods.\n",
    "  \n",
    "  ## Multiple inheritance\n",
    "  \n",
    "  Now we will switch to a discussion of mix-in inheritance. Typically a mix-in\n",
    "base class is something small that other classes can be derived from, to\n",
    "inherit their behavior. For example, the Privacy class (itself derived from\n",
    "object) ensures that certain attributes are never rebound: its __setattr__\n",
    "method raises PrivacyError (defined above) if the attribute is in the set of the\n",
    "'privates' attribute: if o is constructed from a class that is derived from\n",
    "Privacy, then if we write o.attr = ..., and attr is one of the strings in\n",
    "o.privates, then Python will raise PrivacyError in the inherited __setattr__\n",
    "method.\n",
    "\n",
    "The reasoning behind how Privacy works (see the Test class that is derived from\n",
    "it) depends on our knowledge of how attributes are located: inside the object\n",
    "or inside the class the object was constructed from. Here is the actual code and\n",
    "an analysis of what is happening."
   ]
  },
  {
   "cell_type": "code",
   "execution_count": 13,
   "metadata": {},
   "outputs": [
    {
     "name": "stdout",
     "output_type": "stream",
     "text": [
      "__setattr__: privates to be set to set() ; privates =  {'y'}\n",
      "__setattr__: x to be set to 0 ; privates =  set()\n",
      "__setattr__: y to be set to 1 ; privates =  set()\n",
      "__setattr__: x to be set to rebound ; privates =  {'y'}\n",
      "__setattr__: y to be set to rebound ; privates =  {'y'}\n"
     ]
    },
    {
     "ename": "PrivacyError",
     "evalue": "Privacy: attempt to set private: y to rebound",
     "output_type": "error",
     "traceback": [
      "\u001b[1;31m---------------------------------------------------------------------------\u001b[0m",
      "\u001b[1;31mPrivacyError\u001b[0m                              Traceback (most recent call last)",
      "\u001b[1;32m<ipython-input-13-c37552723fdd>\u001b[0m in \u001b[0;36m<module>\u001b[1;34m()\u001b[0m\n\u001b[0;32m     24\u001b[0m \u001b[0mt\u001b[0m \u001b[1;33m=\u001b[0m \u001b[0mTest\u001b[0m\u001b[1;33m(\u001b[0m\u001b[1;36m0\u001b[0m\u001b[1;33m,\u001b[0m\u001b[1;36m1\u001b[0m\u001b[1;33m)\u001b[0m\u001b[1;33m\u001b[0m\u001b[0m\n\u001b[0;32m     25\u001b[0m \u001b[0mt\u001b[0m\u001b[1;33m.\u001b[0m\u001b[0mx\u001b[0m \u001b[1;33m=\u001b[0m \u001b[1;34m'rebound'\u001b[0m\u001b[1;33m\u001b[0m\u001b[0m\n\u001b[1;32m---> 26\u001b[1;33m \u001b[0mt\u001b[0m\u001b[1;33m.\u001b[0m\u001b[0my\u001b[0m \u001b[1;33m=\u001b[0m \u001b[1;34m'rebound'\u001b[0m\u001b[1;33m\u001b[0m\u001b[0m\n\u001b[0m",
      "\u001b[1;32m<ipython-input-13-c37552723fdd>\u001b[0m in \u001b[0;36m__setattr__\u001b[1;34m(self, attr_name, new_value)\u001b[0m\n\u001b[0;32m      8\u001b[0m         \u001b[1;32mif\u001b[0m \u001b[0mattr_name\u001b[0m \u001b[1;32min\u001b[0m \u001b[0mself\u001b[0m\u001b[1;33m.\u001b[0m\u001b[0mprivates\u001b[0m\u001b[1;33m:\u001b[0m\u001b[1;33m\u001b[0m\u001b[0m\n\u001b[0;32m      9\u001b[0m             raise PrivacyError('Privacy: attempt to set private: '+\n\u001b[1;32m---> 10\u001b[1;33m                                attr_name+' to '+str(new_value))\n\u001b[0m\u001b[0;32m     11\u001b[0m         \u001b[1;32melse\u001b[0m\u001b[1;33m:\u001b[0m\u001b[1;33m\u001b[0m\u001b[0m\n\u001b[0;32m     12\u001b[0m             \u001b[0mself\u001b[0m\u001b[1;33m.\u001b[0m\u001b[0m__dict__\u001b[0m\u001b[1;33m[\u001b[0m\u001b[0mattr_name\u001b[0m\u001b[1;33m]\u001b[0m \u001b[1;33m=\u001b[0m \u001b[0mnew_value\u001b[0m\u001b[1;33m\u001b[0m\u001b[0m\n",
      "\u001b[1;31mPrivacyError\u001b[0m: Privacy: attempt to set private: y to rebound"
     ]
    }
   ],
   "source": [
    "class PrivacyError(Exception):\n",
    "    pass # inherit __init__/constructor\n",
    "        \n",
    "\n",
    "class Privacy:\n",
    "    def __setattr__(self,attr_name,new_value):\n",
    "        print('__setattr__:',attr_name,'to be set to',new_value,'; privates = ',self.privates) # for illustration\n",
    "        if attr_name in self.privates:\n",
    "            raise PrivacyError('Privacy: attempt to set private: '+\n",
    "                               attr_name+' to '+str(new_value))\n",
    "        else:\n",
    "            self.__dict__[attr_name] = new_value\n",
    "\n",
    "class Test(Privacy): # mix-in a single base class: Privacy\n",
    "    privates = {'y'} # y attribute of Test objects cannot be rebound after __init__\n",
    "\n",
    "    def __init__(self,x,y):\n",
    "        self.privates = set() # allow setting x y attributes; privates now found in object\n",
    "        self.x = x  \n",
    "        self.y = y\n",
    "        del self.privates     # now use class attribute privates above for future privacy\n",
    "\n",
    "        \n",
    "t = Test(0,1)\n",
    "t.x = 'rebound'\n",
    "t.y = 'rebound'"
   ]
  },
  {
   "cell_type": "markdown",
   "metadata": {},
   "source": [
    "(1) When Python defines the Test class it has two attributes: privates is a\n",
    "name in the class namespace bound to {'y'} and \\__init__ is bound to its defined\n",
    "method.\n",
    "\n",
    "(2) When Python executes t = Test(0,1), Test.\\__init__ is called.\n",
    "\n",
    "  (2a) When Python executes self.privates = {}, it calls the \\__setattr__ method\n",
    "  inherited from Privacy; at this point it looks up self.privates, doesn't find\n",
    "  'privates' in the object (yet; see the result of this statement) so it tries\n",
    "  to look up the attribute in the Test class, where its value is {'y'}; since\n",
    "  'privates' -which is being bound- is not in this set,\\__setattr__ binds the\n",
    "  'privates' attribute to {} IN THE OBJECT being constructed.\n",
    "\n",
    "  (2b) When Python executes self.x = x, it calls the \\__setattr__ method\n",
    "  inherited from Privacy; at this point it looks up self.privates, and finds\n",
    "  'privates' IN THE OBJECT (see 2a), where its value is {}; since 'x' is not in\n",
    "  this set, \\__setattr__ binds the 'x' attribute to 0 in the object being\n",
    "  constructed.\n",
    "\n",
    "  (2c) When Python executes self.y = y, the same series of events happen (as\n",
    "  in 2b), and  \\__setattr__ binds the 'y' attribute to 1 in the object being\n",
    "  constructed.\n",
    "\n",
    "  (2d) When Python executes del self.privates it removes the 'privates'\n",
    "  attribute from the self object. After \\__init__ finishes, the object created\n",
    "  will not have a 'privates' attribute, so in the future when Python looks up\n",
    "  self.privates in \\__setattr__, it will find the 'privates' attribute not in\n",
    "  the object but instead in the Test class (bound to {'y'}) from which the\n",
    "  object was constructed.\n",
    "\n",
    "(3) When Python executes t.x = 'rebound',  it calls the \\__setattr__ method\n",
    "  inherited from Privacy; at this point it looks up self.privates, and finds\n",
    "  'privates' in the Test class (bound to {'y'}); since 'x' is not in this set,\n",
    "  \\__setattr__ binds the 'x' attribute in t's object to 'rebound'.\n",
    "\n",
    "(3) When Python executes t.y = 'rebound',  it calls the \\__setattr__ method\n",
    "  inherited from Privacy; at this point it looks up self.privates, and finds\n",
    "  'privates' in the Test class (bound to {'y'}); since 'y' is in this set,\n",
    "  \\__setattr__ raises an exception."
   ]
  },
  {
   "cell_type": "code",
   "execution_count": null,
   "metadata": {},
   "outputs": [],
   "source": []
  }
 ],
 "metadata": {
  "kernelspec": {
   "display_name": "Python 3",
   "language": "python",
   "name": "python3"
  },
  "language_info": {
   "codemirror_mode": {
    "name": "ipython",
    "version": 3
   },
   "file_extension": ".py",
   "mimetype": "text/x-python",
   "name": "python",
   "nbconvert_exporter": "python",
   "pygments_lexer": "ipython3",
   "version": "3.6.5"
  }
 },
 "nbformat": 4,
 "nbformat_minor": 2
}
