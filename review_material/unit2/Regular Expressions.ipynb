{
 "cells": [
  {
   "cell_type": "markdown",
   "metadata": {},
   "source": [
    "## Regular Expressions"
   ]
  },
  {
   "cell_type": "markdown",
   "metadata": {},
   "source": [
    "Regular expressions are special patterns that we can specify as strings that are useful for searching element in a text. Mastering them takes practice and time but they are really powerful in many way. In this lesson we will review some of the ways that regular expressions can be used and also hwo to combine them with functions."
   ]
  },
  {
   "cell_type": "markdown",
   "metadata": {},
   "source": [
    "## Characters\n",
    "\n",
    "Characters match themselves. That means that the regular expression for 'a' is 'a' and so on."
   ]
  },
  {
   "cell_type": "code",
   "execution_count": 3,
   "metadata": {},
   "outputs": [
    {
     "name": "stdout",
     "output_type": "stream",
     "text": [
      "<_sre.SRE_Match object; span=(55, 56), match='a'>\n"
     ]
    }
   ],
   "source": [
    "import re ##re is the python module you need for regular expressions\n",
    "t = 'The quick brown fox born on 1/23/2013 jumped over the lazy dog born on 10/6/10.'\n",
    "match1=re.search(r'a', t)\n",
    "print(match1)"
   ]
  },
  {
   "cell_type": "markdown",
   "metadata": {},
   "source": [
    "There are several thing to notice from the previous code. First of all we need to import the module re. Re is the official Python module for regular expressions which includes regex, a revisited updated version of re (note: old documentation bout regular expressions will differ due to this update)\n",
    "\n",
    "Next the re.search() method return the indexes of the matching string. Usage is re.search(pattern, string). The returned object is an SRE_Match type.\n",
    "\n",
    "Finally the r'a'. In this case r is used as an expression which means that the pattern should be interpreted as raw string, meaning that if we were looking for '\\n' it would be considered as \\n and not as new line"
   ]
  },
  {
   "cell_type": "markdown",
   "metadata": {},
   "source": [
    "### Metacharacters\n",
    "\n",
    "These are special characters that denote a special match in the text"
   ]
  },
  {
   "cell_type": "code",
   "execution_count": 4,
   "metadata": {},
   "outputs": [
    {
     "name": "stdout",
     "output_type": "stream",
     "text": [
      "<_sre.SRE_Match object; span=(0, 3), match='The'>\n",
      "<_sre.SRE_Match object; span=(2, 3), match='e'>\n",
      "<_sre.SRE_Match object; span=(7, 8), match='c'>\n",
      "<_sre.SRE_Match object; span=(0, 1), match='T'>\n",
      "<_sre.SRE_Match object; span=(4, 5), match='q'>\n"
     ]
    }
   ],
   "source": [
    "match1=re.search('T.e', t) ## '.' matches any character except for \\n\n",
    "print(match1)\n",
    "\n",
    "match1=re.search('[ie]', t)  ## []\tMatches one character specified inside square brackets []; e.g., [aeiou]\n",
    "print(match1)\n",
    "\n",
    "match1=re.search('[a-d]', t)  ## -   Matches one character in range inside []: e.g., [0-9] matches any digit\n",
    "print(match1)\n",
    "\n",
    "match1=re.search('[A-Z]', t)  ##     To match any letter (upper/lower case) or digit we write [A-Za-z0-9]\n",
    "print(match1)\n",
    "\n",
    "match1=re.search('[^The ]', t)  ##  [^]\tMatches any one character NOT specified inside [^]; e.g., [^aeiou]\n",
    "print(match1)\n",
    "\n",
    "\n"
   ]
  },
  {
   "cell_type": "markdown",
   "metadata": {},
   "source": [
    "The following are called anchors, they don't really match anything in the text but reference the beginning and the end of a line"
   ]
  },
  {
   "cell_type": "code",
   "execution_count": 5,
   "metadata": {},
   "outputs": [
    {
     "name": "stdout",
     "output_type": "stream",
     "text": [
      "<_sre.SRE_Match object; span=(0, 3), match='The'>\n",
      "<_sre.SRE_Match object; span=(76, 79), match='10.'>\n"
     ]
    }
   ],
   "source": [
    "## Anchors\n",
    "\n",
    "match1=re.search('^...', t)  ##  ^\tmatches beginning of line (when not used in [^])\n",
    "print(match1)\n",
    "\n",
    "match1=re.search('...$', t)  ##   $\tmatches end of line (when not used in [] or [^])\n",
    "print(match1)"
   ]
  },
  {
   "cell_type": "markdown",
   "metadata": {},
   "source": [
    "Patterns are modifiers to regular expressions. In the notation consider R, Ra and Rb to be three different expressions"
   ]
  },
  {
   "cell_type": "code",
   "execution_count": 6,
   "metadata": {},
   "outputs": [
    {
     "name": "stdout",
     "output_type": "stream",
     "text": [
      "<_sre.SRE_Match object; span=(0, 9), match='The quick'>\n",
      "<_sre.SRE_Match object; span=(0, 3), match='The'>\n",
      "<_sre.SRE_Match object; span=(0, 2), match='Th'>\n",
      "<_sre.SRE_Match object; span=(0, 0), match=''>\n"
     ]
    }
   ],
   "source": [
    "## Patterns\n",
    "\n",
    "match1=re.search('T.e' ' quick', t)  ##RaRb\tMatches a sequence (one after the other) of Ra followed by Rb\n",
    "print(match1)\n",
    "\n",
    "match1=re.search('Tha|The', t)  ##   Ra|Rb\tMatches either alternative Ra or Rb \n",
    "print(match1)\n",
    "\n",
    "match1=re.search('Tha?', t)  ##   R?\tMatches regular expression R 0/1 time: e.g., R is optional\n",
    "print(match1)\n",
    "\n",
    "match1=re.search('s*', t)  ##   R*\tMatches regular expression R 0 or more times\n",
    "print(match1)\n",
    "\n"
   ]
  },
  {
   "cell_type": "code",
   "execution_count": 16,
   "metadata": {},
   "outputs": [
    {
     "name": "stdout",
     "output_type": "stream",
     "text": [
      "None\n",
      "None\n",
      "None\n"
     ]
    }
   ],
   "source": [
    "match1=re.search('s+', t)  ##  R+\tMatches regular expression R 1 or more times (note */+ difference)\n",
    "print(match1)\n",
    "\n",
    "match1=re.search('q{2}', t)  ##  R{m}\tMatches regular expression R exactly m times: e.g., R{5} = RRRRR\n",
    "print(match1)\n",
    "\n",
    "match1=re.search('o{3,4}', t)  ##   R{m,n}\tMatches regular expression R at least m and at most n times:\n",
    "                             ##   R{3,5} = RRR|RRRR|RRRRR = RRRR?R?\n",
    "print(match1)"
   ]
  },
  {
   "cell_type": "markdown",
   "metadata": {
    "collapsed": true
   },
   "source": [
    "## Parentheses\n",
    "\n",
    "Groups are marked by the '(', ')' metacharacters. '(' and ')' have much the same meaning as they do in mathematical expressions; they group together the expressions contained inside them, and you can repeat the contents of a group with a repeating qualifier, such as *, +, ?, or {m,n}. For example, (ab)* will match zero or more repetitions of ab."
   ]
  },
  {
   "cell_type": "code",
   "execution_count": 42,
   "metadata": {},
   "outputs": [
    {
     "name": "stdout",
     "output_type": "stream",
     "text": [
      "foxes\n",
      "fox\n",
      "o\n",
      "('fox', 'ox', 'o')\n",
      "<_sre.SRE_Match object; span=(0, 5), match='foxes'>\n"
     ]
    }
   ],
   "source": [
    "m = re.compile ('(f((o)x))..')\n",
    "match1=m.match('foxes')  ##  (R)\t     Matches R and delimits a group (1, 2, ...) (remembers/captures matched text in a group)\n",
    "print(match1.group(0))\n",
    "print(match1.group(1))\n",
    "print(match1.group(3))\n",
    "print(match1.groups())\n",
    "print(match1)"
   ]
  },
  {
   "cell_type": "markdown",
   "metadata": {},
   "source": [
    "We used two different operators here:\n",
    "\n",
    "Groups() returns a tuple containing the strings for all the subgroups in a matched pattern\n",
    "\n",
    "Group(#) returns the subpatterns by index\n",
    "\n",
    "Compile() transforms the expression into a pattern object."
   ]
  },
  {
   "cell_type": "markdown",
   "metadata": {},
   "source": [
    "Each new left parenthesis starts a new group (unless it is \"(?:...)\"). Some\n",
    "  groups are sequential (one after another); some groups are nested (one inside\n",
    "  another). \n",
    "\n",
    "Group 0 (in Python) is considered the entire regular expression, even when\n",
    "it is not in any parentheses. So, in the pattern \"a(b(cd)+)?e\"\n",
    "\n",
    "  Group 0 is a(b(c.d)+)?e\n",
    "  \n",
    "  Group 1 is (b(c.d)+)\n",
    "  \n",
    "  Group 2 is (c.d)\n"
   ]
  },
  {
   "cell_type": "markdown",
   "metadata": {},
   "source": [
    "## Escape characters\n",
    "\n",
    "We will look more into grouping later on, but for now let's look at escape characters. These are characters with special meanings, you may already know some. First we need to make the text a little more interesting."
   ]
  },
  {
   "cell_type": "code",
   "execution_count": 46,
   "metadata": {},
   "outputs": [
    {
     "name": "stdout",
     "output_type": "stream",
     "text": [
      "These are my favorite meals: \n",
      " \t burgers \n",
      " \t enchiladas \n",
      " \t tacos\n"
     ]
    }
   ],
   "source": [
    "t = 'These are my favorite meals: \\n \\t burgers \\n \\t enchiladas \\n \\t tacos'\n",
    "print(t)  ##\\n means new line \\t means tab they can be used to search a text as well"
   ]
  },
  {
   "cell_type": "code",
   "execution_count": 51,
   "metadata": {},
   "outputs": [
    {
     "name": "stdout",
     "output_type": "stream",
     "text": [
      "This is a list of numbers: \n",
      " 1 \n",
      " \n",
      "    2  \r",
      " 3\n"
     ]
    }
   ],
   "source": [
    "t = 'This is a list of numbers: \\n 1 \\n \\n    2  \\r 3' \n",
    "print(t) ##\\r is carriage return, i.e. return to beginning of line"
   ]
  },
  {
   "cell_type": "code",
   "execution_count": 58,
   "metadata": {},
   "outputs": [
    {
     "name": "stdout",
     "output_type": "stream",
     "text": [
      "Top of the world \u000b",
      " bottom of the world \f",
      " ?\n"
     ]
    }
   ],
   "source": [
    "t = 'Top of the world \\v bottom of the world \\f ?' \n",
    "print(t) ## \\v used to be vertical tab, now it translates to an obsolete symbol\n",
    "\\f is hard to visualize here but it means form feed, equivalent to \"next page\""
   ]
  },
  {
   "cell_type": "code",
   "execution_count": 61,
   "metadata": {},
   "outputs": [
    {
     "name": "stdout",
     "output_type": "stream",
     "text": [
      "<_sre.SRE_Match object; span=(29, 30), match='1'>\n",
      "<_sre.SRE_Match object; span=(0, 1), match='T'>\n",
      "<_sre.SRE_Match object; span=(4, 5), match=' '>\n",
      "<_sre.SRE_Match object; span=(0, 1), match='T'>\n",
      "<_sre.SRE_Match object; span=(0, 1), match='T'>\n",
      "<_sre.SRE_Match object; span=(4, 5), match=' '>\n"
     ]
    }
   ],
   "source": [
    "t = 'This is a list of numbers: \\n 1 \\n \\n    2  \\r 3' \n",
    "match1=re.search('\\d', t)  ##  [0-9]\t\t\tDigit\n",
    "print(match1)\n",
    "\n",
    "match1=re.search('\\D', t)  ##  [^0-9]\t\t\tnon-Digit\n",
    "print(match1)\n",
    "\n",
    "match1=re.search('\\s', t)  ##  [ \\t\\n\\r\\f\\v]\t\tWhite space\n",
    "print(match1)\n",
    "\n",
    "match1=re.search('\\S', t)  ##  [^ \\t\\n\\r\\f\\v]\t\tnon-White space\n",
    "print(match1)\n",
    "\n",
    "match1=re.search('\\w', t)  ##  [a-zA-Z0-9_]\t\talphanumeric(or underscore): used in identifiers\n",
    "print(match1)\n",
    "\n",
    "match1=re.search('\\W', t)  ##  [^a-zA-Z0-9_]\t\tnon alphanumeric\n",
    "print(match1)\n"
   ]
  },
  {
   "cell_type": "code",
   "execution_count": 68,
   "metadata": {},
   "outputs": [
    {
     "name": "stdout",
     "output_type": "stream",
     "text": [
      "<_sre.SRE_Match object; span=(3, 4), match='s'>\n",
      "<_sre.SRE_Match object; span=(3, 4), match='s'>\n",
      "<_sre.SRE_Match object; span=(10, 14), match='list'>\n",
      "<_sre.SRE_Match object; span=(10, 14), match='list'>\n",
      "<_sre.SRE_Match object; span=(2, 4), match='is'>\n",
      "<_sre.SRE_Match object; span=(0, 1), match='T'>\n"
     ]
    }
   ],
   "source": [
    "## Interesting equivalences\n",
    "\n",
    "match1=re.search('s+', t)\n",
    "print(match1)\n",
    "match1=re.search('ss*', t)\n",
    "print(match1)\n",
    "\n",
    "match1=re.search('l(a|e|i)st', t)\n",
    "print(match1)\n",
    "match1=re.search('l[aei]st', t)\n",
    "print(match1)\n",
    "\n",
    "match1=re.search('i.{0,1}', t) # 0 or 1 times means the same as optional\n",
    "print(match1)\n",
    "match1=re.search('.?', t)\n",
    "print(match1)"
   ]
  },
  {
   "cell_type": "markdown",
   "metadata": {},
   "source": [
    "## Problems\n",
    "\n",
    "There is still a lot to learn about expressions, and we won't be able to ver it all in class, if you want to know more feel free to consult other resources. The official python documentation (https://docs.python.org/3/howto/regex.html) is an excellent referrence for expressions.\n",
    "\n",
    "Let's break here and look at some excercises. Go to https://regex101.com/ and solve the following problems (taken from prof Pattis' notes):\n",
    "\n",
    "1. Write a regular expression pattern that matches the strings Jul 4, July 4,\n",
    "   Jul 4th, July 4th, July fourth, and July Fourth.\n",
    "   Hint: my re pattern was 24 characters.\n",
    "\n",
    "2. Write a regular expression pattern that matches strings representing times on\n",
    "   a 12 hour clock. An example time is  5:09am or 11:23pm. Allow only times that\n",
    "   are legal (not 1:73pm nor 13:02pm)\n",
    "   Hint: my re pattern was 32 characters.\n",
    "\n",
    "3. Write a regular expression pattern that matches strings representing phone\n",
    "   numbers of the following form.\n",
    "\n",
    "   Normal: a three digit exchange, followed by a dash, followed by a four digit\n",
    "           number: e.g., 555-1212\n",
    "\n",
    "   Long Distance: a 1, followed by a dash, followed by a three digit area code enclosed in parentheses, followed by a three digit exchange, followed by a dash, followed by a four digit number: e.g.,\n",
    "           1-(800)555-1212\n",
    "\n",
    "   Interoffice: a single digit followed by a dash followed by a four digit\n",
    "            number: e.g., 8-2404.\n",
    "\n",
    "   Hint: my re pattern was 30 characters; note that you must use \\( and \\) to\n",
    "   match parentheses.\n",
    "\n"
   ]
  },
  {
   "cell_type": "markdown",
   "metadata": {},
   "source": [
    "# Function Methods\n",
    "\n",
    "We have discussed functions that operate on a regular expression pattern (specified by a string) and text (also specified by a string). These functions produce information (capture groups: see parenthesized patterns above) related to attempting to match the pattern and text: which parts of the text matched which parts of the pattern.\n",
    "\n",
    "Though we used some functions in previous examples, we have mostly focused on the expressions themselves. Now let's focus on how to use each function\n",
    "\n",
    "## Compile function\n",
    "\n",
    "We have discussed functions that operate on a regular expression pattern (specified by a string) and text (also specified by a string). These functions produce information (capture groups: see parenthesized patterns above) related to attempting to match the pattern and text: which parts of the text matched which parts of the pattern.\n",
    "\n",
    "We already saw one eample of the compile() function. We can use the compile function to compile a pattern (producing a regex), and then call methods on that regex directly, as an object to perform the same operations as the functions, but more efficiently if the pattern is to be used repeatedly (since the pattern is compiled into the regex once, not in each function call).\n",
    "\n",
    "The compile() function also has some optional flags. We will not review them in detail but it would be beneficial for you to know them.\n"
   ]
  },
  {
   "cell_type": "code",
   "execution_count": 69,
   "metadata": {},
   "outputs": [
    {
     "name": "stdout",
     "output_type": "stream",
     "text": [
      "re.compile('ab*', re.IGNORECASE)\n"
     ]
    }
   ],
   "source": [
    "p = re.compile('ab*', re.IGNORECASE)\n",
    "print (p)"
   ]
  },
  {
   "cell_type": "markdown",
   "metadata": {},
   "source": [
    "In this piece of code we can see that the pattern ab* is bound to an object p. We enabled the flag IGNORECASE which instructs the function to match regardless of case."
   ]
  },
  {
   "cell_type": "code",
   "execution_count": 71,
   "metadata": {},
   "outputs": [
    {
     "name": "stdout",
     "output_type": "stream",
     "text": [
      "<_sre.SRE_Match object; span=(0, 2), match='AB'>\n"
     ]
    }
   ],
   "source": [
    "s= p.match('ABC abc')\n",
    "print(s)"
   ]
  },
  {
   "cell_type": "markdown",
   "metadata": {},
   "source": [
    "See how we used the pattern object?. We can now reuse it as many times we wish. This allows us to easily manage, mix, and organize our patterns."
   ]
  },
  {
   "cell_type": "markdown",
   "metadata": {},
   "source": [
    "# Matching functions\n",
    "\n",
    "There are four mathcing functions:\n",
    "\n",
    "match(): Determine if the regular expression matches at the beginning of the string\n",
    "\n",
    "search(): Scan a string to find where the expression matches\n",
    "\n",
    "findall(): Returns a list with all the matches for the expressions\n",
    "\n",
    "finditer() Returns an iterator with all the matches"
   ]
  },
  {
   "cell_type": "code",
   "execution_count": 79,
   "metadata": {},
   "outputs": [
    {
     "name": "stdout",
     "output_type": "stream",
     "text": [
      "<_sre.SRE_Match object; span=(0, 4), match='gatt'>\n",
      "<_sre.SRE_Match object; span=(2, 6), match='ttac'>\n",
      "['ta', 'ta', 'ta']\n",
      "<callable_iterator object at 0x00000122522E76A0>\n",
      "<_sre.SRE_Match object; span=(3, 5), match='ta'>\n",
      "<_sre.SRE_Match object; span=(10, 12), match='ta'>\n",
      "<_sre.SRE_Match object; span=(15, 17), match='ta'>\n"
     ]
    }
   ],
   "source": [
    "t= \"gattacaagatacattacc\"\n",
    "p=re.compile('ga..')\n",
    "print(p.match(t))\n",
    "\n",
    "p=re.compile('tt..')\n",
    "print(p.search(t))\n",
    "\n",
    "p=re.compile('ta')\n",
    "print(p.findall(t))\n",
    "\n",
    "p=re.compile('ta')\n",
    "print(p.finditer(t))\n",
    "\n",
    "for i in p.finditer(t):\n",
    "    print (i)"
   ]
  },
  {
   "cell_type": "markdown",
   "metadata": {},
   "source": [
    "## Match object functions\n",
    "\n",
    "We can bind our matches to an object. This allows us to use methods that are exclusive to match objects. These methods are:\n",
    "\n",
    "group(): Returns the srting matched\n",
    "start(): Returns the starting position of the match\n",
    "end(): Returns the end position\n",
    "span(): Returns a tuple with the starting and end position of a match"
   ]
  },
  {
   "cell_type": "code",
   "execution_count": 80,
   "metadata": {},
   "outputs": [
    {
     "name": "stdout",
     "output_type": "stream",
     "text": [
      "gatt\n",
      "0\n",
      "4\n",
      "(0, 4)\n"
     ]
    }
   ],
   "source": [
    "t= \"gattacaagatacattacc\"\n",
    "p=re.compile('ga..')\n",
    "q=p.match(t)\n",
    "print(q.group())\n",
    "print(q.start())\n",
    "print(q.end())\n",
    "print(q.span())"
   ]
  },
  {
   "cell_type": "markdown",
   "metadata": {},
   "source": [
    "## Non- Greedy Matching\n",
    "\n",
    "So far we have only discussed greedy matching. That is, our metacharacters match as much of the string as possible. But here is an example of where that fails (taken form the Python documentation)"
   ]
  },
  {
   "cell_type": "code",
   "execution_count": 81,
   "metadata": {},
   "outputs": [
    {
     "name": "stdout",
     "output_type": "stream",
     "text": [
      "(0, 32)\n",
      "<html><head><title>Title</title>\n"
     ]
    }
   ],
   "source": [
    "s = '<html><head><title>Title</title>'\n",
    "len(s)\n",
    "print(re.match('<.*>', s).span())\n",
    "print(re.match('<.*>', s).group())"
   ]
  },
  {
   "cell_type": "markdown",
   "metadata": {},
   "source": [
    "As you can see, the expression .* is consuming the rest of the string, including all the '>' in it. \n",
    "\n",
    "What is going on behind the scenes is that < is matched by the first character, .* matches the whole string and then the expression engine has to backtrack through it to find the first > it encounters. Therefore the whole string is the match.\n",
    "\n",
    "For this example we require non-greedy matching, and for that we use the ? symbol. We already saw one example previously but this is how is used in this case:"
   ]
  },
  {
   "cell_type": "code",
   "execution_count": 82,
   "metadata": {},
   "outputs": [
    {
     "name": "stdout",
     "output_type": "stream",
     "text": [
      "<html>\n"
     ]
    }
   ],
   "source": [
    "print(re.match('<.*?>', s).group())"
   ]
  },
  {
   "cell_type": "markdown",
   "metadata": {},
   "source": [
    "Using a non-greedy qualifier (*?, +?, ??, or {m,n}?) means that the metacharacter will matche the least possible. Therefore the .* will match until the next pattern is found."
   ]
  },
  {
   "cell_type": "code",
   "execution_count": 84,
   "metadata": {},
   "outputs": [
    {
     "name": "stdout",
     "output_type": "stream",
     "text": [
      "re.compile('ga..', re.VERBOSE)\n"
     ]
    }
   ],
   "source": [
    "t= \"gattacaagatacattacc\"\n",
    "p=re.compile('ga..', re.VERBOSE)\n",
    "print(p)"
   ]
  },
  {
   "cell_type": "markdown",
   "metadata": {},
   "source": [
    "## Modifying Strings\n",
    "\n",
    "These methods are used to modify strings. We can use regular expressions with these methods, and you already know them. These are:\n",
    "\n",
    "split() Split the string into a list\n",
    "sub() Find all substrings matched and replace them\n",
    "subn() Same as sub but returns the new string and number of repacements"
   ]
  },
  {
   "cell_type": "code",
   "execution_count": 95,
   "metadata": {},
   "outputs": [
    {
     "name": "stdout",
     "output_type": "stream",
     "text": [
      "['Words', 'words', 'words', '']\n",
      "['Words', ', ', 'words', ', ', 'words', '.', '']\n",
      "['Words', 'words, words.']\n"
     ]
    }
   ],
   "source": [
    "print(re.split(r'[\\W]+', 'Words, words, words.'))\n",
    "print(re.split(r'([\\W]+)', 'Words, words, words.'))\n",
    "print(re.split(r'[\\W]+', 'Words, words, words.', 1))"
   ]
  },
  {
   "cell_type": "code",
   "execution_count": 98,
   "metadata": {},
   "outputs": [
    {
     "name": "stdout",
     "output_type": "stream",
     "text": [
      "colour socks and colour shoes\n",
      "colour socks and red shoes\n"
     ]
    }
   ],
   "source": [
    "p = re.compile('(blue|white|red)')\n",
    "print(p.sub('colour', 'blue socks and red shoes'))\n",
    "print(p.sub('colour', 'blue socks and red shoes', count=1))"
   ]
  },
  {
   "cell_type": "code",
   "execution_count": 100,
   "metadata": {},
   "outputs": [
    {
     "name": "stdout",
     "output_type": "stream",
     "text": [
      "('colour socks and colour shoes', 2)\n",
      "('no colours at all', 0)\n"
     ]
    }
   ],
   "source": [
    "p = re.compile('(blue|white|red)')\n",
    "print(p.subn('colour', 'blue socks and red shoes'))\n",
    "print(p.subn('colour', 'no colours at all'))"
   ]
  },
  {
   "cell_type": "markdown",
   "metadata": {},
   "source": [
    "## Final Notes\n",
    "\n",
    "We already talked about this but remember, raw strings are preceded by r, that means that special characters will be ignored"
   ]
  },
  {
   "cell_type": "code",
   "execution_count": 86,
   "metadata": {},
   "outputs": [
    {
     "name": "stdout",
     "output_type": "stream",
     "text": [
      "1\n",
      "2\n"
     ]
    }
   ],
   "source": [
    "print(len('\\n'))\n",
    "print(len(r'\\n'))"
   ]
  },
  {
   "cell_type": "markdown",
   "metadata": {},
   "source": [
    "\n",
    "\n"
   ]
  },
  {
   "cell_type": "code",
   "execution_count": 93,
   "metadata": {},
   "outputs": [],
   "source": []
  },
  {
   "cell_type": "code",
   "execution_count": null,
   "metadata": {},
   "outputs": [],
   "source": []
  }
 ],
 "metadata": {
  "kernelspec": {
   "display_name": "Python 3",
   "language": "python",
   "name": "python3"
  },
  "language_info": {
   "codemirror_mode": {
    "name": "ipython",
    "version": 3
   },
   "file_extension": ".py",
   "mimetype": "text/x-python",
   "name": "python",
   "nbconvert_exporter": "python",
   "pygments_lexer": "ipython3",
   "version": "3.6.5"
  }
 },
 "nbformat": 4,
 "nbformat_minor": 2
}
