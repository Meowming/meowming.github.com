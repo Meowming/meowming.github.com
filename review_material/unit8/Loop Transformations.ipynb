{
 "cells": [
  {
   "cell_type": "markdown",
   "metadata": {},
   "source": [
    "# Exposing Parallelism in Loops\n",
    "Loop transformations refer to changing the structure of the loops, so as to improve performance.\n",
    "\n",
    "Transformations MUST be semantic-preserving, i.e., the loop must produce correct output/results after transformations. Make sure you do not voilate any dependence while modifying the loops.\n",
    "\n",
    "## Important Tranformations\n",
    "1. Loop Distribution\n",
    "2. Loop Permutation/Interchange\n"
   ]
  },
  {
   "cell_type": "markdown",
   "metadata": {},
   "source": [
    "## Loop Distribution\n",
    "Here we decompose the loop(s) into several loops. This tranformation may allow us to parallelize at least one of the loops. Therefore, the overall performance of the program should improve. "
   ]
  },
  {
   "cell_type": "code",
   "execution_count": 1,
   "metadata": {},
   "outputs": [],
   "source": [
    "import numpy as np\n",
    "import multiprocessing\n",
    "import ctypes\n",
    "from multiprocessing import Pool, Array\n",
    "import math\n",
    "import time\n",
    "from PIL import Image\n",
    "\n",
    "def checksum(array, N):\n",
    "    checksum = 0\n",
    "    for i in range(N):\n",
    "        for j in range(N):\n",
    "            checksum += array[i][j]\n",
    "    print(\"Checksum: \", checksum)\n",
    "    return\n",
    "\n",
    "N = 2000\n",
    "A = np.zeros((N,N))\n",
    "B = np.zeros((N,N))\n",
    "C = np.random.rand(N,N)\n",
    "D = np.random.rand(N,N)"
   ]
  },
  {
   "cell_type": "code",
   "execution_count": 2,
   "metadata": {},
   "outputs": [
    {
     "name": "stdout",
     "output_type": "stream",
     "text": [
      "Wall time: 5.63 s\n"
     ]
    }
   ],
   "source": [
    "%%time\n",
    "for i in range(1,N):\n",
    "    for j in range(1,N):\n",
    "        A[i][j] = C[i][j] + D[i][j]  # Statement 1\n",
    "        B[i][j] = A[i-1][j-1]*2.0    # Statement 2: (i,j) dependent on (i-1,j-1) - Can't be parallelized"
   ]
  },
  {
   "cell_type": "code",
   "execution_count": 3,
   "metadata": {},
   "outputs": [
    {
     "name": "stdout",
     "output_type": "stream",
     "text": [
      "Checksum:  7983249.162203247\n"
     ]
    }
   ],
   "source": [
    "checksum(B,N) # check output"
   ]
  },
  {
   "cell_type": "code",
   "execution_count": 4,
   "metadata": {},
   "outputs": [
    {
     "name": "stdout",
     "output_type": "stream",
     "text": [
      "Wall time: 5.98 s\n"
     ]
    }
   ],
   "source": [
    "%%time\n",
    "# But this can be distributed\n",
    "for i in range(1,N):\n",
    "    for j in range(1,N):\n",
    "        A[i][j] = C[i][j] + D[i][j]  # Statement 1 - Can be parallelized\n",
    "        \n",
    "for i in range(1,N):\n",
    "    for j in range(1,N):      \n",
    "        B[i][j] = A[i-1][j-1]*2.0    # Statement 2: Can be parallelized"
   ]
  },
  {
   "cell_type": "code",
   "execution_count": 23,
   "metadata": {},
   "outputs": [
    {
     "name": "stdout",
     "output_type": "stream",
     "text": [
      "Checksum:  7983249.162203247\n"
     ]
    }
   ],
   "source": [
    "checksum(B,N) # check output again"
   ]
  },
  {
   "cell_type": "code",
   "execution_count": 24,
   "metadata": {},
   "outputs": [],
   "source": [
    "shared_array_base_A = multiprocessing.Array(ctypes.c_float, N*N)\n",
    "shared_A = np.ctypeslib.as_array(shared_array_base_A.get_obj())\n",
    "shared_A = shared_A.reshape(N,N)\n",
    "\n",
    "shared_array_base_B = multiprocessing.Array(ctypes.c_float, N*N)\n",
    "shared_B = np.ctypeslib.as_array(shared_array_base_B.get_obj())\n",
    "shared_B = shared_B.reshape(N,N)\n",
    "\n",
    "shared_array_base_C = multiprocessing.Array(ctypes.c_float, N*N)\n",
    "shared_C = np.ctypeslib.as_array(shared_array_base_C.get_obj())\n",
    "shared_C = shared_C.reshape(N,N)\n",
    "\n",
    "shared_array_base_D = multiprocessing.Array(ctypes.c_float, N*N)\n",
    "shared_D = np.ctypeslib.as_array(shared_array_base_D.get_obj())\n",
    "shared_D = shared_D.reshape(N,N)\n",
    "np.copyto(shared_C,C)\n",
    "np.copyto(shared_D,D)"
   ]
  },
  {
   "cell_type": "code",
   "execution_count": 28,
   "metadata": {},
   "outputs": [],
   "source": [
    "def loop1(start,end):\n",
    "    for i in range(start,end):\n",
    "        for j in range(1,N):\n",
    "            shared_A[i][j] = shared_C[i][j] + shared_D[i][j]\n",
    "    return\n",
    "            \n",
    "def loop2(start,end):\n",
    "    for i in range(start,end):\n",
    "        for j in range(1,N):\n",
    "            shared_B[i][j] = shared_A[i-1][j-1]*2.0\n",
    "    return"
   ]
  },
  {
   "cell_type": "code",
   "execution_count": 29,
   "metadata": {},
   "outputs": [
    {
     "name": "stdout",
     "output_type": "stream",
     "text": [
      "Wall time: 247 ms\n"
     ]
    }
   ],
   "source": [
    "%%time\n",
    "p1 = multiprocessing.Process(target=loop1, args=(1,int(N/4),))\n",
    "p1.start()\n",
    "p2 = multiprocessing.Process(target=loop1, args=(int(N/4),int(N/2),))\n",
    "p2.start()\n",
    "p3 = multiprocessing.Process(target=loop1, args=(int(N/2),int((3*N)/4),))\n",
    "p3.start()\n",
    "p4 = multiprocessing.Process(target=loop1, args=(int((3*N)/4),N,))\n",
    "p4.start()\n",
    "p1.join()\n",
    "p2.join()\n",
    "p3.join()\n",
    "p4.join()\n",
    "p1 = multiprocessing.Process(target=loop2, args=(1,int(N/4),))\n",
    "p1.start()\n",
    "p2 = multiprocessing.Process(target=loop2, args=(int(N/4),int(N/2),))\n",
    "p2.start()\n",
    "p3 = multiprocessing.Process(target=loop2, args=(int(N/2),int((3*N)/4),))\n",
    "p3.start()\n",
    "p4 = multiprocessing.Process(target=loop2, args=(int((3*N)/4),N,))\n",
    "p4.start()\n",
    "p1.join()\n",
    "p2.join()\n",
    "p3.join()\n",
    "p4.join()"
   ]
  },
  {
   "cell_type": "code",
   "execution_count": 30,
   "metadata": {},
   "outputs": [
    {
     "name": "stdout",
     "output_type": "stream",
     "text": [
      "Checksum:  0.0\n"
     ]
    }
   ],
   "source": [
    "checksum(shared_A,N) # check output again"
   ]
  },
  {
   "cell_type": "markdown",
   "metadata": {},
   "source": [
    "## Loop Permutation/Interchange\n",
    "This transformation change the order of loops to get better parallelism.\n"
   ]
  },
  {
   "cell_type": "code",
   "execution_count": 10,
   "metadata": {},
   "outputs": [],
   "source": [
    "C = np.random.rand(N,N)\n",
    "D = np.random.rand(N,N)\n",
    "A = np.copy(C) # Copy original C into A"
   ]
  },
  {
   "cell_type": "code",
   "execution_count": 11,
   "metadata": {},
   "outputs": [
    {
     "name": "stdout",
     "output_type": "stream",
     "text": [
      "Wall time: 3.19 s\n"
     ]
    }
   ],
   "source": [
    "%%time\n",
    "for i in range(N-1):                   # Can't be parallelized\n",
    "    for j in range(N-1):               # Can be parallelized \n",
    "        C[i+1][j] = C[i][j] * D[i][j]  # Statement 1: (i+1,j) dependent on (i,j)"
   ]
  },
  {
   "cell_type": "code",
   "execution_count": 12,
   "metadata": {},
   "outputs": [
    {
     "name": "stdout",
     "output_type": "stream",
     "text": [
      "Checksum:  2975.922424648707\n"
     ]
    }
   ],
   "source": [
    "checksum(C,N) # check output"
   ]
  },
  {
   "cell_type": "code",
   "execution_count": 13,
   "metadata": {},
   "outputs": [],
   "source": [
    "C = np.copy(A) # Get original C values"
   ]
  },
  {
   "cell_type": "code",
   "execution_count": 14,
   "metadata": {},
   "outputs": [
    {
     "name": "stdout",
     "output_type": "stream",
     "text": [
      "Wall time: 3.2 s\n"
     ]
    }
   ],
   "source": [
    "%%time\n",
    "for j in range(N-1):                   # Can be parallelized\n",
    "    for i in range(N-1):               # Can't be parallelized \n",
    "        C[i+1][j] = C[i][j] * D[i][j]  # Statement 1: (i+1,j) dependent on (i,j)"
   ]
  },
  {
   "cell_type": "code",
   "execution_count": 15,
   "metadata": {},
   "outputs": [
    {
     "name": "stdout",
     "output_type": "stream",
     "text": [
      "Checksum:  2975.922424648707\n"
     ]
    }
   ],
   "source": [
    "checksum(C,N) # check output again"
   ]
  },
  {
   "cell_type": "code",
   "execution_count": 16,
   "metadata": {},
   "outputs": [],
   "source": [
    "C = np.copy(A) # Get original C values\n",
    "shared_array_base_C = multiprocessing.Array(ctypes.c_float, N*N)\n",
    "shared_C = np.ctypeslib.as_array(shared_array_base_C.get_obj())\n",
    "shared_C = shared_C.reshape(N,N)\n",
    "\n",
    "shared_array_base_D = multiprocessing.Array(ctypes.c_float, N*N)\n",
    "shared_D = np.ctypeslib.as_array(shared_array_base_D.get_obj())\n",
    "shared_D = shared_D.reshape(N,N)\n",
    "np.copyto(shared_C,C)\n",
    "np.copyto(shared_D,D)\n",
    "\n",
    "def parloop(start,end):\n",
    "    for j in range(start,end):             # Can be parallelized\n",
    "        for i in range(N-1):               # Can't be parallelized \n",
    "            shared_C[i+1][j] = shared_C[i][j] * shared_D[i][j]  # Statement 1: (i+1,j) dependent on (i,j)\n",
    "    return"
   ]
  },
  {
   "cell_type": "code",
   "execution_count": 17,
   "metadata": {},
   "outputs": [
    {
     "name": "stdout",
     "output_type": "stream",
     "text": [
      "Wall time: 199 ms\n"
     ]
    }
   ],
   "source": [
    "%%time\n",
    "p1 = multiprocessing.Process(target=parloop, args=(0,int(N/4),))\n",
    "p1.start()\n",
    "p2 = multiprocessing.Process(target=parloop, args=(int(N/4),int(N/2),))\n",
    "p2.start()\n",
    "p3 = multiprocessing.Process(target=parloop, args=(int(N/2),int((3*N)/4),))\n",
    "p3.start()\n",
    "p4 = multiprocessing.Process(target=parloop, args=(int((3*N)/4),N-1,))\n",
    "p4.start()\n",
    "p1.join()\n",
    "p2.join()\n",
    "p3.join()\n",
    "p4.join()"
   ]
  },
  {
   "cell_type": "code",
   "execution_count": 18,
   "metadata": {},
   "outputs": [
    {
     "name": "stdout",
     "output_type": "stream",
     "text": [
      "Checksum:  2000958.4775352052\n"
     ]
    }
   ],
   "source": [
    "checksum(shared_C,N) # check output again"
   ]
  },
  {
   "cell_type": "markdown",
   "metadata": {},
   "source": [
    "## Example: Sobel Image Filter (Edge Detection)"
   ]
  },
  {
   "cell_type": "markdown",
   "metadata": {},
   "source": [
    "![title](peru.jpeg)"
   ]
  },
  {
   "cell_type": "code",
   "execution_count": 19,
   "metadata": {},
   "outputs": [
    {
     "name": "stdout",
     "output_type": "stream",
     "text": [
      "Wall time: 4.64 s\n"
     ]
    }
   ],
   "source": [
    "%%time\n",
    "def sobelfilter(img, newimg, widht, height):\n",
    "    for x in range(1, width-1):  # ignore the edge pixels for simplicity (1 to width-1)\n",
    "        for y in range(1, height-1): # ignore edge pixels for simplicity (1 to height-1)\n",
    "\n",
    "            # initialise Gx to 0 and Gy to 0 for every pixel\n",
    "            Gx = 0\n",
    "            Gy = 0\n",
    "            # top left pixel\n",
    "            p = img.getpixel((x-1, y-1))\n",
    "            r = p[0]\n",
    "            g = p[1]\n",
    "            b = p[2]\n",
    "\n",
    "            # intensity ranges from 0 to 765 (255 * 3)\n",
    "            intensity = r + g + b\n",
    "\n",
    "            # accumulate the value into Gx, and Gy\n",
    "            Gx += -intensity\n",
    "            Gy += -intensity\n",
    "\n",
    "            # remaining left column\n",
    "            p = img.getpixel((x-1, y))\n",
    "            r = p[0]\n",
    "            g = p[1]\n",
    "            b = p[2]\n",
    "\n",
    "            Gx += -2 * (r + g + b)\n",
    "\n",
    "            p = img.getpixel((x-1, y+1))\n",
    "            r = p[0]\n",
    "            g = p[1]\n",
    "            b = p[2]\n",
    "\n",
    "            Gx += -(r + g + b)\n",
    "            Gy += (r + g + b)\n",
    "\n",
    "            # middle pixels\n",
    "            p = img.getpixel((x, y-1))\n",
    "            r = p[0]\n",
    "            g = p[1]\n",
    "            b = p[2]\n",
    "\n",
    "            Gy += -2 * (r + g + b)\n",
    "\n",
    "            p = img.getpixel((x, y+1))\n",
    "            r = p[0]\n",
    "            g = p[1]\n",
    "            b = p[2]\n",
    "\n",
    "            Gy += 2 * (r + g + b)\n",
    "\n",
    "            # right column\n",
    "            p = img.getpixel((x+1, y-1))\n",
    "            r = p[0]\n",
    "            g = p[1]\n",
    "            b = p[2]\n",
    "\n",
    "            Gx += (r + g + b)\n",
    "            Gy += -(r + g + b)\n",
    "\n",
    "            p = img.getpixel((x+1, y))\n",
    "            r = p[0]\n",
    "            g = p[1]\n",
    "            b = p[2]\n",
    "\n",
    "            Gx += 2 * (r + g + b)\n",
    "\n",
    "            p = img.getpixel((x+1, y+1))\n",
    "            r = p[0]\n",
    "            g = p[1]\n",
    "            b = p[2]\n",
    "\n",
    "            Gx += (r + g + b)\n",
    "            Gy += (r + g + b)\n",
    "\n",
    "            # calculate the length of the gradient (Pythagorean theorem)\n",
    "            length = math.sqrt((Gx * Gx) + (Gy * Gy))\n",
    "\n",
    "            # normalise the length of gradient to the range 0 to 255\n",
    "            length = length / 4328 * 255\n",
    "\n",
    "            length = int(length)\n",
    "\n",
    "            # draw the length in the edge image\n",
    "            #newpixel = img.putpixel((length,length,length))\n",
    "            newimg.putpixel((x,y),(length,length,length))\n",
    "    return\n",
    "\n",
    "path = \"peru.jpeg\" # Your image path \n",
    "img = Image.open(path)\n",
    "width, height = img.size\n",
    "newimg = Image.new(\"RGB\", (width,height), \"white\")\n",
    "sobelfilter(img,newimg,width,height)\n",
    "newimg.save(\"peru_new.jpeg\")"
   ]
  },
  {
   "cell_type": "markdown",
   "metadata": {},
   "source": [
    "![title](peru_new.jpeg)"
   ]
  },
  {
   "cell_type": "markdown",
   "metadata": {},
   "source": [
    "### Parallel Sobel Filter"
   ]
  },
  {
   "cell_type": "code",
   "execution_count": 20,
   "metadata": {},
   "outputs": [],
   "source": [
    "path = \"peru.jpeg\" # Your image path \n",
    "img1 = Image.open(path)\n",
    "img2 = Image.open(path)\n",
    "img3 = Image.open(path)\n",
    "img4 = Image.open(path)\n",
    "width, height = img1.size\n",
    "newimg = Image.new(\"RGB\", (width,height), \"white\")\n",
    "\n",
    "shared_array_base = multiprocessing.Array(ctypes.c_int, width*height)\n",
    "shared_array = np.ctypeslib.as_array(shared_array_base.get_obj())\n",
    "shared_array = shared_array.reshape(width, height)"
   ]
  },
  {
   "cell_type": "code",
   "execution_count": 21,
   "metadata": {},
   "outputs": [],
   "source": [
    "def parallelsobelfilter(img, startwidth, endwidth, height, def_param=shared_array):\n",
    "    for x in range(startwidth, endwidth):  \n",
    "        for y in range(1, height-1): \n",
    "            # initialise Gx to 0 and Gy to 0 for every pixel\n",
    "            Gx = 0\n",
    "            Gy = 0\n",
    "\n",
    "            # top left pixel\n",
    "            p = img.getpixel((x-1, y-1))\n",
    "            r = p[0]\n",
    "            g = p[1]\n",
    "            b = p[2]\n",
    "\n",
    "            # intensity ranges from 0 to 765 (255 * 3)\n",
    "            intensity = r + g + b\n",
    "\n",
    "            # accumulate the value into Gx, and Gy\n",
    "            Gx += -intensity\n",
    "            Gy += -intensity\n",
    "\n",
    "            # remaining left column\n",
    "            p = img.getpixel((x-1, y))\n",
    "            r = p[0]\n",
    "            g = p[1]\n",
    "            b = p[2]\n",
    "\n",
    "            Gx += -2 * (r + g + b)\n",
    "\n",
    "            p = img.getpixel((x-1, y+1))\n",
    "            r = p[0]\n",
    "            g = p[1]\n",
    "            b = p[2]\n",
    "\n",
    "            Gx += -(r + g + b)\n",
    "            Gy += (r + g + b)\n",
    "\n",
    "            # middle pixels\n",
    "            p = img.getpixel((x, y-1))\n",
    "            r = p[0]\n",
    "            g = p[1]\n",
    "            b = p[2]\n",
    "\n",
    "            Gy += -2 * (r + g + b)\n",
    "\n",
    "            p = img.getpixel((x, y+1))\n",
    "            r = p[0]\n",
    "            g = p[1]\n",
    "            b = p[2]\n",
    "\n",
    "            Gy += 2 * (r + g + b)\n",
    "\n",
    "            # right column\n",
    "            p = img.getpixel((x+1, y-1))\n",
    "            r = p[0]\n",
    "            g = p[1]\n",
    "            b = p[2]\n",
    "\n",
    "            Gx += (r + g + b)\n",
    "            Gy += -(r + g + b)\n",
    "\n",
    "            p = img.getpixel((x+1, y))\n",
    "            r = p[0]\n",
    "            g = p[1]\n",
    "            b = p[2]\n",
    "\n",
    "            Gx += 2 * (r + g + b)\n",
    "\n",
    "            p = img.getpixel((x+1, y+1))\n",
    "            r = p[0]\n",
    "            g = p[1]\n",
    "            b = p[2]\n",
    "\n",
    "            Gx += (r + g + b)\n",
    "            Gy += (r + g + b)\n",
    "\n",
    "            # calculate the length of the gradient (Pythagorean theorem)\n",
    "            length = math.sqrt((Gx * Gx) + (Gy * Gy))\n",
    "\n",
    "            # normalise the length of gradient to the range 0 to 255\n",
    "            length = length / 4328 * 255\n",
    "\n",
    "            length = int(length)\n",
    "\n",
    "            # draw the length in the edge image\n",
    "            #newpixel = img.putpixel((length,length,length))\n",
    "            shared_array[x][y] = length\n",
    "    return\n",
    "\n"
   ]
  },
  {
   "cell_type": "code",
   "execution_count": 22,
   "metadata": {},
   "outputs": [
    {
     "ename": "BrokenPipeError",
     "evalue": "[Errno 32] Broken pipe",
     "output_type": "error",
     "traceback": [
      "\u001b[1;31m---------------------------------------------------------------------------\u001b[0m",
      "\u001b[1;31mBrokenPipeError\u001b[0m                           Traceback (most recent call last)",
      "\u001b[1;32m<timed exec>\u001b[0m in \u001b[0;36m<module>\u001b[1;34m()\u001b[0m\n",
      "\u001b[1;32mC:\\ProgramData\\Anaconda3\\lib\\multiprocessing\\process.py\u001b[0m in \u001b[0;36mstart\u001b[1;34m(self)\u001b[0m\n\u001b[0;32m    103\u001b[0m                \u001b[1;34m'daemonic processes are not allowed to have children'\u001b[0m\u001b[1;33m\u001b[0m\u001b[0m\n\u001b[0;32m    104\u001b[0m         \u001b[0m_cleanup\u001b[0m\u001b[1;33m(\u001b[0m\u001b[1;33m)\u001b[0m\u001b[1;33m\u001b[0m\u001b[0m\n\u001b[1;32m--> 105\u001b[1;33m         \u001b[0mself\u001b[0m\u001b[1;33m.\u001b[0m\u001b[0m_popen\u001b[0m \u001b[1;33m=\u001b[0m \u001b[0mself\u001b[0m\u001b[1;33m.\u001b[0m\u001b[0m_Popen\u001b[0m\u001b[1;33m(\u001b[0m\u001b[0mself\u001b[0m\u001b[1;33m)\u001b[0m\u001b[1;33m\u001b[0m\u001b[0m\n\u001b[0m\u001b[0;32m    106\u001b[0m         \u001b[0mself\u001b[0m\u001b[1;33m.\u001b[0m\u001b[0m_sentinel\u001b[0m \u001b[1;33m=\u001b[0m \u001b[0mself\u001b[0m\u001b[1;33m.\u001b[0m\u001b[0m_popen\u001b[0m\u001b[1;33m.\u001b[0m\u001b[0msentinel\u001b[0m\u001b[1;33m\u001b[0m\u001b[0m\n\u001b[0;32m    107\u001b[0m         \u001b[1;31m# Avoid a refcycle if the target function holds an indirect\u001b[0m\u001b[1;33m\u001b[0m\u001b[1;33m\u001b[0m\u001b[0m\n",
      "\u001b[1;32mC:\\ProgramData\\Anaconda3\\lib\\multiprocessing\\context.py\u001b[0m in \u001b[0;36m_Popen\u001b[1;34m(process_obj)\u001b[0m\n\u001b[0;32m    221\u001b[0m     \u001b[1;33m@\u001b[0m\u001b[0mstaticmethod\u001b[0m\u001b[1;33m\u001b[0m\u001b[0m\n\u001b[0;32m    222\u001b[0m     \u001b[1;32mdef\u001b[0m \u001b[0m_Popen\u001b[0m\u001b[1;33m(\u001b[0m\u001b[0mprocess_obj\u001b[0m\u001b[1;33m)\u001b[0m\u001b[1;33m:\u001b[0m\u001b[1;33m\u001b[0m\u001b[0m\n\u001b[1;32m--> 223\u001b[1;33m         \u001b[1;32mreturn\u001b[0m \u001b[0m_default_context\u001b[0m\u001b[1;33m.\u001b[0m\u001b[0mget_context\u001b[0m\u001b[1;33m(\u001b[0m\u001b[1;33m)\u001b[0m\u001b[1;33m.\u001b[0m\u001b[0mProcess\u001b[0m\u001b[1;33m.\u001b[0m\u001b[0m_Popen\u001b[0m\u001b[1;33m(\u001b[0m\u001b[0mprocess_obj\u001b[0m\u001b[1;33m)\u001b[0m\u001b[1;33m\u001b[0m\u001b[0m\n\u001b[0m\u001b[0;32m    224\u001b[0m \u001b[1;33m\u001b[0m\u001b[0m\n\u001b[0;32m    225\u001b[0m \u001b[1;32mclass\u001b[0m \u001b[0mDefaultContext\u001b[0m\u001b[1;33m(\u001b[0m\u001b[0mBaseContext\u001b[0m\u001b[1;33m)\u001b[0m\u001b[1;33m:\u001b[0m\u001b[1;33m\u001b[0m\u001b[0m\n",
      "\u001b[1;32mC:\\ProgramData\\Anaconda3\\lib\\multiprocessing\\context.py\u001b[0m in \u001b[0;36m_Popen\u001b[1;34m(process_obj)\u001b[0m\n\u001b[0;32m    320\u001b[0m         \u001b[1;32mdef\u001b[0m \u001b[0m_Popen\u001b[0m\u001b[1;33m(\u001b[0m\u001b[0mprocess_obj\u001b[0m\u001b[1;33m)\u001b[0m\u001b[1;33m:\u001b[0m\u001b[1;33m\u001b[0m\u001b[0m\n\u001b[0;32m    321\u001b[0m             \u001b[1;32mfrom\u001b[0m \u001b[1;33m.\u001b[0m\u001b[0mpopen_spawn_win32\u001b[0m \u001b[1;32mimport\u001b[0m \u001b[0mPopen\u001b[0m\u001b[1;33m\u001b[0m\u001b[0m\n\u001b[1;32m--> 322\u001b[1;33m             \u001b[1;32mreturn\u001b[0m \u001b[0mPopen\u001b[0m\u001b[1;33m(\u001b[0m\u001b[0mprocess_obj\u001b[0m\u001b[1;33m)\u001b[0m\u001b[1;33m\u001b[0m\u001b[0m\n\u001b[0m\u001b[0;32m    323\u001b[0m \u001b[1;33m\u001b[0m\u001b[0m\n\u001b[0;32m    324\u001b[0m     \u001b[1;32mclass\u001b[0m \u001b[0mSpawnContext\u001b[0m\u001b[1;33m(\u001b[0m\u001b[0mBaseContext\u001b[0m\u001b[1;33m)\u001b[0m\u001b[1;33m:\u001b[0m\u001b[1;33m\u001b[0m\u001b[0m\n",
      "\u001b[1;32mC:\\ProgramData\\Anaconda3\\lib\\multiprocessing\\popen_spawn_win32.py\u001b[0m in \u001b[0;36m__init__\u001b[1;34m(self, process_obj)\u001b[0m\n\u001b[0;32m     63\u001b[0m             \u001b[1;32mtry\u001b[0m\u001b[1;33m:\u001b[0m\u001b[1;33m\u001b[0m\u001b[0m\n\u001b[0;32m     64\u001b[0m                 \u001b[0mreduction\u001b[0m\u001b[1;33m.\u001b[0m\u001b[0mdump\u001b[0m\u001b[1;33m(\u001b[0m\u001b[0mprep_data\u001b[0m\u001b[1;33m,\u001b[0m \u001b[0mto_child\u001b[0m\u001b[1;33m)\u001b[0m\u001b[1;33m\u001b[0m\u001b[0m\n\u001b[1;32m---> 65\u001b[1;33m                 \u001b[0mreduction\u001b[0m\u001b[1;33m.\u001b[0m\u001b[0mdump\u001b[0m\u001b[1;33m(\u001b[0m\u001b[0mprocess_obj\u001b[0m\u001b[1;33m,\u001b[0m \u001b[0mto_child\u001b[0m\u001b[1;33m)\u001b[0m\u001b[1;33m\u001b[0m\u001b[0m\n\u001b[0m\u001b[0;32m     66\u001b[0m             \u001b[1;32mfinally\u001b[0m\u001b[1;33m:\u001b[0m\u001b[1;33m\u001b[0m\u001b[0m\n\u001b[0;32m     67\u001b[0m                 \u001b[0mset_spawning_popen\u001b[0m\u001b[1;33m(\u001b[0m\u001b[1;32mNone\u001b[0m\u001b[1;33m)\u001b[0m\u001b[1;33m\u001b[0m\u001b[0m\n",
      "\u001b[1;32mC:\\ProgramData\\Anaconda3\\lib\\multiprocessing\\reduction.py\u001b[0m in \u001b[0;36mdump\u001b[1;34m(obj, file, protocol)\u001b[0m\n\u001b[0;32m     58\u001b[0m \u001b[1;32mdef\u001b[0m \u001b[0mdump\u001b[0m\u001b[1;33m(\u001b[0m\u001b[0mobj\u001b[0m\u001b[1;33m,\u001b[0m \u001b[0mfile\u001b[0m\u001b[1;33m,\u001b[0m \u001b[0mprotocol\u001b[0m\u001b[1;33m=\u001b[0m\u001b[1;32mNone\u001b[0m\u001b[1;33m)\u001b[0m\u001b[1;33m:\u001b[0m\u001b[1;33m\u001b[0m\u001b[0m\n\u001b[0;32m     59\u001b[0m     \u001b[1;34m'''Replacement for pickle.dump() using ForkingPickler.'''\u001b[0m\u001b[1;33m\u001b[0m\u001b[0m\n\u001b[1;32m---> 60\u001b[1;33m     \u001b[0mForkingPickler\u001b[0m\u001b[1;33m(\u001b[0m\u001b[0mfile\u001b[0m\u001b[1;33m,\u001b[0m \u001b[0mprotocol\u001b[0m\u001b[1;33m)\u001b[0m\u001b[1;33m.\u001b[0m\u001b[0mdump\u001b[0m\u001b[1;33m(\u001b[0m\u001b[0mobj\u001b[0m\u001b[1;33m)\u001b[0m\u001b[1;33m\u001b[0m\u001b[0m\n\u001b[0m\u001b[0;32m     61\u001b[0m \u001b[1;33m\u001b[0m\u001b[0m\n\u001b[0;32m     62\u001b[0m \u001b[1;31m#\u001b[0m\u001b[1;33m\u001b[0m\u001b[1;33m\u001b[0m\u001b[0m\n",
      "\u001b[1;31mBrokenPipeError\u001b[0m: [Errno 32] Broken pipe"
     ]
    }
   ],
   "source": [
    "%%time\n",
    "p1 = multiprocessing.Process(target=parallelsobelfilter, args=(img1,1, int(width/4),height,))\n",
    "p1.start()\n",
    "p2 = multiprocessing.Process(target=parallelsobelfilter, args=(img2,int(width/4), int(width/2),height,))\n",
    "p2.start()\n",
    "p3 = multiprocessing.Process(target=parallelsobelfilter, args=(img3,int(width/2), int((3*width)/4),height,))\n",
    "p3.start()\n",
    "p4 = multiprocessing.Process(target=parallelsobelfilter, args=(img4,int((3*width)/4), width-1,height,))\n",
    "p4.start()\n",
    "p1.join()\n",
    "p2.join()\n",
    "p3.join()\n",
    "p4.join()\n",
    "for x in range(1, width-1): \n",
    "    for y in range(1, height-1):\n",
    "        newimg.putpixel((x,y),(shared_array[x][y],shared_array[x][y],shared_array[x][y]))\n",
    "newimg.save(\"peru_new.jpeg\")"
   ]
  },
  {
   "cell_type": "markdown",
   "metadata": {},
   "source": [
    "![title](peru_new.jpeg)"
   ]
  }
 ],
 "metadata": {
  "kernelspec": {
   "display_name": "Python 3",
   "language": "python",
   "name": "python3"
  },
  "language_info": {
   "codemirror_mode": {
    "name": "ipython",
    "version": 3
   },
   "file_extension": ".py",
   "mimetype": "text/x-python",
   "name": "python",
   "nbconvert_exporter": "python",
   "pygments_lexer": "ipython3",
   "version": "3.6.5"
  }
 },
 "nbformat": 4,
 "nbformat_minor": 2
}
