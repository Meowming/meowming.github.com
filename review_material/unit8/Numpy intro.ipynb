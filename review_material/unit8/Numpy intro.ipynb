{
 "cells": [
  {
   "cell_type": "markdown",
   "metadata": {},
   "source": [
    "# Numpy \n",
    "\n",
    "There are many libraries for scientific computing in python, but NumPy (http://www.numpy.org/) is one of the most common and well established. NumPy gives a relatively efficient framework for manipulating fixed-type arrays, such as vectors, matrices, and tensors, as well as extensive libraries for common operations on those structures, such as computing data statistics, linear algebraic operations, and much more. Many of its core operations are similar to Matlab/Octave, although it is more flexible and Pythonic.\n",
    "\n",
    "## Matplotlib\n",
    "\n",
    "MatPlotLib (http://matplotlib.org/) is a library for generating plots and figures in Python, specifically modeled to mimic the capabilities of Matlab for generating easy visualizations. There are many alternative libraries for plotting data, some with featurs that matplotlib lacks, but matplotlib's simplicity and similarity to Matlab syntax and capabilities have made it fairly popular.\n",
    "\n",
    "## Numpy Basics\n",
    "\n",
    "Numpy is memory efficient, here is some code comparing numpy to a built in python object:"
   ]
  },
  {
   "cell_type": "code",
   "execution_count": 1,
   "metadata": {},
   "outputs": [
    {
     "name": "stdout",
     "output_type": "stream",
     "text": [
      "272 µs ± 3.1 µs per loop (mean ± std. dev. of 7 runs, 1000 loops each)\n"
     ]
    }
   ],
   "source": [
    "L = range(1000)\n",
    "%timeit [i**2 for i in L]"
   ]
  },
  {
   "cell_type": "code",
   "execution_count": 2,
   "metadata": {},
   "outputs": [
    {
     "name": "stdout",
     "output_type": "stream",
     "text": [
      "1.26 µs ± 7.32 ns per loop (mean ± std. dev. of 7 runs, 1000000 loops each)\n"
     ]
    }
   ],
   "source": [
    "import numpy as np\n",
    "a = np.arange(1000)\n",
    "%timeit a**2"
   ]
  },
  {
   "cell_type": "markdown",
   "metadata": {},
   "source": [
    "## Numpy arrays\n",
    "\n",
    "To define one-dimensional arrays (vectors), we can use numpy's \"array\" object and pass it a list of values:"
   ]
  },
  {
   "cell_type": "code",
   "execution_count": 3,
   "metadata": {},
   "outputs": [
    {
     "name": "stdout",
     "output_type": "stream",
     "text": [
      "[1 2 3 4 5 6 7]\n",
      "1\n",
      "(7,)\n"
     ]
    },
    {
     "data": {
      "text/plain": [
       "7"
      ]
     },
     "execution_count": 3,
     "metadata": {},
     "output_type": "execute_result"
    }
   ],
   "source": [
    "a = np.array([1,2,3,4,5,6,7])\n",
    "# or equivalently, using Python iterables:\n",
    "a = np.array( range(1,8) )\n",
    "print (a)\n",
    "print(a.ndim)\n",
    "\n",
    "print(a.shape)\n",
    "\n",
    "len(a)"
   ]
  },
  {
   "cell_type": "markdown",
   "metadata": {},
   "source": [
    "To make 2D arrays we do a list of lists representation"
   ]
  },
  {
   "cell_type": "code",
   "execution_count": 4,
   "metadata": {},
   "outputs": [
    {
     "name": "stdout",
     "output_type": "stream",
     "text": [
      "[[ 1  2  3  4]\n",
      " [ 5  6  7  8]\n",
      " [ 9 10 11 12]]\n",
      "2\n",
      "(3, 4)\n"
     ]
    },
    {
     "data": {
      "text/plain": [
       "3"
      ]
     },
     "execution_count": 4,
     "metadata": {},
     "output_type": "execute_result"
    }
   ],
   "source": [
    "\n",
    "A = np.array( [[1,2,3,4],[5,6,7,8],[9,10,11,12]] )\n",
    "print (A)\n",
    "print(A.ndim)\n",
    "\n",
    "print(A.shape)\n",
    "\n",
    "len(A)"
   ]
  },
  {
   "cell_type": "markdown",
   "metadata": {},
   "source": [
    "## Functions for arrays\n",
    "\n",
    "We rarely input numbers one by one, so numpy provides functions to autofill arrays.\n",
    "\n",
    "### Evenly spaced"
   ]
  },
  {
   "cell_type": "code",
   "execution_count": 5,
   "metadata": {},
   "outputs": [
    {
     "name": "stdout",
     "output_type": "stream",
     "text": [
      "[0 1 2 3 4 5 6 7 8 9]\n",
      "[1 3 5 7]\n"
     ]
    }
   ],
   "source": [
    "a = np.arange(10) # 0 .. n-1  (!)\n",
    "print(a)\n",
    "\n",
    "b = np.arange(1, 9, 2) # start, end (exclusive), step\n",
    "print(b)"
   ]
  },
  {
   "cell_type": "markdown",
   "metadata": {},
   "source": [
    "### By number of points"
   ]
  },
  {
   "cell_type": "code",
   "execution_count": 6,
   "metadata": {},
   "outputs": [
    {
     "name": "stdout",
     "output_type": "stream",
     "text": [
      "[0.  0.2 0.4 0.6 0.8 1. ]\n",
      "[0.  0.2 0.4 0.6 0.8]\n"
     ]
    }
   ],
   "source": [
    "c = np.linspace(0, 1, 6)   # start, end, num-points\n",
    "print(c)\n",
    "\n",
    "d = np.linspace(0, 1, 5, endpoint=False)\n",
    "print(d)"
   ]
  },
  {
   "cell_type": "markdown",
   "metadata": {},
   "source": [
    "### Common arrays"
   ]
  },
  {
   "cell_type": "code",
   "execution_count": 8,
   "metadata": {},
   "outputs": [
    {
     "name": "stdout",
     "output_type": "stream",
     "text": [
      "[[1. 1. 1.]\n",
      " [1. 1. 1.]\n",
      " [1. 1. 1.]]\n",
      "[[0. 0.]\n",
      " [0. 0.]]\n",
      "[[1. 0. 0. 0.]\n",
      " [0. 1. 0. 0.]\n",
      " [0. 0. 1. 0.]\n",
      " [0. 0. 0. 1.]]\n",
      "[[1 0 0 0 0]\n",
      " [0 2 0 0 0]\n",
      " [0 0 3 0 0]\n",
      " [0 0 0 4 0]\n",
      " [0 0 0 0 5]]\n"
     ]
    }
   ],
   "source": [
    "a = np.ones((3, 3))  # reminder: (3, 3) is a tuple\n",
    "print(a)\n",
    "\n",
    "\n",
    "\n",
    "b = np.zeros((2, 2))\n",
    "print(b)\n",
    "\n",
    "\n",
    "c = np.eye(4)\n",
    "print(c)\n",
    "\n",
    "\n",
    "\n",
    "d = np.diag(np.array([1, 2, 3, 4,5]))\n",
    "print(d)"
   ]
  },
  {
   "cell_type": "markdown",
   "metadata": {},
   "source": [
    "### Random numbers"
   ]
  },
  {
   "cell_type": "code",
   "execution_count": 9,
   "metadata": {},
   "outputs": [
    {
     "name": "stdout",
     "output_type": "stream",
     "text": [
      "[0.44921808 0.96599346 0.39838961 0.77509729]\n",
      "[-0.57265656  1.69209038  0.27095508  1.4617862 ]\n"
     ]
    }
   ],
   "source": [
    "a = np.random.rand(4)       # uniform in [0, 1]\n",
    "print(a)  \n",
    "\n",
    "\n",
    "b = np.random.randn(4)      # Gaussian\n",
    "print(b)  \n",
    "\n",
    "\n",
    "np.random.seed(1234) "
   ]
  },
  {
   "cell_type": "markdown",
   "metadata": {},
   "source": [
    "## Data types\n",
    "\n",
    "dtype gives you the data type of the array"
   ]
  },
  {
   "cell_type": "code",
   "execution_count": 10,
   "metadata": {},
   "outputs": [
    {
     "name": "stdout",
     "output_type": "stream",
     "text": [
      "int32\n",
      "float64\n",
      "float64\n"
     ]
    }
   ],
   "source": [
    "a = np.array([1, 2, 3])\n",
    "print(a.dtype)\n",
    "\n",
    "\n",
    "b = np.array([1., 2., 3.])\n",
    "print(b.dtype)\n",
    "\n",
    "c = np.array([1, 2, 3], dtype=float)\n",
    "print(c.dtype)"
   ]
  },
  {
   "cell_type": "markdown",
   "metadata": {},
   "source": [
    "## Array per use case\n",
    "\n",
    "### Linear algebra\n",
    "\n",
    "\n",
    "For linear algebra-like operations will usually want \"vectors\" of size (m,1) or size (1,n) -- in other words, two-dimensional matrices. (Note: there is a numpy class \"matrix\" that is specialized to linear algebra, but you should be a bit careful mixing \"array\" and \"matrix\" objects; so for now we'll stick with arrays)."
   ]
  },
  {
   "cell_type": "code",
   "execution_count": 12,
   "metadata": {},
   "outputs": [
    {
     "name": "stdout",
     "output_type": "stream",
     "text": [
      "[[1 2 3 4 5 6 7]]\n",
      "[[1]\n",
      " [2]\n",
      " [3]\n",
      " [4]\n",
      " [5]\n",
      " [6]\n",
      " [7]]\n",
      "[[1]\n",
      " [2]\n",
      " [3]\n",
      " [4]\n",
      " [5]\n",
      " [6]\n",
      " [7]]\n"
     ]
    }
   ],
   "source": [
    "# A row vector can be created as:\n",
    "b = np.array( [[1,2,3,4,5,6,7]])\n",
    "print(b)\n",
    "# and a column vector as\n",
    "bT = np.array( [[1],[2],[3],[4],[5],[6],[7]] )\n",
    "print(bT)\n",
    "# that's pretty inconvient, so we usually just use the \"transpose\" operator:\n",
    "bT = np.array( [[1,2,3,4,5,6,7]]).T\n",
    "print(bT)"
   ]
  },
  {
   "cell_type": "markdown",
   "metadata": {},
   "source": [
    "### Linspace and logspace\n",
    "\n",
    "These are constructors that generate arrays with a certain pattern"
   ]
  },
  {
   "cell_type": "code",
   "execution_count": 14,
   "metadata": {},
   "outputs": [
    {
     "name": "stdout",
     "output_type": "stream",
     "text": [
      "[1. 3. 5. 7.]\n",
      "[  1.           2.15443469   4.64158883  10.          21.5443469\n",
      "  46.41588834 100.        ]\n"
     ]
    }
   ],
   "source": [
    "b = np.linspace(1.0,7.0,4) # length-4 vector interpolating between 1.0 and 7.0\n",
    "cd = np.logspace(0.0,2.0,7) # length-7 vector interpolating between 10^0 and 10^2 logarithmically\n",
    "print (b)\n",
    "print (cd)"
   ]
  },
  {
   "cell_type": "markdown",
   "metadata": {},
   "source": [
    "### Array indexing\n",
    "\n",
    "\n",
    "Arrays can be indexed in simple and useful ways. The (i,j)th entry in a matrix is simply:\n"
   ]
  },
  {
   "cell_type": "code",
   "execution_count": 15,
   "metadata": {},
   "outputs": [
    {
     "name": "stdout",
     "output_type": "stream",
     "text": [
      "A[2,0]= 9\n"
     ]
    }
   ],
   "source": [
    "\n",
    "\n",
    "print ( \"A[2,0]=\" ,A[2,0]  ) # 3rd row, 1st column"
   ]
  },
  {
   "cell_type": "markdown",
   "metadata": {},
   "source": [
    "Entire column or row"
   ]
  },
  {
   "cell_type": "code",
   "execution_count": 16,
   "metadata": {},
   "outputs": [
    {
     "name": "stdout",
     "output_type": "stream",
     "text": [
      "A[0,:]= [1 2 3 4]\n",
      "A[:,1]= [ 2  6 10]\n",
      "A[2, [1,4]]= [ 9 12]\n",
      "A[:, [1,4]]=\n",
      " [[ 1  4]\n",
      " [ 5  8]\n",
      " [ 9 12]]\n"
     ]
    }
   ],
   "source": [
    "print (\"A[0,:]=\",A[0,:])\n",
    "print (\"A[:,1]=\",A[:,1])\n",
    "print( \"A[2, [1,4]]=\",A[2, [0,3]])\n",
    "print(\"A[:, [1,4]]=\\n\",A[:, [0,3]])"
   ]
  },
  {
   "cell_type": "markdown",
   "metadata": {},
   "source": [
    "### Arithmetic operators"
   ]
  },
  {
   "cell_type": "code",
   "execution_count": 17,
   "metadata": {},
   "outputs": [
    {
     "name": "stdout",
     "output_type": "stream",
     "text": [
      "[1 2 3]\n",
      "[3 4 5]\n"
     ]
    }
   ],
   "source": [
    "print(a)\n",
    "a=a+2\n",
    "print (a)"
   ]
  },
  {
   "cell_type": "code",
   "execution_count": 18,
   "metadata": {},
   "outputs": [
    {
     "name": "stdout",
     "output_type": "stream",
     "text": [
      "a + 2*c =  [ 5.  8. 11.]\n"
     ]
    }
   ],
   "source": [
    "print (\"a + 2*c = \",a+2*c)"
   ]
  },
  {
   "cell_type": "markdown",
   "metadata": {},
   "source": [
    "You can add two vectors if they are the same size but you cannot add two vectors that are not the same size (unless one is a scalar):"
   ]
  },
  {
   "cell_type": "code",
   "execution_count": 19,
   "metadata": {},
   "outputs": [
    {
     "name": "stdout",
     "output_type": "stream",
     "text": [
      "Got exception!\n"
     ]
    }
   ],
   "source": [
    "try:\n",
    "    print (\"a + b = \",a+b ) # raises a ValueError exception\n",
    "except:\n",
    "    print (\"Got exception!\")"
   ]
  },
  {
   "cell_type": "markdown",
   "metadata": {},
   "source": [
    "Operators are interpreted as elementwise, so that a*c is a vector:"
   ]
  },
  {
   "cell_type": "code",
   "execution_count": 20,
   "metadata": {},
   "outputs": [
    {
     "name": "stdout",
     "output_type": "stream",
     "text": [
      "[ 3.  8. 15.]\n"
     ]
    }
   ],
   "source": [
    "print (a * c)"
   ]
  },
  {
   "cell_type": "markdown",
   "metadata": {},
   "source": [
    "Linear-algebraic operations are also defined for vectors and matrices:"
   ]
  },
  {
   "cell_type": "code",
   "execution_count": 21,
   "metadata": {},
   "outputs": [
    {
     "data": {
      "text/plain": [
       "array([ 50., 114., 178.])"
      ]
     },
     "execution_count": 21,
     "metadata": {},
     "output_type": "execute_result"
    }
   ],
   "source": [
    "a.dot(c.T)  # The dot product between vectors a and c\n",
    "A.dot(b.T)  # The matrix-vector product of A and  c"
   ]
  },
  {
   "cell_type": "markdown",
   "metadata": {},
   "source": [
    "## Visualization\n",
    "\n",
    "To visualize data we use matplotlib. Let's enable plots"
   ]
  },
  {
   "cell_type": "code",
   "execution_count": 22,
   "metadata": {},
   "outputs": [
    {
     "data": {
      "image/png": "[encoded data removed]",
      "text/plain": [
       "<Figure size 432x288 with 1 Axes>"
      ]
     },
     "metadata": {},
     "output_type": "display_data"
    }
   ],
   "source": [
    "%matplotlib inline \n",
    "import matplotlib.pyplot as plt  # the tidy way\n",
    "plt.plot(a, c)       # line plot    \n",
    "plt.show()"
   ]
  },
  {
   "cell_type": "markdown",
   "metadata": {},
   "source": [
    "### 1 D Plotting"
   ]
  },
  {
   "cell_type": "code",
   "execution_count": 23,
   "metadata": {},
   "outputs": [
    {
     "data": {
      "text/plain": [
       "[<matplotlib.lines.Line2D at 0x2371efc2c18>]"
      ]
     },
     "execution_count": 23,
     "metadata": {},
     "output_type": "execute_result"
    },
    {
     "data": {
      "image/png": "[encoded data removed]",
      "text/plain": [
       "<Figure size 432x288 with 1 Axes>"
      ]
     },
     "metadata": {},
     "output_type": "display_data"
    }
   ],
   "source": [
    "x = np.linspace(0, 3, 20)\n",
    "y = np.linspace(0, 9, 20)\n",
    "plt.plot(x, y)       # line plot    \n",
    "\n",
    "plt.plot(x, y, 'o')  # dot plot "
   ]
  },
  {
   "cell_type": "markdown",
   "metadata": {},
   "source": [
    "### 2D Arrays"
   ]
  },
  {
   "cell_type": "code",
   "execution_count": 24,
   "metadata": {},
   "outputs": [
    {
     "data": {
      "text/plain": [
       "<matplotlib.colorbar.Colorbar at 0x2371f475c50>"
      ]
     },
     "execution_count": 24,
     "metadata": {},
     "output_type": "execute_result"
    },
    {
     "data": {
      "image/png": "[encoded data removed]",
      "text/plain": [
       "<Figure size 432x288 with 2 Axes>"
      ]
     },
     "metadata": {},
     "output_type": "display_data"
    }
   ],
   "source": [
    "image = np.random.rand(30, 30)\n",
    "plt.imshow(image, cmap=plt.cm.hot)    \n",
    "\n",
    "plt.colorbar()    \n"
   ]
  },
  {
   "cell_type": "markdown",
   "metadata": {},
   "source": [
    "### Multiple vectors"
   ]
  },
  {
   "cell_type": "code",
   "execution_count": 25,
   "metadata": {},
   "outputs": [
    {
     "data": {
      "image/png": "[encoded data removed]",
      "text/plain": [
       "<Figure size 432x288 with 1 Axes>"
      ]
     },
     "metadata": {},
     "output_type": "display_data"
    }
   ],
   "source": [
    "x_values = np.linspace(0,8,100)\n",
    "y1 = np.sin(x_values)         # sinusoidal function\n",
    "y2 = (x_values - 3)**2 / 12   # a simple quadratic curve\n",
    "y3 = 0.5*x_values - 1.0       # a simple linear function\n",
    "\n",
    "plt.plot(x_values, y1, 'b-', x_values, y2, 'g--');  # plot two curves\n",
    "plt.plot(x_values, y3, 'r:'); # add a curve to the plot"
   ]
  },
  {
   "cell_type": "markdown",
   "metadata": {},
   "source": [
    "### Histograms"
   ]
  },
  {
   "cell_type": "code",
   "execution_count": 26,
   "metadata": {},
   "outputs": [
    {
     "data": {
      "image/png": "[encoded data removed]",
      "text/plain": [
       "<Figure size 432x288 with 1 Axes>"
      ]
     },
     "metadata": {},
     "output_type": "display_data"
    }
   ],
   "source": [
    "plt.hist(y2, bins=20);"
   ]
  },
  {
   "cell_type": "markdown",
   "metadata": {},
   "source": [
    "### Subplots\n",
    "\n",
    "It is often useful to put more than one plot together in a group; you can do this using the subplot function. There are various options; for example, \"sharex\" and \"sharey\" allow multiple plots to share a single axis range (or, you can set it manually, of course).\n",
    "\n",
    "I often find it necessary to also change the geometry of the figure for multiple subplots -- although this is more generally useful as well, if you have a plot that looks better wider and shorter, for example."
   ]
  },
  {
   "cell_type": "code",
   "execution_count": 27,
   "metadata": {},
   "outputs": [
    {
     "data": {
      "image/png": "[encoded data removed]",
      "text/plain": [
       "<Figure size 864x216 with 3 Axes>"
      ]
     },
     "metadata": {},
     "output_type": "display_data"
    }
   ],
   "source": [
    "plt.rcParams['figure.figsize'] = (12.0, 3.0)\n",
    "fig,ax = plt.subplots(1,3)      # make a 1 x 3 grid of plots:\n",
    "ax[0].plot(x_values, y1, 'b-');   # plot y1 in the first subplot\n",
    "ax[1].plot(x_values, y2, 'g--');  #   y2 in the 2nd\n",
    "ax[2].plot(x_values, y3, 'r:');   #   and y3 in the last\n",
    "\n",
    "plt.rcParams['figure.figsize'] = (6.0, 4.0);  # restore default plot size after"
   ]
  },
  {
   "cell_type": "code",
   "execution_count": null,
   "metadata": {},
   "outputs": [],
   "source": []
  }
 ],
 "metadata": {
  "kernelspec": {
   "display_name": "Python 3",
   "language": "python",
   "name": "python3"
  },
  "language_info": {
   "codemirror_mode": {
    "name": "ipython",
    "version": 3
   },
   "file_extension": ".py",
   "mimetype": "text/x-python",
   "name": "python",
   "nbconvert_exporter": "python",
   "pygments_lexer": "ipython3",
   "version": "3.6.5"
  }
 },
 "nbformat": 4,
 "nbformat_minor": 2
}
