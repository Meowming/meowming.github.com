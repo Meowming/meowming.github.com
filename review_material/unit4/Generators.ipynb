{
 "cells": [
  {
   "cell_type": "markdown",
   "metadata": {},
   "source": [
    "# Generators\n",
    "\n",
    "This notebook was created with information from http://www.bogotobogo.com\n",
    "\n",
    "\n",
    "By now you should know what iterators are.Generators behave like them but are actually functions and exprssions. The advantage of using a generator is memory efficiency, since instead of loading a whole array into memory it only yields the next value (whenever next() is called)\n",
    "\n",
    "There are two ways to use generators:\n",
    "\n",
    "1- As functions: Using yield forces the function to generate one value at a time\n",
    "\n",
    "2- As expressions: Similar to comprehensions but instead of populating a list it only returns the results on deman in the form of an object\n",
    "\n",
    "Both use the iteration protocol (which is why we are learning about them in the iterator unit and not in functional programming)\n",
    "\n",
    "## Yield vs return\n",
    "\n",
    "Generators are declared just as you would a function, however they have two main differences (or one difference and a complement). Generators do not return a value/object (well that's not entirely true, they might return a StopIteration exception that means that you can't iterate through the generator anymore because it has arrived to the end of it. Whew that's a big parentheses). Instead they __yield__ a new value whenever they are called. For this they heavily rely on the iterator protocol and the \\__next__() operator.\n",
    "\n",
    "Therefore, the very first thing you should learn about generators is how to use the yield statement. Is a special return exclusive to generators (and  merging lanes on a freeway) that tells the Python machine to compute the value on demand. Let's see an example:"
   ]
  },
  {
   "cell_type": "code",
   "execution_count": 9,
   "metadata": {},
   "outputs": [
    {
     "name": "stdout",
     "output_type": "stream",
     "text": [
      "<generator object create_counter at 0x000001C329FA8830>\n",
      "create_counter()\n",
      "2\n",
      "increment n\n",
      "3\n",
      "increment n\n",
      "4\n"
     ]
    }
   ],
   "source": [
    "def create_counter(n):\n",
    "\tprint('create_counter()')\n",
    "\twhile True:\n",
    "\t\tyield n\n",
    "\t\tprint('increment n')\n",
    "\t\tn += 1\n",
    "\n",
    "c = create_counter(2)\n",
    "print(c)\n",
    "print(next(c))\n",
    "print(next(c))\n",
    "print(next(c))"
   ]
  },
  {
   "cell_type": "markdown",
   "metadata": {},
   "source": [
    "Here's what's going on:\n",
    "\n",
    "1- We don't need to specify that create_counter is a generator, the presence of yield gives it away. Calling upon it returns a generator that can be used to generate succesive values after n. Note that the first time we call it it yields the original number, that is because we are yielding n before incrementing it.\n",
    "\n",
    "2- Notice that even though we call creat_counter as a function, it doesn't do anything until we call next() on it. Hence the reason that printing it before calling next just tells us that it is a generator function.\n",
    "\n",
    "3- The first time we call next(), the generator stops at returning/yielding n. The second time it increments by 1 and then yields it again, and so on.\n",
    "\n",
    "4- This generator has no stopping condition so it can be called upon infinitely, so be careful on how you use it in a loop.\n",
    "\n",
    "Let's look at another example using a loop:"
   ]
  },
  {
   "cell_type": "code",
   "execution_count": 14,
   "metadata": {},
   "outputs": [
    {
     "name": "stdout",
     "output_type": "stream",
     "text": [
      "0 : 1 : 8 : 27 : 64 : "
     ]
    },
    {
     "ename": "StopIteration",
     "evalue": "",
     "output_type": "error",
     "traceback": [
      "\u001b[1;31m---------------------------------------------------------------------------\u001b[0m",
      "\u001b[1;31mStopIteration\u001b[0m                             Traceback (most recent call last)",
      "\u001b[1;32m<ipython-input-14-e29eaec06c71>\u001b[0m in \u001b[0;36m<module>\u001b[1;34m()\u001b[0m\n\u001b[0;32m      6\u001b[0m \u001b[1;32mfor\u001b[0m \u001b[0mi\u001b[0m \u001b[1;32min\u001b[0m \u001b[0mcg\u001b[0m\u001b[1;33m:\u001b[0m\u001b[1;33m\u001b[0m\u001b[0m\n\u001b[0;32m      7\u001b[0m         \u001b[0mprint\u001b[0m\u001b[1;33m(\u001b[0m\u001b[0mi\u001b[0m\u001b[1;33m,\u001b[0m  \u001b[0mend\u001b[0m\u001b[1;33m=\u001b[0m\u001b[1;34m' : '\u001b[0m\u001b[1;33m)\u001b[0m  \u001b[1;31m# Python 3.0\u001b[0m\u001b[1;33m\u001b[0m\u001b[0m\n\u001b[1;32m----> 8\u001b[1;33m \u001b[0mprint\u001b[0m\u001b[1;33m(\u001b[0m\u001b[0mnext\u001b[0m\u001b[1;33m(\u001b[0m\u001b[0mcg\u001b[0m\u001b[1;33m)\u001b[0m\u001b[1;33m)\u001b[0m\u001b[1;33m\u001b[0m\u001b[0m\n\u001b[0m",
      "\u001b[1;31mStopIteration\u001b[0m: "
     ]
    }
   ],
   "source": [
    "def cubic_generator(n):\n",
    "\tfor i in range(n):\n",
    "\t\tyield i ** 3\n",
    "        \n",
    "cg=cubic_generator(5)        \n",
    "for i in cg:\n",
    "\tprint(i,  end=' : ')  # Python 3.0\n",
    "print(next(cg))"
   ]
  },
  {
   "cell_type": "markdown",
   "metadata": {},
   "source": [
    "Notice that this is a finite generator, it has a limit which is determined by the loop inside it. When we try to iterate once more we get a StopIteration exception. If we wanted to use a function instead we would have to generate the whole list of numbers and then iterate through them, or call upon the function everytime we loop (and then we have to create a counter and bla bla bla)\n",
    "\n",
    "Another example? Sure why not, this one is taken directly from bogotobog so I'll let them explain it to you\n",
    "\n",
    "[begin citation]\n",
    "\n",
    "Because generators preserve their local state between invocations, they're particularly well-suited for complicated, stateful iterators, such as fibonacci numbers. The generator returning the Fibonacci numbers using Python's yield statement can be seen below.\n",
    "\n"
   ]
  },
  {
   "cell_type": "code",
   "execution_count": 15,
   "metadata": {},
   "outputs": [
    {
     "name": "stdout",
     "output_type": "stream",
     "text": [
      "0 1 1 2 3 5 8 13 21 34 55 89 144 233 377 "
     ]
    },
    {
     "data": {
      "text/plain": [
       "[0, 1, 1, 2, 3, 5, 8, 13, 21, 34, 55, 89, 144, 233, 377]"
      ]
     },
     "execution_count": 15,
     "metadata": {},
     "output_type": "execute_result"
    }
   ],
   "source": [
    "def fibonacci(max):\n",
    "    a, b = 0, 1           # (1)\n",
    "    while a < max:\n",
    "        yield a          #  (2)\n",
    "        a, b = b, a + b   # (3)\n",
    "\n",
    "for n in fibonacci(500):\n",
    "\tprint(n, end=' ')\n",
    "\n",
    "list(fibonacci(500))"
   ]
  },
  {
   "cell_type": "markdown",
   "metadata": {},
   "source": [
    "1) It starts with 0 and 1, goes up slowly at first, then more and more rapidly. To start the sequence, we need two variables: a starts at 0, and b starts at 1.\n",
    "\n",
    "2) a is the current number in the sequence, so yield it.\n",
    "\n",
    "3) b is the next number in the sequence, so assign that to a, but also calculate the next value a + b and assign that to b for later use. Note that this happens in parallel; if a is 3 and b is 5, then a, b = b, a + b will set a to 5 (the previous value of b) and b to 8 (the sum of the previous values of a and b).\n",
    "\n",
    "As we can see from the output, we can use a generator like fibonacci() in a for loop directly. The for loop will automatically call the next() function to get values from the fibonacci() generator and assign them to the for loop index variable (n). Each time through the for loop, n gets a new value from the yield statement in fibonacci(), and all we have to do is print it out. Once fibonacci() runs out of numbers (a becomes bigger than max, which in this case is 500), then the for loop exits gracefully.\n",
    "\n",
    "This is a useful idiom: pass a generator to the list() function, and it will iterate through the entire generator (just like the for loop in the previous example) and return a list of all the values.\n",
    "\n",
    "[end citation]"
   ]
  },
  {
   "cell_type": "markdown",
   "metadata": {},
   "source": [
    "## Generators as expressions\n",
    "\n",
    "Generator expressions are incredibly similar to list comprehensions in the way we call them, the only difference is they use parentheses instead of square brackets."
   ]
  },
  {
   "cell_type": "code",
   "execution_count": 20,
   "metadata": {},
   "outputs": [
    {
     "name": "stdout",
     "output_type": "stream",
     "text": [
      "[0, 1, 8, 27, 64]\n",
      "<generator object <genexpr> at 0x000001C32A094C50>\n",
      "0\n",
      "1\n",
      "8\n"
     ]
    }
   ],
   "source": [
    "# List comprehension makes a list\n",
    "a=[ x ** 3 for x in range(5)]\n",
    "\n",
    "# Generator expression makes an iterable\n",
    "b=(x ** 3 for x in range(5))\n",
    "\n",
    "print(a)\n",
    "print(b) \n",
    "print(next(b))\n",
    "print(next(b))\n",
    "print(next(b))"
   ]
  },
  {
   "cell_type": "markdown",
   "metadata": {},
   "source": [
    "You can see that the comprehension already generated the list, but the generator does it on demand. Let's look at other examples on how to use a generator as an expression for iterator operators:"
   ]
  },
  {
   "cell_type": "code",
   "execution_count": 21,
   "metadata": {},
   "outputs": [
    {
     "data": {
      "text/plain": [
       "100"
      ]
     },
     "execution_count": 21,
     "metadata": {},
     "output_type": "execute_result"
    }
   ],
   "source": [
    "sum (x ** 3 for x in range(5))\n",
    "\n"
   ]
  },
  {
   "cell_type": "code",
   "execution_count": 22,
   "metadata": {},
   "outputs": [
    {
     "data": {
      "text/plain": [
       "[0, 1, 8, 27, 64]"
      ]
     },
     "execution_count": 22,
     "metadata": {},
     "output_type": "execute_result"
    }
   ],
   "source": [
    "sorted(x ** 3 for x in range(5))\n",
    "\n"
   ]
  },
  {
   "cell_type": "code",
   "execution_count": 23,
   "metadata": {},
   "outputs": [
    {
     "data": {
      "text/plain": [
       "[64, 27, 8, 1, 0]"
      ]
     },
     "execution_count": 23,
     "metadata": {},
     "output_type": "execute_result"
    }
   ],
   "source": [
    "sorted((x ** 3 for x in range(5)), reverse=True)\n"
   ]
  },
  {
   "cell_type": "code",
   "execution_count": 24,
   "metadata": {},
   "outputs": [
    {
     "data": {
      "text/plain": [
       "[0.0, 1.0, 2.8284271247461903, 5.196152422706632, 8.0]"
      ]
     },
     "execution_count": 24,
     "metadata": {},
     "output_type": "execute_result"
    }
   ],
   "source": [
    "import math\n",
    "list( map(math.sqrt, (x ** 3 for x in range(5))) )"
   ]
  },
  {
   "cell_type": "markdown",
   "metadata": {},
   "source": [
    "One thing though. Generator expressions are not speed efficient. They are more versatile and more memory efficient than lists, so in general you should only use them for long complicated sequences where memory space is critical.\n",
    "\n"
   ]
  },
  {
   "cell_type": "markdown",
   "metadata": {},
   "source": [
    "## Generator.Send()\n",
    "\n",
    "So far we have seen generators that iterate through predetermined numbers. However, generators can take input as well, this is done through the send() method. Let's look at the following example:"
   ]
  },
  {
   "cell_type": "code",
   "execution_count": 40,
   "metadata": {},
   "outputs": [
    {
     "name": "stdout",
     "output_type": "stream",
     "text": [
      "10\n",
      "100\n",
      "5.0\n"
     ]
    }
   ],
   "source": [
    "def f():\n",
    "     while True:\n",
    "        val = yield\n",
    "        yield val*10 \n",
    "g = f()\n",
    "next(g)\n",
    "print(g.send(1))\n",
    "next(g)\n",
    "print(g.send(10))\n",
    "next(g)\n",
    "print(g.send(0.5))"
   ]
  },
  {
   "cell_type": "markdown",
   "metadata": {},
   "source": [
    "We bound the generator f() to g. Then we call upon next so the generator will go directly to yield. Once there we can send a value that is evaluated at yield. Inside the generator we bound that value to val so the generator returns val*10."
   ]
  },
  {
   "cell_type": "code",
   "execution_count": 49,
   "metadata": {},
   "outputs": [
    {
     "name": "stdout",
     "output_type": "stream",
     "text": [
      "None\n",
      "9\n",
      "6\n",
      "4\n",
      "10\n",
      "9\n",
      "9\n",
      "8\n",
      "6\n",
      "3\n",
      "9\n"
     ]
    }
   ],
   "source": [
    "import random\n",
    "\n",
    "def cf():\n",
    "    while True:\n",
    "        val = yield\n",
    "        print (val)\n",
    "\n",
    "def pf(c):\n",
    "    while True:\n",
    "        val = random.randint(1,10)\n",
    "        c.send(val)\n",
    "        yield\n",
    "\n",
    "\n",
    "c = cf()\n",
    "print(c.send(None))\n",
    "p = pf(c)\n",
    "\n",
    "for wow in range(10):\n",
    "    next(p)"
   ]
  },
  {
   "cell_type": "markdown",
   "metadata": {},
   "source": [
    "In this piece of code we are using the cf function to print the value from yield and the pf function to generate a list of random ints. pf send the values to cf which in turn prints it, so we don't need to call on print(next(p)) everytime."
   ]
  },
  {
   "cell_type": "markdown",
   "metadata": {},
   "source": [
    "## Final notes on generators\n",
    "\n",
    "Generators are their own iterator, therefore there can only be one active iteration. You cannot retrieve values from two different passes at a generator, and once its exhausted you need to start a new one. If you need to keep the values of a generator for future use you need to bind them to a list, tuple or dictionary. here's an example:"
   ]
  },
  {
   "cell_type": "code",
   "execution_count": 25,
   "metadata": {},
   "outputs": [
    {
     "name": "stdout",
     "output_type": "stream",
     "text": [
      "PPPPP\n",
      "yyyyy\n",
      "ttttt\n"
     ]
    }
   ],
   "source": [
    "G = (c * 5 for c in 'Python')\n",
    " # Iterate manually\n",
    "I1 = iter(G)\n",
    "print(next(I1))\n",
    "\n",
    "print( next(I1))\n",
    "\n",
    "I2 = iter(G)\n",
    "print( next(I2))\n"
   ]
  },
  {
   "cell_type": "markdown",
   "metadata": {},
   "source": [
    "Even though the generator is bound to two different objects, it points to the same spot unless a new generator is created.\n",
    "\n",
    "Finally, you can get away without knowing generators. Lists, tuples and dictionaries will get you by in creating solutions to most of the coding problems you will encounter. However, knowing them and using them, just as using lambdas and comprehensions, are the true test of a master Pythonista. Whenever someone asks you if you know Python more often than not the next wquestion will be do you know generators, lambdas and comprehensions? to which I hope you truthfully answer with \"('yes'for x in range(3))\""
   ]
  },
  {
   "cell_type": "code",
   "execution_count": 32,
   "metadata": {},
   "outputs": [
    {
     "name": "stdout",
     "output_type": "stream",
     "text": [
      "yes\n",
      "yes\n",
      "yes\n"
     ]
    }
   ],
   "source": [
    "affirmative=('yes'for x in range(3))\n",
    "print(next(affirmative))\n",
    "print(next(affirmative))\n",
    "print(next(affirmative))"
   ]
  },
  {
   "cell_type": "code",
   "execution_count": null,
   "metadata": {},
   "outputs": [],
   "source": []
  }
 ],
 "metadata": {
  "kernelspec": {
   "display_name": "Python 3",
   "language": "python",
   "name": "python3"
  },
  "language_info": {
   "codemirror_mode": {
    "name": "ipython",
    "version": 3
   },
   "file_extension": ".py",
   "mimetype": "text/x-python",
   "name": "python",
   "nbconvert_exporter": "python",
   "pygments_lexer": "ipython3",
   "version": "3.6.5"
  }
 },
 "nbformat": 4,
 "nbformat_minor": 2
}
