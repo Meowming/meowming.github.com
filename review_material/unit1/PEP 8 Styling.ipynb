{
 "cells": [
  {
   "cell_type": "markdown",
   "metadata": {},
   "source": [
    "## PEP 8 Styling"
   ]
  },
  {
   "cell_type": "markdown",
   "metadata": {},
   "source": [
    "A useful piece of code is like a very good cookie. It will taste good and everyone will want to know the recipe. \n",
    "Python is very flexible in regards of how you can do things. A simple example is how you can traverse through a list using a for loop, a comprehension, a lambda function, etc. The downside of this flexibility is that it allows for slopinnes from the developer, which can turn into incomprehensible code.\n",
    "In order to maximize reuse and interpretability of code, there is a style guide or coding convention included in the official Python documentation called PEP 8. You can find the official documentation at the following link, but this lesson will be an overview of PEP 8 and how to check your code for it.\n",
    "https://www.python.org/dev/peps/pep-0008/\n",
    "\n",
    "Note: In order to do PEP8 checking on Jupyter, we'll be using pycodestyle for which you need to run the following commands:\n",
    "\n",
    "pip install pycodestyle\n",
    "\n",
    "pip install pycodestyle_magic\n",
    "\n",
    "There are several tools to do command line checking including Python's official checker, usage is:\n",
    "pep8 --show-source --show-pep8 FILE.py"
   ]
  },
  {
   "cell_type": "markdown",
   "metadata": {},
   "source": [
    "## Checking your code for styling"
   ]
  },
  {
   "cell_type": "markdown",
   "metadata": {},
   "source": [
    "First, we need to load the pycodestyle module"
   ]
  },
  {
   "cell_type": "code",
   "execution_count": null,
   "metadata": {},
   "outputs": [],
   "source": [
    "%load_ext pycodestyle_magic #loading the pycodestyle module"
   ]
  },
  {
   "cell_type": "markdown",
   "metadata": {},
   "source": [
    "Every block that you want to check for styling you need to include the %%pycodestyle function. The code will not be executed, just checked for styling."
   ]
  },
  {
   "cell_type": "code",
   "execution_count": null,
   "metadata": {},
   "outputs": [],
   "source": [
    "%%pycodestyle\n",
    "a=1\n",
    "b = 2\n",
    "c  =  3"
   ]
  },
  {
   "cell_type": "markdown",
   "metadata": {},
   "source": [
    "## The Zen of Python"
   ]
  },
  {
   "cell_type": "markdown",
   "metadata": {},
   "source": [
    "Beautiful is better than ugly.\n",
    "\n",
    "Explicit is better than implicit.\n",
    "\n",
    "Simple is better than complex.\n",
    "\n",
    "Complex is better than complicated.\n",
    "\n",
    "Flat is better than nested.\n",
    "\n",
    "Sparse is better than dense.\n",
    "\n",
    "Readability counts.\n",
    "\n",
    "Special cases aren't special enough to break the rules.\n",
    "\n",
    "Although practicality beats purity.\n",
    "\n",
    "Errors should never pass silently.\n",
    "\n",
    "Unless explicitly silenced.\n",
    "\n",
    "In the face of ambiguity, refuse the temptation to guess.\n",
    "\n",
    "There should be one-- and preferably only one --obvious way to do it.\n",
    "\n",
    "Although that way may not be obvious at first unless you're Dutch.\n",
    "\n",
    "Now is better than never.\n",
    "\n",
    "Although never is often better than *right* now.\n",
    "\n",
    "If the implementation is hard to explain, it's a bad idea.\n",
    "\n",
    "If the implementation is easy to explain, it may be a good idea.\n",
    "\n",
    "Namespaces are one honking great idea -- let's do more of those!"
   ]
  },
  {
   "cell_type": "markdown",
   "metadata": {},
   "source": [
    "## Indentation"
   ]
  },
  {
   "cell_type": "markdown",
   "metadata": {},
   "source": [
    "Although most IDEs will indent automatically, indentation should be done with 4 spaces instead of a tab. This will keep the code clean across different platforms as a tab is interpreted differently depending on the editor and the operating system"
   ]
  },
  {
   "cell_type": "code",
   "execution_count": null,
   "metadata": {},
   "outputs": [],
   "source": [
    "%%pycodestyle\n",
    "mother = 1\n",
    "if mother < 1:\n",
    "    print('no mama')  # 4 spaces\n",
    "else:\n",
    "         print('mama')  # tab"
   ]
  },
  {
   "cell_type": "markdown",
   "metadata": {},
   "source": [
    "## Maximum Line Length"
   ]
  },
  {
   "cell_type": "markdown",
   "metadata": {},
   "source": [
    "Yes you can do everything in one line. A super complicated generator inside a comprehension. But it gets complicated to read also. Keep your line length less than 79 charachters. This is so you don't have to scroll horizontally to read the instruction and you can compare files side by side. This also applies for comments."
   ]
  },
  {
   "cell_type": "code",
   "execution_count": null,
   "metadata": {},
   "outputs": [],
   "source": [
    "%%pycodestyle\n",
    "# 1 2 3 4 5 6 7 8 9 10 11 12 13 14 15 16 17 18 19 20 21 22 23 24 25 26 27 28 29 30 31 32 33 34 35 36 37 38 39 40 41 42 43 44 45 46 47 48 49 50"
   ]
  },
  {
   "cell_type": "markdown",
   "metadata": {},
   "source": [
    "Also when using multiple lines avoid starting with an operator"
   ]
  },
  {
   "cell_type": "code",
   "execution_count": null,
   "metadata": {},
   "outputs": [],
   "source": [
    "%%pycodestyle\n",
    "total = (A +\n",
    "         B)\n",
    "res = (A\n",
    "      +  B)"
   ]
  },
  {
   "cell_type": "markdown",
   "metadata": {},
   "source": [
    "## Blank Lines"
   ]
  },
  {
   "cell_type": "markdown",
   "metadata": {},
   "source": [
    "Top level functions should be separated by two lines and classes should be separated by one"
   ]
  },
  {
   "cell_type": "code",
   "execution_count": null,
   "metadata": {},
   "outputs": [],
   "source": [
    "%%pycodestyle\n",
    "class SwapTestSuite(unittest.TestCase):\n",
    "    \"\"\"\n",
    "        Swap Operation Test Case\n",
    "    \"\"\"\n",
    "    def setUp(self):\n",
    "        self.a = 1\n",
    "        self.b = 2\n",
    "    def test_swap_operations(self):\n",
    "        instance = Swap(self.a,self.b)\n",
    "        value1, value2 =instance.get_swap_values()\n",
    "        self.assertEqual(self.a, value2)\n",
    "        self.assertEqual(self.b, value1)\n",
    "\n",
    "class OddOrEvenTestSuite(unittest.TestCase):\n",
    "    \"\"\"\n",
    "        This is the Odd or Even Test case Suite\n",
    "    \"\"\"\n",
    "    def setUp(self):\n",
    "        self.value1 = 1\n",
    "        self.value2 = 2\n",
    "\n",
    "    def test_odd_even_operations(self):\n",
    "        instance1 = OddOrEven(self.value1)\n",
    "        instance2 = OddOrEven(self.value2)\n",
    "        message1 = instance1.get_odd_or_even()\n",
    "        message2 = instance2.get_odd_or_even()\n",
    "        self.assertEqual(message1, 'Odd')\n",
    "        self.assertEqual(message2, 'Even')"
   ]
  },
  {
   "cell_type": "markdown",
   "metadata": {},
   "source": [
    "## Imports\n",
    "\n",
    "State each library import in one line"
   ]
  },
  {
   "cell_type": "code",
   "execution_count": null,
   "metadata": {},
   "outputs": [],
   "source": [
    "%%pycodestyle\n",
    "import one\n",
    "import two, three"
   ]
  },
  {
   "cell_type": "markdown",
   "metadata": {},
   "source": [
    "## Naming conventions\n",
    "\n",
    "Depending on the type of variable there is a convention for lower or uppercase words. Here is a table for that convention:\n",
    "\n",
    "    Module            lowercase\n",
    "    Class             CapWords\n",
    "    Functions         lowercase\n",
    "    Methods\t       lowercase\n",
    "    Type variables\tCapWords\n",
    "    Constants\t     UPPERCASE\n",
    "    Package\t       lowercase"
   ]
  },
  {
   "cell_type": "markdown",
   "metadata": {},
   "source": [
    "Homework: Check the other scripts from this unit using pycodestyle and see if you can find conventions for comments as well"
   ]
  },
  {
   "cell_type": "code",
   "execution_count": null,
   "metadata": {},
   "outputs": [],
   "source": []
  }
 ],
 "metadata": {
  "kernelspec": {
   "display_name": "Python 3",
   "language": "python",
   "name": "python3"
  },
  "language_info": {
   "codemirror_mode": {
    "name": "ipython",
    "version": 3
   },
   "file_extension": ".py",
   "mimetype": "text/x-python",
   "name": "python",
   "nbconvert_exporter": "python",
   "pygments_lexer": "ipython3",
   "version": "3.6.5"
  }
 },
 "nbformat": 4,
 "nbformat_minor": 2
}
