{
 "cells": [
  {
   "cell_type": "markdown",
   "metadata": {},
   "source": [
    "# File Reading and Writing"
   ]
  },
  {
   "cell_type": "markdown",
   "metadata": {},
   "source": [
    "In this notebook we'll learn how to handle files. Open them, close them, modify them. Feel free to play with the code a little bit, be creative."
   ]
  },
  {
   "cell_type": "markdown",
   "metadata": {},
   "source": [
    "## Opening a file"
   ]
  },
  {
   "cell_type": "markdown",
   "metadata": {},
   "source": [
    "A common (though messy) way to read a file is to bind it to an object. For this we use the open() function."
   ]
  },
  {
   "cell_type": "code",
   "execution_count": null,
   "metadata": {},
   "outputs": [],
   "source": [
    "mysong = open('remember.txt')\n",
    "#mysong = open('remember.txt', encoding='utf-8')\n",
    "lyrics = mysong.read()\n",
    "print (lyrics)\n",
    "#print (mysong)\n",
    "mysong.close()"
   ]
  },
  {
   "cell_type": "markdown",
   "metadata": {},
   "source": [
    "There are several reasons as to why this is not recommended. But the main one is that it is inneficient. You just created two objects, taking space, and you still haven't done a single thing. Most likely \"lyrics\" will have to be divided into smaller object to manipulate the data. Also, if your file is too big, this will raise an error for not having enough system memory.\n",
    "\n",
    "Though Jupyter notebook will suspend \"mysong\" when not in use, in reality you will have to close it to prevent a memory leak.\n",
    "\n",
    "A better way is to use readlines(), this will partition the file by line and store it in a one dimensional array"
   ]
  },
  {
   "cell_type": "code",
   "execution_count": null,
   "metadata": {},
   "outputs": [],
   "source": [
    "mysong = open('remember.txt')\n",
    "lines=mysong.readlines()\n",
    "print(lines)\n",
    "print(lines[1])\n",
    "mysong.close()"
   ]
  },
  {
   "cell_type": "markdown",
   "metadata": {},
   "source": [
    "After loading your file, you can iterate over it using a for loop. This allows you to manipulate each element (for example with a list of numbers)"
   ]
  },
  {
   "cell_type": "code",
   "execution_count": null,
   "metadata": {},
   "outputs": [],
   "source": [
    "counter=0\n",
    "for l in lines:\n",
    "    counter+=1\n",
    "print (counter)\n",
    "#print (len(lines))"
   ]
  },
  {
   "cell_type": "markdown",
   "metadata": {},
   "source": [
    "This can still be more efficient, but for now let's see how to write files"
   ]
  },
  {
   "cell_type": "markdown",
   "metadata": {},
   "source": [
    "## Writing Files"
   ]
  },
  {
   "cell_type": "markdown",
   "metadata": {},
   "source": [
    "Writing files is very similar. First lets look at the not so elegant way to do it. Note that the file has to be open with the \"write\" option."
   ]
  },
  {
   "cell_type": "code",
   "execution_count": null,
   "metadata": {},
   "outputs": [],
   "source": [
    "yoursong = open ('bohemian.txt', 'w')\n",
    "#yoursong = open ('bohemian.txt', 'a')\n",
    "yoursong.write ('Is this the real life \\nIs this just fantasy\\n')\n",
    "num1=3\n",
    "#yoursong.write(num1)\n",
    "#yoursong.write(str(num1))\n",
    "yoursong.close()"
   ]
  },
  {
   "cell_type": "markdown",
   "metadata": {},
   "source": [
    "Write() only takes in a string. \n",
    "The file options are 'w' for write, 'r' for read and 'a' for append."
   ]
  },
  {
   "cell_type": "markdown",
   "metadata": {},
   "source": [
    "## The power of 'with' and 'for'"
   ]
  },
  {
   "cell_type": "markdown",
   "metadata": {},
   "source": [
    "I promised that there is a better way to do things. And that is by using 'with' and 'for'. 'with' will open a file to be used in a block of statements and close it when you are done without having to invoke the close() method. And a for provides an efficient way to read through the content, you can even use it in a comprehension!"
   ]
  },
  {
   "cell_type": "code",
   "execution_count": null,
   "metadata": {
    "scrolled": true
   },
   "outputs": [],
   "source": [
    "with open('remember.txt','r', encoding= \"utf-8\") as bettersong:\n",
    "    for ln in bettersong:\n",
    "        #ln=ln.rstrip('\\n')\n",
    "        print(ln)\n",
    "        "
   ]
  },
  {
   "cell_type": "markdown",
   "metadata": {},
   "source": [
    "And is even better using a comprehension..."
   ]
  },
  {
   "cell_type": "code",
   "execution_count": null,
   "metadata": {},
   "outputs": [],
   "source": [
    "with open('remember.txt','r', encoding= \"utf-8\") as bettersong:\n",
    "    linelist=[ln.rstrip('\\n') for ln in bettersong]\n",
    "print(linelist)"
   ]
  },
  {
   "cell_type": "markdown",
   "metadata": {},
   "source": [
    "## Reading CSV files"
   ]
  },
  {
   "cell_type": "markdown",
   "metadata": {},
   "source": [
    "The real power of Python comes to life when you are manipulating data. The most common way to store it is using comma separated values. Going at it using the methods we used for text files is not the best way to do it. Python provides a library to deal with CSV files"
   ]
  },
  {
   "cell_type": "code",
   "execution_count": null,
   "metadata": {},
   "outputs": [],
   "source": [
    "day = []\n",
    "high = []\n",
    "low = []\n",
    "counter=0\n",
    "import csv\n",
    "with open('weather.csv', 'r', encoding='utf-8') as csvfile:\n",
    "#with open('weather.csv', 'r', encoding='utf-8-sig') as csvfile:\n",
    "    weather_reader = csv.reader(csvfile, delimiter=',')\n",
    "    for w in weather_reader:\n",
    "        print (w)\n",
    "        if (counter>0):\n",
    "            day.append(counter-1)\n",
    "            high.append(int(w[1]))\n",
    "            low.append(int(w[2]))\n",
    "        counter+=1"
   ]
  },
  {
   "cell_type": "markdown",
   "metadata": {},
   "source": [
    "As you can see, the file is two dimensional so the data will also be two dimensional. Now, why don't we try and plot this data."
   ]
  },
  {
   "cell_type": "code",
   "execution_count": null,
   "metadata": {},
   "outputs": [],
   "source": [
    "import matplotlib.pyplot as plt\n",
    "plt.plot(day, high, low)\n",
    "plt.xlabel('day')\n",
    "plt.ylabel('temperature')\n",
    "plt.show()"
   ]
  },
  {
   "cell_type": "markdown",
   "metadata": {},
   "source": [
    "Homework: Write a block of code that will read the data from weather, calculate the average from each day and save it on another csv file. Remember to set the second file to 'w' for write."
   ]
  },
  {
   "cell_type": "code",
   "execution_count": null,
   "metadata": {},
   "outputs": [],
   "source": []
  }
 ],
 "metadata": {
  "kernelspec": {
   "display_name": "Python 3",
   "language": "python",
   "name": "python3"
  },
  "language_info": {
   "codemirror_mode": {
    "name": "ipython",
    "version": 3
   },
   "file_extension": ".py",
   "mimetype": "text/x-python",
   "name": "python",
   "nbconvert_exporter": "python",
   "pygments_lexer": "ipython3",
   "version": "3.6.5"
  }
 },
 "nbformat": 4,
 "nbformat_minor": 2
}
