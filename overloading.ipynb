{
 "cells": [
  {
   "cell_type": "markdown",
   "metadata": {},
   "source": [
    "# Operator overloading\n",
    "\n",
    "Now that you remembered how to implement classes and declare methods, let's look at how to modify them. This is not limited to custom operators but Python operators can be modified as well\n",
    "\n",
    "## \\__init__\n",
    "\n",
    "The init operator is probably the most common to be overloaded. This class is called by default when calling a class to build a new object, even if it's not specifically implemented. Remember that init always takes self as the first argument.\n",
    "\n",
    "For this example, let's consider a vector (a tuple of N coordinates). The length, or number of coordinates determines the dimension of the vector. \n"
   ]
  },
  {
   "cell_type": "code",
   "execution_count": 1,
   "metadata": {},
   "outputs": [
    {
     "name": "stdout",
     "output_type": "stream",
     "text": [
      "(0, 0)\n",
      "(1, 1)\n",
      "(5, 5, 5, 5, 5)\n"
     ]
    }
   ],
   "source": [
    "class Vector:\n",
    "    def __init__(self,*args):\n",
    "        self.coords = args\n",
    "v = Vector(0,0)\n",
    "print(v.coords)\n",
    "\n",
    "v.coords = (1,1)\n",
    "print(v.coords)\n",
    "\n",
    "v.__init__(5,5,5,5,5)\n",
    "print(v.coords)"
   ]
  },
  {
   "cell_type": "markdown",
   "metadata": {},
   "source": [
    "Note that self.coords = ... establishes a new attribute name in the namespace\n",
    "of the constructed object and initializes it to the tuple args. \n",
    "        \n",
    "Like the methods that we will discuss below, we don't call \\__init__ directly,\n",
    "but Python does, automatically, when we \"call the Vector class\" to construct a\n",
    "new object from that class.\n",
    "\n",
    "We can also use \\__init__ another way in Python: we can call \\__init__\n",
    "explicitly on any existing Vector object, to reinitialize its coords attribute.\n",
    "\n",
    "## \\__len__\n",
    "\n",
    "We can call the len function on any object. It is automatically imported from the builtins module and most objects (including custom ones) will have it. (note: Int is one of the object types that won't return a len value but instead raise a TypeError)\n",
    "\n",
    "No let's use this knowledge to have Vector overload the len method."
   ]
  },
  {
   "cell_type": "code",
   "execution_count": 2,
   "metadata": {},
   "outputs": [
    {
     "name": "stdout",
     "output_type": "stream",
     "text": [
      "Calling __len__\n",
      "2\n"
     ]
    }
   ],
   "source": [
    "class Vector:\n",
    "    def __init__(self,*args):\n",
    "        self.coords = args\n",
    "\n",
    "    def __len__(self):\n",
    "        print('Calling __len__')\n",
    "        return len(self.coords)\n",
    "\n",
    "\n",
    "v = Vector(0,0)\n",
    "print(len(v))"
   ]
  },
  {
   "cell_type": "markdown",
   "metadata": {},
   "source": [
    "## __bool__\n",
    "\n",
    "Whenever Python needs to interpret some object as a boolean value, it calls the\n",
    "parameterless method \\__bool__ on the object. For example, if we write an \"if\"\n",
    "or \"while\" statement whose boolean test is just an object, Python attempts to\n",
    "call the \\__bool__function on that object to determine whether its boolean\n",
    "equivalent represents True or False.\n",
    "\n",
    "Using the definition of Vector above (defining just __init__ and __len__) and\n",
    "the test function below\n"
   ]
  },
  {
   "cell_type": "code",
   "execution_count": 3,
   "metadata": {},
   "outputs": [
    {
     "name": "stdout",
     "output_type": "stream",
     "text": [
      "x's boolean equivalent is \n",
      "Calling __len__\n",
      "True\n",
      "x's boolean equivalent is \n",
      "Calling __len__\n",
      "True\n",
      "x's boolean equivalent is \n",
      "Calling __len__\n",
      "False\n"
     ]
    }
   ],
   "source": [
    "def test(x):\n",
    "    print('x\\'s boolean equivalent is ')\n",
    "    if x:\n",
    "        print(True)\n",
    "    else:\n",
    "        print(False)\n",
    "\n",
    "\n",
    "v = Vector(0,0)\n",
    "test(v)\n",
    "\n",
    "v = Vector(2,2)\n",
    "test(v)\n",
    "\n",
    "v = Vector()\n",
    "test(v)\n"
   ]
  },
  {
   "cell_type": "markdown",
   "metadata": {},
   "source": [
    "The actual rule in Python for evaluating an object as if it were a boolean\n",
    "value is to first try to call \\__bool__ on the object (which cannot be done\n",
    "above, because a \\__bool__ method is not defined) and return its result; if that\n",
    "method is not present, Python instead returns whether the object's len is != 0.\n",
    "If there is no \\__len__ function Python just returns True (the mechanism to do\n",
    "this is actually related to inheritance, a topic we will cover later in the\n",
    "quarter).\n",
    "\n",
    "This rule explains why we can test str, list, tuple, set, and dict objects as\n",
    "booleans: all define \\__len__, and if any is empty (len = 0) it represents\n",
    "False; if any is not empty, it represents True.  Also, the object None has a\n",
    "boolean value of False (the NoneType class specifies a \\__bool__ method that\n",
    "always return False).\n",
    "\n",
    "So, when v = Vector(0,0) or v = Vector(2,2), len(v) is 2 which is != 0, so it\n",
    "is treated as True. When v = Vector(), len(v) is 0 which is not != 0 so it is\n",
    "treated as False.\n",
    "\n",
    "But suppose that we want to interpret vectors as boolean values differently. We\n",
    "will define Vector so that an instance is True if self.coords is not the\n",
    "origin, regardless of the vector's dimension: so, it is True if any of the\n",
    "coordinates in self.coords is not 0."
   ]
  },
  {
   "cell_type": "code",
   "execution_count": 10,
   "metadata": {},
   "outputs": [
    {
     "name": "stdout",
     "output_type": "stream",
     "text": [
      "x's boolean equivalent is \n",
      "Calling __bool__\n",
      "False\n",
      "x's boolean equivalent is \n",
      "Calling __bool__\n",
      "True\n",
      "x's boolean equivalent is \n",
      "Calling __bool__\n",
      "False\n"
     ]
    }
   ],
   "source": [
    "class Vector:\n",
    "    def __init__(self,*args):\n",
    "        self.coords = args\n",
    "\n",
    "    def __len__(self):\n",
    "        print('Calling __len__')\n",
    "        return len(self.coords)\n",
    "\n",
    "    def __bool__(self):\n",
    "        print('Calling __bool__')\n",
    "        return any( v!=0 for v in self.coords )\n",
    "    \n",
    "v = Vector(0,0)\n",
    "test(v)\n",
    "\n",
    "v = Vector(2,2)\n",
    "test(v)\n",
    "\n",
    "v = Vector()\n",
    "test(v)"
   ]
  },
  {
   "cell_type": "markdown",
   "metadata": {},
   "source": [
    "However, since the class vector is supposed to represent a mathematical vector (quantity that represents a point in N-dimensional space) we want it to be false whenever the coordinates equals to zero. Therefore we can modify the len operator to instead return the distance from the origin to the tip of the vector"
   ]
  },
  {
   "cell_type": "code",
   "execution_count": 13,
   "metadata": {},
   "outputs": [
    {
     "name": "stdout",
     "output_type": "stream",
     "text": [
      "x's boolean equivalent is \n",
      "False\n",
      "x's boolean equivalent is \n",
      "True\n",
      "x's boolean equivalent is \n",
      "False\n"
     ]
    }
   ],
   "source": [
    "from math import *\n",
    "class Vector:\n",
    "    def __init__(self,*args):\n",
    "        self.coords = args\n",
    "\n",
    "    def __len__(self):\n",
    "        return int(math.sqrt( sum( v**2 for v in self.coords ) ))\n",
    "\n",
    "\n",
    "    \n",
    "v = Vector(0,0)\n",
    "test(v)\n",
    "\n",
    "v = Vector(2,2)\n",
    "test(v)\n",
    "\n",
    "v = Vector(0,0,0)\n",
    "test(v)"
   ]
  },
  {
   "cell_type": "markdown",
   "metadata": {},
   "source": [
    "Now we don't need a bool operator since len already takes care of it by itself."
   ]
  },
  {
   "cell_type": "markdown",
   "metadata": {},
   "source": [
    "##  \\__repr__ and \\__str__\n",
    "\n",
    "Python can call two methods that should return string representations of an\n",
    "object. The __str__ method is called when the conversion function str is called:\n",
    "so again, this is like len: Python translates str(x) into type(x).\\__str__(x).\n",
    "\n",
    "For example, the print and format functions automatically calls str on all their\n",
    "arguments. If there is no \\__str__ method in the argument's class, Python\n",
    "tries calling the \\__repr__ method as a backup to produce the string. If we call\n",
    "repr(x) Python returns x.\\__repr__() for this method, similarly to what it does\n",
    "for len(x) and str(x)). If there is no \\__repr__method, Python reverts to its\n",
    "standard method for computing a string value objects: a bracket string with the\n",
    "name of the object's class and the location of this object in memory (as a\n",
    "hexidecimal number). "
   ]
  },
  {
   "cell_type": "code",
   "execution_count": 14,
   "metadata": {},
   "outputs": [
    {
     "name": "stdout",
     "output_type": "stream",
     "text": [
      "<__main__.Vector object at 0x0000026A613F9278>\n"
     ]
    }
   ],
   "source": [
    "v = Vector(0,0)\n",
    "print(v)\n"
   ]
  },
  {
   "cell_type": "markdown",
   "metadata": {},
   "source": [
    "The convention for \\__repr__ is that it returns a string, which if passed as the\n",
    "argument to the eval function, would produce an object with the same state. So\n",
    "if v = Vector(0,0) the repr(v) should return 'Vector(0,0)'. For Vector, we\n",
    "can define \\__repr__ as follows"
   ]
  },
  {
   "cell_type": "code",
   "execution_count": 15,
   "metadata": {},
   "outputs": [
    {
     "name": "stdout",
     "output_type": "stream",
     "text": [
      "Vector(0,0)\n"
     ]
    }
   ],
   "source": [
    "class Vector:\n",
    "    def __init__(self,*args):\n",
    "        self.coords = args\n",
    "\n",
    "    def __len__(self):\n",
    "        print('Calling __len__')\n",
    "        return len(self.coords)\n",
    "\n",
    "    def __bool__(self):\n",
    "        print('Calling __bool__')\n",
    "        return any( v!=0 for v in self.coords )\n",
    "    def __repr__(self):\n",
    "        return 'Vector({})'.format(','.join(str(c) for c in self.coords))\n",
    "v = Vector(0,0)\n",
    "print(v)"
   ]
  },
  {
   "cell_type": "code",
   "execution_count": 16,
   "metadata": {},
   "outputs": [
    {
     "name": "stdout",
     "output_type": "stream",
     "text": [
      "<class '__main__.Vector'> Vector(0,0)\n"
     ]
    }
   ],
   "source": [
    "x = eval(repr(v))\n",
    "print(type(x),x)"
   ]
  },
  {
   "cell_type": "markdown",
   "metadata": {},
   "source": [
    "Here x refers to a different object than v, whose\n",
    "state is the same as v's state: x is v evaluates to False.\n",
    "\n",
    "Let's use this knowledge and overload str."
   ]
  },
  {
   "cell_type": "code",
   "execution_count": 28,
   "metadata": {},
   "outputs": [
    {
     "name": "stdout",
     "output_type": "stream",
     "text": [
      "(2)[0, 0]\n"
     ]
    }
   ],
   "source": [
    "class Vector:\n",
    "    def __init__(self,*args):\n",
    "        self.coords = args\n",
    "\n",
    "    def __len__(self):\n",
    "        return len(self.coords)\n",
    "\n",
    "    def __bool__(self):\n",
    "        return all( v==0 for v in self.coords )\n",
    "\n",
    "    def __repr__(self):\n",
    "        return 'Vector('+','.join(str(c) for c in self.coords)+')'\n",
    "\n",
    "    def __str__(self):\n",
    "        return '('+str(len(self))+')'+str(list(self.coords))      # using +\n",
    "       #return '({d}){c}'.format(d=len(self),c=list(self.coords)) # using format\n",
    "\n",
    "        \n",
    "        \n",
    "v = Vector(0,0)\n",
    "print(str(v))"
   ]
  },
  {
   "cell_type": "markdown",
   "metadata": {},
   "source": [
    "## Relational operators: \n",
    "__lt__ (__gt__, __le__, __ge__, __eq__, __ne__): < (>, <=, >=, ==, and !=)"
   ]
  },
  {
   "cell_type": "markdown",
   "metadata": {},
   "source": [
    "Python translates any occurrence of a relational operator into a call on the appropriate method for its LEFT operand:\n",
    "x < y is translated to x.\\__lt__(y) which by the Fundamental Equation of Object\n",
    "Oriented Programming (FEOOP) is translated into type(x).\\__lt__(x,y) or,\n",
    "assuming Vector is a class and x is of type Vector, Vector.\\__\\lt__(x,y).\n",
    "\n",
    "So, the type of first/left operand of < determines which class calls its \\__lt__\n",
    "method.\n",
    "\n",
    "When studying relational operators, we will first look at comparing objects from\n",
    "the same class, and then we will extend our understanding to how Python compares\n",
    "objects from different classes (which is a bit more subtle)."
   ]
  },
  {
   "cell_type": "code",
   "execution_count": 29,
   "metadata": {},
   "outputs": [
    {
     "ename": "TypeError",
     "evalue": "'<' not supported between instances of 'Vector' and 'Vector'",
     "output_type": "error",
     "traceback": [
      "\u001b[1;31m---------------------------------------------------------------------------\u001b[0m",
      "\u001b[1;31mTypeError\u001b[0m                                 Traceback (most recent call last)",
      "\u001b[1;32m<ipython-input-29-8a474f8d14a3>\u001b[0m in \u001b[0;36m<module>\u001b[1;34m()\u001b[0m\n\u001b[0;32m      1\u001b[0m \u001b[0mx\u001b[0m \u001b[1;33m=\u001b[0m \u001b[0mVector\u001b[0m\u001b[1;33m(\u001b[0m\u001b[1;36m0\u001b[0m\u001b[1;33m,\u001b[0m\u001b[1;36m0\u001b[0m\u001b[1;33m)\u001b[0m\u001b[1;33m\u001b[0m\u001b[0m\n\u001b[0;32m      2\u001b[0m \u001b[0my\u001b[0m \u001b[1;33m=\u001b[0m \u001b[0mVector\u001b[0m\u001b[1;33m(\u001b[0m\u001b[1;36m2\u001b[0m\u001b[1;33m,\u001b[0m\u001b[1;36m2\u001b[0m\u001b[1;33m)\u001b[0m\u001b[1;33m\u001b[0m\u001b[0m\n\u001b[1;32m----> 3\u001b[1;33m \u001b[0mprint\u001b[0m\u001b[1;33m(\u001b[0m\u001b[0mx\u001b[0m \u001b[1;33m<\u001b[0m \u001b[0my\u001b[0m\u001b[1;33m)\u001b[0m\u001b[1;33m\u001b[0m\u001b[0m\n\u001b[0m",
      "\u001b[1;31mTypeError\u001b[0m: '<' not supported between instances of 'Vector' and 'Vector'"
     ]
    }
   ],
   "source": [
    "x = Vector(0,0)\n",
    "y = Vector(2,2)\n",
    "print(x < y)"
   ]
  },
  {
   "cell_type": "markdown",
   "metadata": {},
   "source": [
    "This exception is raised because vector is unorderable. That means that when calling upon a compare operator, there is none to be found. Besides, what would it compare, the lenght? the first coordinate?, first we need to create an \"orderable\"operator, that is something that you can order by, and then instruct the compare operator to use that as referrence."
   ]
  },
  {
   "cell_type": "code",
   "execution_count": 30,
   "metadata": {},
   "outputs": [
    {
     "name": "stdout",
     "output_type": "stream",
     "text": [
      "True\n"
     ]
    }
   ],
   "source": [
    "class Vector:\n",
    "    def __init__(self,*args):\n",
    "        self.coords = args\n",
    "\n",
    "    def __len__(self):\n",
    "        return len(self.coords)\n",
    "\n",
    "    def __bool__(self):\n",
    "        return all( v==0 for v in self.coords )\n",
    "\n",
    "    def __repr__(self):\n",
    "        return 'Vector('+','.join(str(c) for c in self.coords)+')'\n",
    "\n",
    "    def __str__(self):\n",
    "        return '('+str(len(self))+')'+str(list(self.coords))      # using +\n",
    "       #return '({d}){c}'.format(d=len(self),c=list(self.coords)) # using format\n",
    "    def distance(self):\n",
    "        return math.sqrt( sum( v**2 for v in self.coords ) )\n",
    "\n",
    "    def __lt__(self,right):\n",
    "        return self.distance() < right.distance()\n",
    "x = Vector(0,0)\n",
    "y = Vector(2,2)\n",
    "print(x < y)"
   ]
  },
  {
   "cell_type": "markdown",
   "metadata": {},
   "source": [
    "Notice the arguments for lt, it needs self and right. I named the second parameter here right because it is the value on the right-\n",
    "hand side of the < operator; it can be named anything (e.g., qq17), so long as\n",
    "that same name is used for the second parameter in the body of the function.\n",
    "\n",
    "Notice the < operator in \\__lt__ is NOT RECURSIVE! Python calls the \\__lt__\n",
    "method above when comparing two objects constructed from the Vector class; but\n",
    "inside this method the < operator is called on two float value returned by the\n",
    "sqrt function in distance, so it calls the \\__lt__ method defined in the float\n",
    "class:\n",
    "\n",
    "   self.distance() < right.distance()\n",
    "   \n",
    "   \n",
    "Now let's overload all other comparison operators"
   ]
  },
  {
   "cell_type": "code",
   "execution_count": 32,
   "metadata": {},
   "outputs": [
    {
     "name": "stdout",
     "output_type": "stream",
     "text": [
      "True\n",
      "False\n",
      "True\n",
      "False\n",
      "True\n",
      "False\n",
      "False\n"
     ]
    }
   ],
   "source": [
    "class Vector:\n",
    "    def __init__(self,*args):\n",
    "        self.coords = args\n",
    "\n",
    "    def __len__(self):\n",
    "        return len(self.coords)\n",
    "\n",
    "    def __bool__(self):\n",
    "        return all( v==0 for v in self.coords )\n",
    "\n",
    "    def __repr__(self):\n",
    "        return 'Vector('+','.join(str(c) for c in self.coords)+')'\n",
    "\n",
    "    def __str__(self):\n",
    "        return '('+str(len(self))+')'+str(list(self.coords))      # using +\n",
    "       #return '({d}){c}'.format(d=len(self),c=list(self.coords)) # using format\n",
    "\n",
    "    def distance(self):\n",
    "        return math.sqrt( sum( v**2 for v in self.coords ) )\n",
    "\n",
    "    def __lt__(self,right):\n",
    "        if type(right) is Vector:\n",
    "            return self.distance() < right.distance()\n",
    "        elif type(right) in (int,float):\n",
    "            return self.distance() < right\n",
    "        else:\n",
    "            return NotImplemented\n",
    "\n",
    "    def __gt__(self,right):\n",
    "        if type(right) is Vector:\n",
    "            return self.distance() > right.distance()\n",
    "        elif type(right) in (int,float):\n",
    "            return self.distance() > right\n",
    "        else:\n",
    "            return NotImplemented\n",
    "\n",
    "    def __eq__(self,right):\n",
    "        return self.coords == right.coords\n",
    "    \n",
    "    def __le__(self,right):\n",
    "        return self < right or self == right\n",
    "\n",
    "    def __ge__(self,right):\n",
    "        return self > right or self == right\n",
    "\n",
    "    def __neg__(self):\n",
    "        return Vector( *(-c for c in self.coords) )\n",
    "    \n",
    "x = Vector(0,0)\n",
    "y = Vector(2,2)\n",
    "print(x < y)\n",
    "print(x == y)\n",
    "print(x != y)\n",
    "print(x > y)\n",
    "print(x <= y)\n",
    "print(x >= y)\n",
    "print(not(x))"
   ]
  },
  {
   "cell_type": "markdown",
   "metadata": {},
   "source": [
    "## Arithmetic operators\n",
    "\n",
    "By now you should understand that every operator has it's declaration inside python. Arithmetic operators are not excluded. For example calling x + y causes x.\\__add__(y) to be returned. First let's see how our whole vector class looks like with arithmetic operators and then we'll explain one by one:"
   ]
  },
  {
   "cell_type": "code",
   "execution_count": 35,
   "metadata": {},
   "outputs": [],
   "source": [
    "import math\n",
    "#from goody import type_as_str\n",
    "\n",
    "class Vector:\n",
    "    def __init__(self,*args):\n",
    "        self.coords = args\n",
    "\n",
    "    def __len__(self):\n",
    "        return len(self.coords)\n",
    "\n",
    "    def __bool__(self):\n",
    "        return all( v==0 for v in self.coords )\n",
    "\n",
    "    def __repr__(self):\n",
    "        return 'Vector('+','.join(str(c) for c in self.coords)+')'\n",
    "\n",
    "    def __str__(self):\n",
    "        return '('+str(len(self))+')'+str(list(self.coords))      # using +\n",
    "       #return '({d}){c}'.format(d=len(self),c=list(self.coords)) # using format\n",
    "\n",
    "    def distance(self):\n",
    "        return math.sqrt( sum( v**2 for v in self.coords ) )\n",
    "\n",
    "    def __lt__(self,right):\n",
    "        if type(right) is Vector:\n",
    "            return self.distance() < right.distance()\n",
    "        elif type(right) in (int,float):\n",
    "            return self.distance() < right\n",
    "        else:\n",
    "            return NotImplemented\n",
    "\n",
    "    def __gt__(self,right):\n",
    "        if type(right) is Vector:\n",
    "            return self.distance() > right.distance()\n",
    "        elif type(right) in (int,float):\n",
    "            return self.distance() > right\n",
    "        else:\n",
    "            return NotImplemented\n",
    "\n",
    "    def __eq__(self,right):\n",
    "        return self.coords == right.coords\n",
    "    \n",
    "    def __le__(self,right):\n",
    "        return self < right or self == right\n",
    "\n",
    "    def __ge__(self,right):\n",
    "        return self > right or self == right\n",
    "\n",
    "    def __neg__(self):\n",
    "        return Vector( *(-c for c in self.coords) )\n",
    "\n",
    "    def __pos__(self):\n",
    "        return self\n",
    "\n",
    "    def __abs__(self):\n",
    "        return Vector( *(abs(c) for c in self.coords) )\n",
    "    \n",
    "    def __add__(self,right):\n",
    "        if type(right) not in (Vector,int,float):\n",
    "            return NotImplemented\n",
    "        if type(right) in (int,float):\n",
    "            return Vector( *(c+right for c in self.coords) )\n",
    "        else:\n",
    "            assert len(self) == len(right), 'Vector.__add__: operand self('+str(self)+') has different dimension that operand right('+str(right)+')'\n",
    "            return Vector( *(c1+c2 for c1,c2 in zip(self.coords,right.coords)) )\n",
    "    \n",
    "    def __radd__(self,left):\n",
    "        if type(left) not in (int,float): # see note below\n",
    "            return NotImplemented\n",
    "        return Vector( *(left+c for c in self.coords) )\n",
    "    \n",
    "    def __iadd__(self,right):\n",
    "        if type(right) not in (Vector,int,float):\n",
    "             return NotImplemented\n",
    "        if type(right) in (int,float):\n",
    "             return Vector( *(c+right for c in self.coords))\n",
    "        else:\n",
    "             assert len(self) == len(right), 'Vector.__add__: operand self('+str(self)+') has different dimension that operand right('+str(right)+')'\n",
    "             return Vector( *(c1+c2 for c1,c2 in zip(self.coords,right.coords)))\n"
   ]
  },
  {
   "cell_type": "markdown",
   "metadata": {},
   "source": [
    "### Unary operators\n",
    "\n",
    "When Python recognizes a unary arithmetic operator (or a binary arithmetic operator, see the next section) it translates it into the appropriate method call for the class/type of its argument: for example, it translates -x into x.\\__neg__() and then into type(x).\\__neg__(x)\n",
    "and if x is a Vector, finally into Vector.\\__neg__(x).\n",
    "\n",
    "Suppose that we wanted the \\__neg__ operator for Vector to return a Vector\n",
    "object with all of its coords negated. Generally, as described above,__neg__\n",
    "SHOULD NOT MUTATE ITS OPERAND but should leave its operand unchanged and return\n",
    "a new Vector object, whose state is initialized to the appropriate one. Here is\n",
    "a \\__neg__ method with exactly these semantics. Note it returns a newly\n",
    "constructed  object (of class Vector) with the appropriate contents,\n",
    "\n",
    "    def __neg__(self):\n",
    "        return Vector( *(-c for c in self.coords) )\n",
    "\n",
    "Notice the use of tuple comprehension to create the appropriate negated tuple,\n",
    "and the use of * to translate the n-tuple comprehension into n different\n",
    "positional arguments needed in the call to Vector's \\__init__. That is, calling\n",
    "f(1,*(2,3,4),5) is equivalent to calling f(1,2,3,4,5). Here is an example of it\n",
    "code running"
   ]
  },
  {
   "cell_type": "code",
   "execution_count": 36,
   "metadata": {},
   "outputs": [
    {
     "name": "stdout",
     "output_type": "stream",
     "text": [
      "(3)[1, -2, 3]\n",
      "(3)[-1, 2, -3]\n",
      "(3)[1, -2, 3]\n"
     ]
    }
   ],
   "source": [
    "v = Vector(1,-2,3)\n",
    "print(v)\n",
    "print(-v)\n",
    "print(v)\n",
    "## note that the object v refers to was not mutated by __neg__\n"
   ]
  },
  {
   "cell_type": "markdown",
   "metadata": {},
   "source": [
    "There are two other unary arithmetic operators that we can overload: + and ~\n",
    "whose methods go by the names \\__pos_ and \\__invert__. For Vectors, pos should\n",
    "return the same vector. Invert is a bit-wise operator, which we won't overload.\n",
    "So writing ~v would raise an exception."
   ]
  },
  {
   "cell_type": "code",
   "execution_count": 39,
   "metadata": {},
   "outputs": [
    {
     "name": "stdout",
     "output_type": "stream",
     "text": [
      "(3)[1, -2, 3]\n"
     ]
    },
    {
     "ename": "TypeError",
     "evalue": "bad operand type for unary ~: 'Vector'",
     "output_type": "error",
     "traceback": [
      "\u001b[1;31m---------------------------------------------------------------------------\u001b[0m",
      "\u001b[1;31mTypeError\u001b[0m                                 Traceback (most recent call last)",
      "\u001b[1;32m<ipython-input-39-7a783ddd63c8>\u001b[0m in \u001b[0;36m<module>\u001b[1;34m()\u001b[0m\n\u001b[0;32m      1\u001b[0m \u001b[0mprint\u001b[0m\u001b[1;33m(\u001b[0m\u001b[1;33m+\u001b[0m\u001b[0mv\u001b[0m\u001b[1;33m)\u001b[0m\u001b[1;33m\u001b[0m\u001b[0m\n\u001b[1;32m----> 2\u001b[1;33m \u001b[0mprint\u001b[0m\u001b[1;33m(\u001b[0m\u001b[1;33m~\u001b[0m\u001b[0mv\u001b[0m\u001b[1;33m)\u001b[0m\u001b[1;33m\u001b[0m\u001b[0m\n\u001b[0m",
      "\u001b[1;31mTypeError\u001b[0m: bad operand type for unary ~: 'Vector'"
     ]
    }
   ],
   "source": [
    "print(+v)\n",
    "print(~v)"
   ]
  },
  {
   "cell_type": "markdown",
   "metadata": {},
   "source": [
    "In addition, while discussing arithmetic here, the following unary functions \n",
    "(all defined in the math module) abs, round, floor, ceil, trunc work by calling\n",
    "one of these special methods on its argument (much like len, described above):\n",
    "so abs(x) returns as its result x.\\__abs__(). Therefore, if we defined the\n",
    "following \\__abs__ method in the Vector class, it returns an object constructed\n",
    "from the Vector class (containing the absolute values of all the coordinates)"
   ]
  },
  {
   "cell_type": "code",
   "execution_count": 40,
   "metadata": {},
   "outputs": [
    {
     "name": "stdout",
     "output_type": "stream",
     "text": [
      "(3)[1, -2, 3]\n",
      "(3)[1, 2, 3]\n",
      "(3)[1, -2, 3]\n"
     ]
    }
   ],
   "source": [
    "v = Vector(1,-2,3)\n",
    "print(v)\n",
    "print(abs(v))\n",
    "print(v)"
   ]
  },
  {
   "cell_type": "markdown",
   "metadata": {},
   "source": [
    "### Binary operators\n",
    "\n",
    "We continue through our Vector class, and there are still operators that are being overloaded. \n",
    "\n",
    "Binary arithmetic operators, like relational operators, are written in between\n",
    "their two operands. Python translates the call x + y into x.\\__add__(y) and then\n",
    "by FEOOP into type(x).\\__add__(x,y). As with the relational operators and unary\n",
    "arithmetic operators, neither operand should be mutated, and the method should\n",
    "return a new object initialized with the correct state. Here is an example of\n",
    "the + operator overloaded for Vector: to work correctly, the right operand must\n",
    "also be of type Vector and both must have the same number of coordinates (len\n",
    "of the coords attribute) and the resulting Vector object has that common length,\n",
    "with coordinates that are the pairwise sum of the coordinates in the two\n",
    "Vectors. "
   ]
  },
  {
   "cell_type": "code",
   "execution_count": 44,
   "metadata": {},
   "outputs": [
    {
     "name": "stdout",
     "output_type": "stream",
     "text": [
      "(2)[2, 3]\n",
      "(2)[1, 2]\n"
     ]
    }
   ],
   "source": [
    "v1 = Vector(0,1)\n",
    "v2 = Vector(2,2)\n",
    "print(v1+v2)\n",
    "print(v1+1)"
   ]
  },
  {
   "cell_type": "markdown",
   "metadata": {},
   "source": [
    "For every binary arithmetic operator, Python also allows us to define a \"right\"\n",
    "(sometimes known as \"reversed\") version of it: where the method name is prefixed\n",
    "by an r: so \\__add__ has an related \\__radd__ method (\"right/reverse add\"). Here\n",
    "is how we could define \\__radd__ in the Vector class to successfully compute\n",
    "expressions of the form int() + Vector().\n",
    "\n",
    "    def __radd__(self,left):\n",
    "        if type(left) not in (int,float):               # see note (1) below\n",
    "            return NotImplemented\n",
    "        return Vector( *(left+c for c in self.coords) ) # see note (2) below\n",
    "\n",
    "When Python evaluates 1+v, it translates it into 1.\\__add__(v) and then by FEEOP\n",
    "into tries int.\\__add(1,v); it doing so returns NotImplmemented or raises an\n",
    "exception because the int class doesn't know how to operate on Vector operands.\n",
    "Then, Python translates the + into v.\\__radd_(1) and into type(v).\\__radd__(v,1)\n",
    "using  \"right/reversed-operand dispatch\". This methods determines what to do if\n",
    "the left operand is an int/float. In the method below, relating to the + \n",
    "operator, the self parameter is the right operand and the left parameter is the\n",
    "left operand. We could rewrite the headers as def \\__add__(left,right) and\n",
    "def \\__radd__(right,left) and replacing self appropriately in the method bodies."
   ]
  },
  {
   "cell_type": "code",
   "execution_count": 45,
   "metadata": {},
   "outputs": [
    {
     "name": "stdout",
     "output_type": "stream",
     "text": [
      "(2)[1, 1]\n"
     ]
    }
   ],
   "source": [
    "v = Vector(0,0)\n",
    "print(1+v)"
   ]
  },
  {
   "cell_type": "markdown",
   "metadata": {},
   "source": [
    "### Incrementing arithmetic delimiters\n",
    "\n",
    "There is still one last operator to look at: iadd which represents +=.\n",
    "\n",
    "Recall that the meaning of x += y is similar to x = x + (y). We parenthesize y\n",
    "in case it is an expression that contains any operators whose precedence is\n",
    "lower than +. When Python executes x += y, it tries to execute\n",
    "x = type(x).\\__iadd__(x,y): if that method is available and doesn't raise an\n",
    "exception, that is the result; if it cannot find that method or it raises an\n",
    "exception, Python executes the code x = x + (y), which also can fail if \\__add__\n",
    "is not defined for the types of x and y.\n",
    "\n",
    "Here is an example of the \\__iadd__ method for the Vector class, which works for\n",
    "incrementing objects of the Vector type/class by a Vector or an int. Note that\n",
    "Python automatically will bind x to the result returned by this method.\n",
    "\n",
    "    def __iadd__(self,right):\n",
    "        if type(right) not in (Vector,int,float):\n",
    "            return NotImplemented\n",
    "        if type(right) in (int,float):\n",
    "            return Vector(*(c+right for c in self.coords))\n",
    "        else:\n",
    "            assert len(self) == len(right), 'Vector.__add__: operand self('+str(self)+') has different dimension that operand right('+str(right)+')'\n",
    "            return Vector(*(c1+c2 for c1,c2 in zip(self.coords,right.coords)))\n",
    "\n"
   ]
  },
  {
   "cell_type": "code",
   "execution_count": 46,
   "metadata": {},
   "outputs": [
    {
     "name": "stdout",
     "output_type": "stream",
     "text": [
      "[1, 2] [] False\n"
     ]
    }
   ],
   "source": [
    "x = []\n",
    "y = x               # x and y share the same empty list\n",
    "x = x + [1,2]\n",
    "print(x, y, x is y) # prints [1, 2] [] False"
   ]
  },
  {
   "cell_type": "code",
   "execution_count": 47,
   "metadata": {},
   "outputs": [
    {
     "name": "stdout",
     "output_type": "stream",
     "text": [
      "[1, 2] [1, 2] True\n"
     ]
    }
   ],
   "source": [
    "x = []\n",
    "y = x               # x and y share the same empty list\n",
    "x += [1,2]\n",
    "print(x, y, x is y) # prints [1, 2] [1, 2] True"
   ]
  },
  {
   "cell_type": "code",
   "execution_count": 52,
   "metadata": {},
   "outputs": [
    {
     "name": "stdout",
     "output_type": "stream",
     "text": [
      "(2)[2, 3]\n",
      "(2)[2, 2]\n"
     ]
    }
   ],
   "source": [
    "v1 = Vector(0,1)\n",
    "v2 = Vector(2,2)\n",
    "v1+=v2\n",
    "\n",
    "print(v1)\n",
    "print(v2)"
   ]
  },
  {
   "cell_type": "markdown",
   "metadata": {},
   "source": [
    "## Advanced overloading\n",
    "\n",
    "So far we've seen some (not all) of the most common operators that can be overloaded. However, we never stopped and asked ourselves why do we want to do overloading? Why not use custom operators instead?. \n",
    "\n",
    "This is more of a design question. If you want your custom classes to behave like built in classes (for the sake of usability or to make your code highly compatible) then you'll want your cutom class to include all the operators that people will try to implement on it without raising silly errors.\n",
    "\n",
    "Now that we have answered this question, we'll move into more advanced overloading. We will not delve too much into the details but instead I will show you all the overloaded methods and then we'll see what they do one by one. However, you should already know that it would be impossible to cover every possible python operator that can be overloaded, therefore if you want more information go into the Python docs.\n",
    "\n",
    "The contwext of our advanced overloading will be for a cutom list, but this may apply to tuples as well. There are container operators (such as len()) that can be customized for a specific behavior. Let's look at our overload"
   ]
  },
  {
   "cell_type": "code",
   "execution_count": 61,
   "metadata": {},
   "outputs": [],
   "source": [
    "class List1:\n",
    "    def __init__(self,_plist):\n",
    "        self._plist = list(_plist)\n",
    "        \n",
    "    def __str__(self):\n",
    "        return str(self._plist)\n",
    "\n",
    "    @staticmethod\n",
    "    def _fix_index(i):\n",
    "        if i == None:\n",
    "            return None\n",
    "        else:\n",
    "            # for positive indexes, 1 smaller: 1 -> 0\n",
    "            # for - indexes, the same: -1 (still last), -2 (still 2nd to last\n",
    "            return (i-1 if i >= 1 else i)\n",
    "        \n",
    "    def __getitem__(self,index):\n",
    "        print('List1.__getitem__('+str(index)+')') # for illumination/debugging\n",
    "        if type(index) is int:\n",
    "            return self._plist[List1._fix_index(index)]\n",
    "        elif type(index) is slice:\n",
    "            s = slice(List1._fix_index(index.start), List1._fix_index(index.stop), index.step)\n",
    "            return self._plist[s]\n",
    "        else:\n",
    "            raise TypeError('List1.__getitem__ index('+str(index)+') must be int/slice')\n",
    "  \n",
    "    def __setitem__(self,index,value):\n",
    "        print('List1.__setitem__('+str(index)+','+str(value)+')') # for illumination/debugging\n",
    "        if type(index) is int:\n",
    "            self._plist[List1._fix_index(index)] = value\n",
    "        elif type(index) is slice:\n",
    "            s = slice(List1._fix_index(index.start), List1._fix_index(index.stop), index.step)\n",
    "            self._plist[s] = value\n",
    "        else:    \n",
    "            raise TypeError('List1.__setitem__ index('+str(index)+') must be int/slice')\n",
    "        \n",
    "    def __delitem__(self,index):\n",
    "        print('List1.__delitem__('+str(index)+')') # for illumination/debugging\n",
    "        if type(index) is int:\n",
    "            del self._plist[List1._fix_index(index)]\n",
    "        elif type(index) is slice:\n",
    "            s = slice(List1._fix_index(index.start), List1._fix_index(index.stop), index.step)\n",
    "            del self._plist[s]\n",
    "        else:            \n",
    "            raise TypeError('List1.__delitem__ index('+str(index)+') must be int/slice')\n",
    "\n",
    "    def __len__(self):\n",
    "        return len(self.thislist)\n",
    "    \n",
    "    def __contains__(self,item):\n",
    "        return item in self._plist"
   ]
  },
  {
   "cell_type": "markdown",
   "metadata": {},
   "source": [
    "First our init and str operators allow us to referrence our list starting with index 1 instead of zero. "
   ]
  },
  {
   "cell_type": "code",
   "execution_count": 62,
   "metadata": {},
   "outputs": [
    {
     "name": "stdout",
     "output_type": "stream",
     "text": [
      "['a', 'b', 'c', 'd', 'e']\n",
      "List1.__getitem__(1)\n",
      "a\n"
     ]
    }
   ],
   "source": [
    "x = List1(['a', 'b', 'c', 'd', 'e'])\n",
    "print(x)\n",
    "print(x[1])"
   ]
  },
  {
   "cell_type": "markdown",
   "metadata": {},
   "source": [
    "Notice how we need our List1() constructor to specify our custom list. The index starting by 1 is achieve through our static method. \n",
    "\n",
    "In Python lists, integer indexes are either non-negative (0, 1, ...),\n",
    "which specify an index from the beginning (e.g., 0 is the first, 1 is the\n",
    "second...), or negative, which specify an index from the end (e.g., -1 is the\n",
    "last index, -2 second from last). Note the asymmetry we are now fixing: in List1\n",
    "we want 1 to be first and -1 be last, 2 to be second and -2 to be 2nd from last,\n",
    "unlike Python lists, where 0 is the first index and -1 the last.\n",
    "\n",
    "So we will start with the helper function (static method) _fix_index: the\n",
    "leading underscore means this method should be used only other methods in the\n",
    "List1 class (although it is safe to use by anyone: it doesn't set/mutate any\n",
    "attributes). This function demotes positive indexes by 1, but leaves 0 and\n",
    "negative indexes as is. So _fix_index(1) returns 0, which when used to index\n",
    "self._plist, the delegated list, denotes the index of the first value. Likewise,\n",
    "_fix_index(-1) returns -1, which still denotes the index of the last value.\n"
   ]
  },
  {
   "cell_type": "code",
   "execution_count": 63,
   "metadata": {},
   "outputs": [
    {
     "name": "stdout",
     "output_type": "stream",
     "text": [
      "List1.__getitem__(1)\n",
      "a\n",
      "List1.__getitem__(0)\n",
      "a\n",
      "List1.__getitem__(-1)\n",
      "e\n"
     ]
    }
   ],
   "source": [
    "print(x[1])\n",
    "print(x[0])\n",
    "print(x[-1])"
   ]
  },
  {
   "cell_type": "markdown",
   "metadata": {},
   "source": [
    "The next operator is getitem(). This operator uses fix index to address the right item based on the output of our static function. Let'see another example of how this works"
   ]
  },
  {
   "cell_type": "code",
   "execution_count": 64,
   "metadata": {},
   "outputs": [
    {
     "name": "stdout",
     "output_type": "stream",
     "text": [
      "['a', 'b', 'c', 'd', 'e']\n",
      "List1.__getitem__(1)\n",
      "List1.__getitem__(2)\n",
      "List1.__getitem__(-2)\n",
      "List1.__getitem__(-1)\n",
      "a b d e\n",
      "List1.__getitem__(slice(1, 3, None))\n",
      "['a', 'b']\n"
     ]
    }
   ],
   "source": [
    "x = List1(['a','b','c','d','e'])\n",
    "print(x)\n",
    "print(x[1], x[2], x[-2], x[-1])\n",
    "print(x[1:3])"
   ]
  },
  {
   "cell_type": "markdown",
   "metadata": {},
   "source": [
    "Two things about this method. First, we should probably raise an exception if\n",
    "the index is 0 because that value should not be a legal index in a List1 list.\n",
    "But for purposes of illustration later, when we discuss the \"in\" method, we will\n",
    "not do this (so index 0 will be the same as index 1: both translate to 0).\n",
    "\n",
    "Also notice how our operator has a specific case for handling slices. If we didn't add this the last print would have raised an error.\n",
    "\n",
    "We now know how to retrieve values, but how about setting them? We need to overload a different operator called setitem(). It looks quite similar to getitem but with the exception that this writes a value into the list."
   ]
  },
  {
   "cell_type": "code",
   "execution_count": 58,
   "metadata": {},
   "outputs": [
    {
     "name": "stdout",
     "output_type": "stream",
     "text": [
      "['a', 'b', 'c', 'd', 'e']\n",
      "List1.__setitem__(1,1)\n",
      "List1.__setitem__(slice(4, 5, None),(4, 5))\n",
      "[1, 'b', 'c', 4, 5, 'e']\n"
     ]
    }
   ],
   "source": [
    "x = List1(['a','b','c','d','e'])\n",
    "print(x)\n",
    "x[1] = 1\n",
    "x[4:5] = (4,5)\n",
    "print(x)"
   ]
  },
  {
   "cell_type": "markdown",
   "metadata": {},
   "source": [
    "Next, the \\__delitem__(self,index) method is supposed to delete/remove values\n",
    "from the specified index(es). Its structure is identical to \\__getitem__ and\n",
    "\\__set__item, processing int indexes, slice indexes, or raising TypeError. As\n",
    "with \\__setitem__ we automatically return None."
   ]
  },
  {
   "cell_type": "code",
   "execution_count": 59,
   "metadata": {},
   "outputs": [
    {
     "name": "stdout",
     "output_type": "stream",
     "text": [
      "['a', 'b', 'c', 'd', 'e']\n",
      "List1.__delitem__(1)\n",
      "['b', 'c', 'd', 'e']\n",
      "List1.__delitem__(slice(2, 4, None))\n",
      "['b', 'e']\n"
     ]
    }
   ],
   "source": [
    "x = List1(['a','b','c','d','e'])\n",
    "print(x)\n",
    "del x[1]\t# now ['b','c','d','e'] index 1 deleted\n",
    "print(x)    \n",
    "del x[2:4]\t# now ['b','e']\t\tindexes 2-3 (not 4) deleted\n",
    "print(x)"
   ]
  },
  {
   "cell_type": "markdown",
   "metadata": {},
   "source": [
    "We have already discussed len so we won't go over it again. But contains is interesting. \n",
    "\n",
    "We can define our own contains to just use the in operator for lists.\n",
    "\n",
    "    def __contains__(self,item):\n",
    "        for v in self._plist:\n",
    "            if v == item:\n",
    "                return True\n",
    "        return False\n",
    "\n",
    "but this is just checking whether item is in \\_plist, so we can simplify it to\n",
    "delegate to the in operator for standard lists.\n",
    "\n",
    "    def __contains__(self,item):\n",
    "        return item in self._plist"
   ]
  },
  {
   "cell_type": "code",
   "execution_count": 60,
   "metadata": {},
   "outputs": [
    {
     "name": "stdout",
     "output_type": "stream",
     "text": [
      "True\n",
      "False\n"
     ]
    }
   ],
   "source": [
    "x = List1(['a','b','c','d','e'])\n",
    "print('d' in x)\n",
    "print('z' in x)"
   ]
  },
  {
   "cell_type": "markdown",
   "metadata": {},
   "source": [
    "And that's it. There are other, more complicated methods to be overloaded but they fall under more advanced topics such as attribute methods and inheritance. We will review them when the time comes but for now I don't want to \"overload\" you with information."
   ]
  },
  {
   "cell_type": "code",
   "execution_count": null,
   "metadata": {},
   "outputs": [],
   "source": []
  }
 ],
 "metadata": {
  "kernelspec": {
   "display_name": "Python 3",
   "language": "python",
   "name": "python3"
  },
  "language_info": {
   "codemirror_mode": {
    "name": "ipython",
    "version": 3
   },
   "file_extension": ".py",
   "mimetype": "text/x-python",
   "name": "python",
   "nbconvert_exporter": "python",
   "pygments_lexer": "ipython3",
   "version": "3.6.5"
  }
 },
 "nbformat": 4,
 "nbformat_minor": 2
}
