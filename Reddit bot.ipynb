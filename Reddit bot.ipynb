{
 "cells": [
  {
   "cell_type": "markdown",
   "metadata": {},
   "source": [
    "# Reddit bot\n",
    "\n",
    "Now we are going to build a Reddit bot. For it we need to install (pip install bottr) bottr which will also install the praw module. These are used to access Reddit and have built in operators that will facilitate our work. Let's start by importing our modules:"
   ]
  },
  {
   "cell_type": "code",
   "execution_count": null,
   "metadata": {},
   "outputs": [],
   "source": [
    "import time\n",
    "import praw\n",
    "from bottr.bot import CommentBot"
   ]
  },
  {
   "cell_type": "markdown",
   "metadata": {},
   "source": [
    "Bottr uses praw (python reddit API wrapper). This modules facilitates the JSON interface with Reddit. You can do more advanced stuff with Praw than withh Bottr, but since we want to focus on how to implement regular expressions and not the nuances of a Reddit Bot, then we'll use Bottr's predefined operators.\n",
    "\n",
    "Boottr offers 3 different bots:\n",
    "\n",
    "1) CommentBot: Listens to new comments made in reddit\n",
    "\n",
    "2) MessageBot: Listens to new messages in the inbox\n",
    "\n",
    "3) SubmissionBot: listens to a new submission in reddit\n",
    "\n",
    "We are going to build a program (from Bottr's tutorial) that will listen for the word python and print the comment info. Here's our function:"
   ]
  },
  {
   "cell_type": "code",
   "execution_count": null,
   "metadata": {},
   "outputs": [],
   "source": [
    "def parse_comment(comment):\n",
    "    \"\"\"Define what to do with a comment\"\"\"\n",
    "    if 'python' in comment.body:\n",
    "        print('ID: {}'.format(comment.id))\n",
    "        print('Author: {}'.format(comment.author))\n",
    "        print('Body: {}'.format(comment.body))"
   ]
  },
  {
   "cell_type": "markdown",
   "metadata": {},
   "source": [
    "Now we need to setup access for our bot. For that you need to create a new bot on Python, to long to explain here so just follow my instructions or go here https://bottr.readthedocs.io/.\n",
    "\n",
    "Once a bot is created we need some info:"
   ]
  },
  {
   "cell_type": "code",
   "execution_count": null,
   "metadata": {},
   "outputs": [],
   "source": [
    "#reddit = praw.Reddit(client_id='id',\n",
    " #                    client_secret='secret',\n",
    "  #                   password='botpassword',\n",
    "   #                  user_agent='Script by /u/...',\n",
    "    #                 username='botname')\n",
    "\n",
    "reddit = praw.Reddit(client_id='uTtpip3h_ucKmA',\n",
    "                     client_secret='xeRqh27Y-l4_UOJx-lOKr8nYVuY',\n",
    "                     password='ICS332018',\n",
    "                     user_agent='Script by /u/InterPython',\n",
    "                     username='InterPythonBot')"
   ]
  },
  {
   "cell_type": "markdown",
   "metadata": {},
   "source": [
    "After having our credentials loaded we will create our bot and start our listener and run it for 10 minutes"
   ]
  },
  {
   "cell_type": "code",
   "execution_count": null,
   "metadata": {},
   "outputs": [],
   "source": [
    "bot = CommentBot(reddit=reddit,\n",
    "                    func_comment=parse_comment,\n",
    "                    subreddits=['Peterbot'])\n",
    " # Start Bot\n",
    "bot.start()\n",
    "\n",
    "    # Run bot for 10 seconds\n",
    "time.sleep(10)\n",
    "\n",
    "    # Stop Bot\n",
    "bot.stop()"
   ]
  },
  {
   "cell_type": "markdown",
   "metadata": {},
   "source": [
    "Now let's try and comment something back, for this out function should use the reply() operator included in all bots. Here it goes:"
   ]
  },
  {
   "cell_type": "code",
   "execution_count": null,
   "metadata": {},
   "outputs": [],
   "source": [
    "def parse(comment):\n",
    "    if 'python' in comment.body:\n",
    "        comment.reply('Python is such a wonderful language I love it')\n",
    "\n",
    "bot = CommentBot(reddit=reddit,\n",
    "                    func_comment=parse,\n",
    "                    subreddits=['Peterbot'])\n",
    "\n",
    "bot.start()\n",
    "time.sleep(60)\n",
    "bot.stop()"
   ]
  },
  {
   "cell_type": "markdown",
   "metadata": {},
   "source": [
    "And that's it, we can do the same for all the other three types of bots, we can even have multiple bots running. Here are some of the options that you can find, if you want to use a mroe advanced functionality you could go to https://bottr.readthedocs.io/# or http://pythonforengineers.com/build-a-reddit-bot-part-1/\n",
    "\n",
    "Parameters:\t\n",
    "1) reddit – praw.Reddit instance. Check Bot Account Setup on how to create it.\n",
    "\n",
    "2) name – Bot name\n",
    "\n",
    "3) func_comment – Comment function. It needs to accept a praw.models.Comment object and may take more arguments. For each comment created in subreddits, a praw.models.Comment object and all fun_comments_args are passed to func_comment as arguments.\n",
    "\n",
    "4) func_comment_args – Comment function arguments.\n",
    "\n",
    "5) subreddits – List of subreddit names. Example: ['AskReddit', 'Videos', ...]\n",
    "\n",
    "6) n_jobs – Number of parallel threads that are started when calling start() to process in the incoming comments."
   ]
  },
  {
   "cell_type": "markdown",
   "metadata": {},
   "source": [
    "## Homework\n",
    "\n",
    "For this week we have something special for a quiz. You will create your own reddit bot (or bots) and then fill in the quiz in canvas. Consider the following:\n",
    "\n",
    "1) Reddit is considered DarkWeb. That being said, naviagte at your own risk, there are really dark sections of redit but as long as you stay withint the popular subreddits you should be fine\n",
    "\n",
    "2) Never post anything that may idenitfy you, where you live, or where you study. That includes your username.\n",
    "\n",
    "3) I recommend you save your secret text and your password in a file and load it from there. Regardless, when you upload your script be sure it doesn't contain that information\n",
    "\n",
    "4) Really try to do it. This is more challenging than other quiz assignments but it will help you with your project and learning more about expressions.\n",
    "\n",
    "\n",
    "That being said, do the following:\n",
    "\n",
    "1) Create a bot, you can follow the instructions at the websites I gave you. I recommend you create a new user in reddit to do so but if you want to use your personal user that's on your own.\n",
    "\n",
    "2) You are going to create a python script that listens the subreddit /r/popular for comments and submissions. That means you need to run two bots, if you can't do it in parallel do it one after the other.\n",
    "\n",
    "3) Choose a word (e.g. python, irvine, peter), make sure you can search for any version of that word by using a regular expression (uppercase, lowercase, plurals). You are going to listen for comments and posts that contain that word for 1 hour (so choose a popular word).\n",
    "\n",
    "4) Compile all the posts and comments you gather into a text file, format it so you are able to differentiate one comment from the other.\n",
    "\n",
    "5) Using your text file of comments, you are going to create a dictionary of the frequency of words (non-stop) that appear with your words, for example:\n",
    "        The comment: \"Python is a good programming language and I love programming\n",
    "        Returns: {python:1, good:1, programming:2, language:1, love:1}\n",
    "Note: we removed stopwords, use the stopwords.txt from your project 1 to do this. \n",
    "6) With another bot, you will post (new submission, not comment) in 'Peterbot' your word and the 5 top words related to it with their frequency, for example:\n",
    "    Title: My word is 'python'\n",
    "    Content: The top 5 words are programming:500, code:100, love:99, compre"
   ]
  },
  {
   "cell_type": "code",
   "execution_count": null,
   "metadata": {},
   "outputs": [],
   "source": []
  }
 ],
 "metadata": {
  "kernelspec": {
   "display_name": "Python [default]",
   "language": "python",
   "name": "python3"
  },
  "language_info": {
   "codemirror_mode": {
    "name": "ipython",
    "version": 3
   },
   "file_extension": ".py",
   "mimetype": "text/x-python",
   "name": "python",
   "nbconvert_exporter": "python",
   "pygments_lexer": "ipython3",
   "version": "3.5.3"
  }
 },
 "nbformat": 4,
 "nbformat_minor": 2
}
