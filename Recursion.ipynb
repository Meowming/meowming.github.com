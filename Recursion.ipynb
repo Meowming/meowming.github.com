{
 "cells": [
  {
   "cell_type": "markdown",
   "metadata": {},
   "source": [
    "# Recursion\n",
    "\n",
    "Recursion is a programming technique in which a call to a function often results\n",
    "in another call to that same function. In direct recursion, a call to a function\n",
    "appears in that function's body; in indirect/mutual recursion, the pattern is\n",
    "some function calls some other function ... which ultimately calls the first\n",
    "function. In an example where f calls g and g calls f, we say f and g are\n",
    "mutually recursive with f calling f indirectly via g, and g calling g\n",
    "indirectly via f.\n",
    "\n",
    "For some data structures (not many built-into Python) and problems, it is\n",
    "simpler to write recursive code than its iterative equivalent. In modern\n",
    "programming languages, recursive functions may run a bit slower (maybe 5%) than\n",
    "equivalent iterative functions, but this is not always the case (and sometimes\n",
    "there is no natural/simple iterative solution to a problem); in a typical\n",
    "application, this time difference is insignificant (most of the time could be\n",
    "spent elsewhere in the code anyway)."
   ]
  },
  {
   "cell_type": "markdown",
   "metadata": {},
   "source": [
    "\n",
    "The general form of a directly recursive function is\n",
    "\n",
    "def Solve(Problem):\n",
    "  if (Problem is minimal/not decomposable into a smaller problem: a base case)\n",
    "    Solve Problem directly and return solution; i.e., without recursion\n",
    "  else:\n",
    "  \n",
    "    (1) Decompose Problem into one or more SIMILAR, STRICTLY SMALLER\n",
    "        subproblems: SP1, SP2, ... , SPn\n",
    "\n",
    "    (2) Recursively call Solve (this function) on each SMALLER SUBPROBLEM\n",
    "        (since they are all SIMILAR): Solve(SP1), Solve(SP2),..., Solve(SPN)\n",
    "\n",
    "    (3) Combine the returned solutions to these smaller subproblems into a\n",
    "        solution that solves the original, larger Problem (the one this\n",
    "        original function call must solve)\n",
    "  \n",
    "    (4) Return the solution to the original Problem\n",
    "    \n",
    "Here's our definition for the factorial problem, where the function factorial calls upon itself:"
   ]
  },
  {
   "cell_type": "code",
   "execution_count": 1,
   "metadata": {},
   "outputs": [
    {
     "name": "stdout",
     "output_type": "stream",
     "text": [
      "Computing the factorial of 5\n",
      "Computing the factorial of 4\n",
      "Computing the factorial of 3\n",
      "Computing the factorial of 2\n",
      "Computing the factorial of 1\n",
      "Computing the factorial of 0\n"
     ]
    },
    {
     "data": {
      "text/plain": [
       "120"
      ]
     },
     "execution_count": 1,
     "metadata": {},
     "output_type": "execute_result"
    }
   ],
   "source": [
    "def fact(n):\n",
    "    '''\n",
    "    Returns factorial of n (n!).\n",
    "    Note use of recursion\n",
    "    '''\n",
    "    print (\"Computing the factorial of \" + str(n))\n",
    "    # BASE CASE!\n",
    "    if n == 0:\n",
    "        return 1\n",
    "    \n",
    "    # Recursion!\n",
    "    else:\n",
    "        return n * fact(n-1)\n",
    "fact(5)"
   ]
  },
  {
   "cell_type": "markdown",
   "metadata": {},
   "source": [
    "And that's about it. There is no much more to learn about recursion but the biggest challenge is to be able to conceptualize problems into a recursive form. We will look into more examples but before that we need to talk about:\n",
    "\n",
    "## Dynamic programming\n",
    "\n",
    "Dynamic programming consists in breaking a big problem into simpler subproblems recursively. To learn more about dynamic programming I recommend you go here https://medium.freecodecamp.org/demystifying-dynamic-programming-3efafb8d4296 but for now I will just introduce you to two solutions for a problem, a recursive one and a dynamic one."
   ]
  },
  {
   "cell_type": "markdown",
   "metadata": {},
   "source": [
    "## Fibonacci sequence\n",
    "\n",
    "Implement a Fibonnaci Sequence in three different ways:\n",
    "\n",
    "Recursively\n",
    "\n",
    "Dynamically \n",
    "\n",
    "Iteratively\n",
    "\n",
    "Remember that a fibonacci sequence: 0,1,1,2,3,5,8,13,21,... starts off with a base case checking to see if n = 0 or 1, then it returns 1.\n",
    "\n",
    "Else it returns fib(n-1)+fib(n+2).\n",
    "\n",
    "### Recursive"
   ]
  },
  {
   "cell_type": "code",
   "execution_count": 3,
   "metadata": {},
   "outputs": [
    {
     "name": "stdout",
     "output_type": "stream",
     "text": [
      "10\n",
      "9\n",
      "8\n",
      "7\n",
      "6\n",
      "5\n",
      "4\n",
      "3\n",
      "2\n",
      "1\n",
      "0\n",
      "1\n",
      "2\n",
      "1\n",
      "0\n",
      "3\n",
      "2\n",
      "1\n",
      "0\n",
      "1\n",
      "4\n",
      "3\n",
      "2\n",
      "1\n",
      "0\n",
      "1\n",
      "2\n",
      "1\n",
      "0\n",
      "5\n",
      "4\n",
      "3\n",
      "2\n",
      "1\n",
      "0\n",
      "1\n",
      "2\n",
      "1\n",
      "0\n",
      "3\n",
      "2\n",
      "1\n",
      "0\n",
      "1\n",
      "6\n",
      "5\n",
      "4\n",
      "3\n",
      "2\n",
      "1\n",
      "0\n",
      "1\n",
      "2\n",
      "1\n",
      "0\n",
      "3\n",
      "2\n",
      "1\n",
      "0\n",
      "1\n",
      "4\n",
      "3\n",
      "2\n",
      "1\n",
      "0\n",
      "1\n",
      "2\n",
      "1\n",
      "0\n",
      "7\n",
      "6\n",
      "5\n",
      "4\n",
      "3\n",
      "2\n",
      "1\n",
      "0\n",
      "1\n",
      "2\n",
      "1\n",
      "0\n",
      "3\n",
      "2\n",
      "1\n",
      "0\n",
      "1\n",
      "4\n",
      "3\n",
      "2\n",
      "1\n",
      "0\n",
      "1\n",
      "2\n",
      "1\n",
      "0\n",
      "5\n",
      "4\n",
      "3\n",
      "2\n",
      "1\n",
      "0\n",
      "1\n",
      "2\n",
      "1\n",
      "0\n",
      "3\n",
      "2\n",
      "1\n",
      "0\n",
      "1\n",
      "8\n",
      "7\n",
      "6\n",
      "5\n",
      "4\n",
      "3\n",
      "2\n",
      "1\n",
      "0\n",
      "1\n",
      "2\n",
      "1\n",
      "0\n",
      "3\n",
      "2\n",
      "1\n",
      "0\n",
      "1\n",
      "4\n",
      "3\n",
      "2\n",
      "1\n",
      "0\n",
      "1\n",
      "2\n",
      "1\n",
      "0\n",
      "5\n",
      "4\n",
      "3\n",
      "2\n",
      "1\n",
      "0\n",
      "1\n",
      "2\n",
      "1\n",
      "0\n",
      "3\n",
      "2\n",
      "1\n",
      "0\n",
      "1\n",
      "6\n",
      "5\n",
      "4\n",
      "3\n",
      "2\n",
      "1\n",
      "0\n",
      "1\n",
      "2\n",
      "1\n",
      "0\n",
      "3\n",
      "2\n",
      "1\n",
      "0\n",
      "1\n",
      "4\n",
      "3\n",
      "2\n",
      "1\n",
      "0\n",
      "1\n",
      "2\n",
      "1\n",
      "0\n"
     ]
    },
    {
     "data": {
      "text/plain": [
       "55"
      ]
     },
     "execution_count": 3,
     "metadata": {},
     "output_type": "execute_result"
    }
   ],
   "source": [
    "def fib_rec(n):\n",
    "    # Base Case\n",
    "    print (n)\n",
    "    if n == 0 or n == 1:\n",
    "        return n\n",
    "    \n",
    "    # Recursion\n",
    "    else:\n",
    "        return fib_rec(n-1) + fib_rec(n-2)\n",
    "fib_rec(10)"
   ]
  },
  {
   "cell_type": "markdown",
   "metadata": {},
   "source": [
    "### Dynamic\n",
    "\n",
    "In the form it is implemented here, the cache is set beforehand and is based on the desired n number of the Fibonacci Sequence. Note how we check it the cache[n] != None, meaning we have a check to know wether or not to keep setting the cache (and more importantly keep cache of old results!)"
   ]
  },
  {
   "cell_type": "code",
   "execution_count": 4,
   "metadata": {},
   "outputs": [
    {
     "name": "stdout",
     "output_type": "stream",
     "text": [
      "[None, None, None, None, None, None, None, None, None, None, None]\n",
      "[None, None, None, None, None, None, None, None, None, None, None]\n",
      "[None, None, None, None, None, None, None, None, None, None, None]\n",
      "[None, None, None, None, None, None, None, None, None, None, None]\n",
      "[None, None, None, None, None, None, None, None, None, None, None]\n",
      "[None, None, None, None, None, None, None, None, None, None, None]\n",
      "[None, None, None, None, None, None, None, None, None, None, None]\n",
      "[None, None, None, None, None, None, None, None, None, None, None]\n",
      "[None, None, None, None, None, None, None, None, None, None, None]\n",
      "[None, None, None, None, None, None, None, None, None, None, None]\n",
      "[None, None, None, None, None, None, None, None, None, None, None]\n",
      "[None, None, 1, None, None, None, None, None, None, None, None]\n",
      "[None, None, 1, 2, None, None, None, None, None, None, None]\n",
      "[None, None, 1, 2, 3, None, None, None, None, None, None]\n",
      "[None, None, 1, 2, 3, 5, None, None, None, None, None]\n",
      "[None, None, 1, 2, 3, 5, 8, None, None, None, None]\n",
      "[None, None, 1, 2, 3, 5, 8, 13, None, None, None]\n",
      "[None, None, 1, 2, 3, 5, 8, 13, 21, None, None]\n",
      "[None, None, 1, 2, 3, 5, 8, 13, 21, 34, None]\n"
     ]
    },
    {
     "data": {
      "text/plain": [
       "55"
      ]
     },
     "execution_count": 4,
     "metadata": {},
     "output_type": "execute_result"
    }
   ],
   "source": [
    "\n",
    "# Instantiate Cache information# Insta \n",
    "n = 10\n",
    "cache = [None] * (n + 1)\n",
    "\n",
    "\n",
    "def fib_dyn(n):\n",
    "    \n",
    "    # Base Case\n",
    "    print(cache)\n",
    "    if n == 0 or n == 1:\n",
    "        return n\n",
    "    \n",
    "    # Check cache\n",
    "    if cache[n] != None:\n",
    "        return cache[n]\n",
    "    \n",
    "    # Keep setting cache\n",
    "    cache[n] = fib_dyn(n-1) + fib_dyn(n-2)\n",
    "    \n",
    "    return cache[n]\n",
    "\n",
    "fib_dyn(10)"
   ]
  },
  {
   "cell_type": "markdown",
   "metadata": {},
   "source": [
    "### Iterative\n"
   ]
  },
  {
   "cell_type": "code",
   "execution_count": 5,
   "metadata": {},
   "outputs": [
    {
     "data": {
      "text/plain": [
       "55"
      ]
     },
     "execution_count": 5,
     "metadata": {},
     "output_type": "execute_result"
    }
   ],
   "source": [
    "def fib_iter(n):\n",
    "    \n",
    "    # Set starting point\n",
    "    a = 0\n",
    "    b = 1\n",
    "    \n",
    "    # Follow algorithm\n",
    "    for i in range(n):\n",
    "        \n",
    "        a, b = b, a + b\n",
    "        \n",
    "    return a\n",
    "fib_iter(10)"
   ]
  },
  {
   "cell_type": "markdown",
   "metadata": {},
   "source": [
    "## Recursion rules\n",
    "\n",
    "Now, we will learn how to VERIFY that recursive functions are correct by three\n",
    "proof rules. Even more important than proving that existing functions are\n",
    "correct (to better understand them), we will use these same three proof rules\n",
    "to guide us when we SYNTHESIZE new recursive functions.\n",
    "\n",
    "Note that in direct recursion, we say that the function \"recurs\", not that it\n",
    "\"recurses\". Recurses describes what happens when you hit your thumb with a\n",
    "hammer the second time. I was taught that programmers who use the words\n",
    "\"recurse\" or \"recurses\" are not well-spoken.\n",
    "\n",
    "The three proof rules should be simple to apply in most cases. These rules\n",
    "mirror rules for proofs by induction in mathematics. Recursion (thinking about\n",
    "smaller and smaller problems) and induction (thinking about bigger and bigger\n",
    "problems) are two sides of the same coin.\n",
    " \n",
    "\n",
    "1. Prove that the base case (smallest) problem is processed correctly: the \n",
    "    function RECOGNIZES the base case and then RETURNS THE CORRECT RESULT.\n",
    "\n",
    "\n",
    "    \n",
    "\n",
    "2. Prove that each recursive call is on a STRICTLY SMALLER-SIZED PROBLEM: the\n",
    "    problem gets closer to the base case.\n",
    "\n",
    "\n",
    "\n",
    "\n",
    "3. ASSUMING ALL RECURSIVE CALLS SOLVE THEIR SMALLER SUBPROBLEMS CORRECTLY,\n",
    "    prove that the code combines these solved subproblems correctly, to solve\n",
    "    the original Problem (the original parameter of the original function call).\n",
    "\n",
    "\n"
   ]
  },
  {
   "cell_type": "markdown",
   "metadata": {},
   "source": [
    "### Palindrome\n",
    "\n",
    "Consider the following problem:\n",
    "\n",
    "Given a string, find out if it's a palindrome (written same way forward or backward)"
   ]
  },
  {
   "cell_type": "code",
   "execution_count": 6,
   "metadata": {},
   "outputs": [],
   "source": [
    "def is_palindrome(s):\n",
    "    if s =='':\n",
    "        return True\n",
    "    else:\n",
    "        if s[0] == s[-1]:\n",
    "            return is_palindrome(s[1:-1])\n",
    "        else:\n",
    "            return False"
   ]
  },
  {
   "cell_type": "code",
   "execution_count": 7,
   "metadata": {},
   "outputs": [
    {
     "data": {
      "text/plain": [
       "True"
      ]
     },
     "execution_count": 7,
     "metadata": {},
     "output_type": "execute_result"
    }
   ],
   "source": [
    "is_palindrome(\"racecar\")"
   ]
  },
  {
   "cell_type": "code",
   "execution_count": 8,
   "metadata": {},
   "outputs": [
    {
     "data": {
      "text/plain": [
       "False"
      ]
     },
     "execution_count": 8,
     "metadata": {},
     "output_type": "execute_result"
    }
   ],
   "source": [
    "is_palindrome(\"lily\")"
   ]
  },
  {
   "cell_type": "markdown",
   "metadata": {},
   "source": [
    "Let's write a more sophisticated function that can deal with punctuation  marks"
   ]
  },
  {
   "cell_type": "code",
   "execution_count": 9,
   "metadata": {},
   "outputs": [
    {
     "name": "stdout",
     "output_type": "stream",
     "text": [
      "gohangasalamiimalasagnahog\n"
     ]
    },
    {
     "data": {
      "text/plain": [
       "True"
      ]
     },
     "execution_count": 9,
     "metadata": {},
     "output_type": "execute_result"
    }
   ],
   "source": [
    "import re\n",
    "def is_palindrome_complex(s):\n",
    "    s = s.lower()\n",
    "    s=re.sub(\"[ ?!.,']\",'',s)\n",
    "    print(s)\n",
    "    if s =='':\n",
    "        return True\n",
    "    else:\n",
    "        if s[0] == s[-1]:\n",
    "            return is_palindrome(s[1:-1])\n",
    "        else:\n",
    "            return False\n",
    "is_palindrome_complex(\"Go hang a salami, I'm a lasagna hog\")"
   ]
  },
  {
   "cell_type": "code",
   "execution_count": null,
   "metadata": {},
   "outputs": [],
   "source": []
  },
  {
   "cell_type": "code",
   "execution_count": null,
   "metadata": {},
   "outputs": [],
   "source": []
  },
  {
   "cell_type": "code",
   "execution_count": null,
   "metadata": {},
   "outputs": [],
   "source": []
  }
 ],
 "metadata": {
  "kernelspec": {
   "display_name": "Python 3",
   "language": "python",
   "name": "python3"
  },
  "language_info": {
   "codemirror_mode": {
    "name": "ipython",
    "version": 3
   },
   "file_extension": ".py",
   "mimetype": "text/x-python",
   "name": "python",
   "nbconvert_exporter": "python",
   "pygments_lexer": "ipython3",
   "version": "3.6.5"
  }
 },
 "nbformat": 4,
 "nbformat_minor": 2
}
