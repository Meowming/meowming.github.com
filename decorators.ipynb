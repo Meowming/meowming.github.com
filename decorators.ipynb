{
 "cells": [
  {
   "cell_type": "markdown",
   "metadata": {},
   "source": [
    "# Decorators\n",
    "\n",
    "Adapted from all over the internet"
   ]
  },
  {
   "cell_type": "markdown",
   "metadata": {},
   "source": [
    "Decorators are a change of syntax. Being able to use them difeerentiates an intermediate pythonista from a noob one. It allows us to change the way functions, methods and classes behave."
   ]
  },
  {
   "cell_type": "markdown",
   "metadata": {},
   "source": [
    "## Example\n",
    "\n",
    "Let's say you're defining methods on numbers:"
   ]
  },
  {
   "cell_type": "code",
   "execution_count": 1,
   "metadata": {},
   "outputs": [],
   "source": [
    "def add(n1, n2):\n",
    "    return n1 + n2\n",
    "\n",
    "def multiply(n1, n2):\n",
    "    return n1 * n2\n",
    "\n",
    "def exponentiate(n1, n2):\n",
    "    \"\"\"Raise n1 to the power of n2\"\"\"\n",
    "    import math\n",
    "    return math.pow(n1, n2)"
   ]
  },
  {
   "cell_type": "markdown",
   "metadata": {},
   "source": [
    "Python's dynamic typing will allow the two values to be anything accepted by python but the math.pow method will raise an error if it's not a number. But what if we want to ensure that it is a number before the error:"
   ]
  },
  {
   "cell_type": "code",
   "execution_count": 2,
   "metadata": {},
   "outputs": [],
   "source": [
    "def is_number(n):\n",
    "    \"\"\"Return True iff n is a number.\"\"\"\n",
    "    # A number can always be converted to a float\n",
    "    try:\n",
    "        float(n)\n",
    "        return True\n",
    "    except ValueError:\n",
    "        return False\n",
    "    \n",
    "def add(n1, n2):\n",
    "    if not (is_number(n1) and is_number(n2)):\n",
    "        print(\"Arguments must be numbers!\")\n",
    "        return\n",
    "    return n1 + n2\n",
    "\n",
    "def multiply(n1, n2):\n",
    "    if not (is_number(n1) and is_number(n2)):\n",
    "        print(\"Arguments must be numbers!\")\n",
    "        return\n",
    "    return n1 * n2\n",
    "\n",
    "def exponentiate(n1, n2):\n",
    "    \"\"\"Raise n1 to the power of n2\"\"\"\n",
    "    if not (is_number(n1) and is_number(n2)):\n",
    "        print(\"Arguments must be numbers!\")\n",
    "        return\n",
    "    import math\n",
    "    return math.pow(n1, n2)"
   ]
  },
  {
   "cell_type": "markdown",
   "metadata": {},
   "source": [
    "By now you should know that this is wrong. Doing so much copy pasting and unnecesary definitions is not the python way.\n",
    "\n",
    "We want the copy & pasted code to live in just one place, so any changes just go there (DRY code: Don't Repeat Yourself). So let's **refactor**. "
   ]
  },
  {
   "cell_type": "code",
   "execution_count": 5,
   "metadata": {},
   "outputs": [],
   "source": [
    "def validate_two_arguments(n1, n2):\n",
    "    \"\"\"\n",
    "    Returns True if n1 and n2 are both numbers.\n",
    "    \"\"\"\n",
    "    if not (is_number(n1) and is_number(n2)):\n",
    "        return False\n",
    "    return True\n",
    "\n",
    "def add(n1, n2):\n",
    "    if validate_two_arguments(n1, n2):\n",
    "        return n1 + n2\n",
    "\n",
    "def multiply(n1, n2):\n",
    "    if validate_two_arguments(n1, n2):\n",
    "        return n1 * n2\n",
    "\n",
    "def exponentiate(n1, n2):\n",
    "    \"\"\"Raise n1 to the power of n2\"\"\"\n",
    "    if validate_two_arguments(n1, n2):\n",
    "        import math\n",
    "        return math.pow(n1, n2)"
   ]
  },
  {
   "cell_type": "markdown",
   "metadata": {},
   "source": [
    "This is definitely better. But there's still some repeated logic. Like, what if we want to return an error if we don't get numbers, or print something before running the code? We'd still have to make the changes in multiple places. The code isn't DRY. "
   ]
  },
  {
   "cell_type": "markdown",
   "metadata": {},
   "source": [
    "## Basic decorators\n",
    "\n",
    "We can refactor further with the **decorator pattern**.\n",
    "\n",
    "We want to write something that looks like\n",
    "    \n",
    "    @decorator\n",
    "    def add(n1, n2):\n",
    "        return n1 + n2\n",
    "\n",
    "so that all the logic about validating `n1` and `n2` lives in one place, and the functions just do what we want them to do. \n",
    "        \n",
    "Since the @ syntax just means `add = decorator(add)`, we know the decorator needs to take a function as an argument, and it needs to return a function. (This should be confusing at first. Functions returning functions are scary, but think about it until that doesn't seem outlandish to you.)\n",
    "\n",
    "This returned function should act the same way as `add`, so it should take two arguments. And within this returned function, we want to first check that the arguments are numbers. If they are, we want to call the original function that we decorated (in this case, `add`). If not, we don't want to do anything. Here's what that looks like (there's a lot here, so use the comments to understand what's happening):"
   ]
  },
  {
   "cell_type": "code",
   "execution_count": 6,
   "metadata": {},
   "outputs": [],
   "source": [
    "# The decorator: takes a function.\n",
    "def validate_arguments(func):\n",
    "    # The decorator will be returning wrapped_func, a function that has the \n",
    "    # same signature as add, multiply, etc.\n",
    "    def wrapped_func(n1, n2):\n",
    "        # If we don't have two numbers, we don't want to run the function. \n",
    "        # Best practice (\"be explicit\") is to raise an error here \n",
    "        # instead of just returning None.\n",
    "        if not validate_two_arguments(n1, n2):\n",
    "            raise Exception(\"Arguments must be numbers!\")\n",
    "        # We've passed our checks, so we can call the function with the passed in arguments.\n",
    "        # If you like, think of this as\n",
    "        #   result = func(n1, n2)\n",
    "        #   return result\n",
    "        # to distinguish it from the outer return where we're returning a function.\n",
    "        return func(n1, n2)\n",
    "    # This is where we return the function that has the same signature.\n",
    "    return wrapped_func"
   ]
  },
  {
   "cell_type": "code",
   "execution_count": 7,
   "metadata": {},
   "outputs": [
    {
     "name": "stdout",
     "output_type": "stream",
     "text": [
      "4\n",
      "Caught Exception: Arguments must be numbers!\n"
     ]
    }
   ],
   "source": [
    "@validate_arguments\n",
    "def add(n1, n2):\n",
    "    return n1 + n2\n",
    "# Don't forget, the @ syntax just means\n",
    "# add = validate_decorator(add)\n",
    "\n",
    "print(add(1, 3))\n",
    "try:\n",
    "    add(2, 'hi')\n",
    "except Exception as e:\n",
    "    print(\"Caught Exception: {}\".format(e))"
   ]
  },
  {
   "cell_type": "markdown",
   "metadata": {},
   "source": [
    "This pattern is nice because we've even refactored out all the validation logic (even the \"if blah then blah\" part) into the decorator. "
   ]
  },
  {
   "cell_type": "markdown",
   "metadata": {},
   "source": [
    "## Generalizing with \\*args and \\**kwargs\n",
    "\n",
    "What if we want to validate a function that has a different number of arguments?"
   ]
  },
  {
   "cell_type": "code",
   "execution_count": 9,
   "metadata": {},
   "outputs": [
    {
     "ename": "TypeError",
     "evalue": "wrapped_func() takes 2 positional arguments but 3 were given",
     "output_type": "error",
     "traceback": [
      "\u001b[1;31m---------------------------------------------------------------------------\u001b[0m",
      "\u001b[1;31mTypeError\u001b[0m                                 Traceback (most recent call last)",
      "\u001b[1;32m<ipython-input-9-b1f445cda3a7>\u001b[0m in \u001b[0;36m<module>\u001b[1;34m()\u001b[0m\n\u001b[0;32m      3\u001b[0m     \u001b[1;32mreturn\u001b[0m \u001b[0mn1\u001b[0m \u001b[1;33m+\u001b[0m \u001b[0mn2\u001b[0m \u001b[1;33m+\u001b[0m \u001b[0mn3\u001b[0m\u001b[1;33m\u001b[0m\u001b[0m\n\u001b[0;32m      4\u001b[0m \u001b[1;33m\u001b[0m\u001b[0m\n\u001b[1;32m----> 5\u001b[1;33m \u001b[0madd3\u001b[0m\u001b[1;33m(\u001b[0m\u001b[1;36m1\u001b[0m\u001b[1;33m,\u001b[0m \u001b[1;36m2\u001b[0m\u001b[1;33m,\u001b[0m \u001b[1;36m3\u001b[0m\u001b[1;33m)\u001b[0m\u001b[1;33m\u001b[0m\u001b[0m\n\u001b[0m",
      "\u001b[1;31mTypeError\u001b[0m: wrapped_func() takes 2 positional arguments but 3 were given"
     ]
    }
   ],
   "source": [
    "@validate_arguments  # Won't work!\n",
    "def add3(n1, n2, n3):\n",
    "    return n1 + n2 + n3\n",
    "\n",
    "add3(1, 2, 3)"
   ]
  },
  {
   "cell_type": "markdown",
   "metadata": {},
   "source": [
    "We can't decorate this because the wrapped function expects 2 arguments. \n",
    "\n",
    "Here's where we use the `*` symbol. I'll write out the code so you can see how it looks, and we'll look at what `*args` is doing below. "
   ]
  },
  {
   "cell_type": "code",
   "execution_count": 10,
   "metadata": {},
   "outputs": [],
   "source": [
    "# The decorator: takes a function.\n",
    "def validate_arguments(func):\n",
    "    # Note the *args! Think of this as representing \"as many arguments as you want\". \n",
    "    # So this function will take an arbitrary number of arguments.\n",
    "    def wrapped_func(*args):\n",
    "        # We just want to apply the check to each argument.\n",
    "        for arg in args:\n",
    "            if not is_number(arg):\n",
    "                raise Exception(\"Arguments must be numbers!\")\n",
    "        # We also want to make sure there's at least two arguments.\n",
    "        if len(args) < 2:\n",
    "            raise Exception(\"Must specify at least 2 arguments!\")\n",
    "        \n",
    "        # We've passed our checks, so we can call the function with the \n",
    "        # passed-in arguments.\n",
    "        # Right now, args is a tuple of all the different arguments passed in \n",
    "        # (more explanation below), so we want to expand them back out when \n",
    "        # calling the function.\n",
    "        return func(*args)\n",
    "    return wrapped_func"
   ]
  },
  {
   "cell_type": "code",
   "execution_count": 11,
   "metadata": {},
   "outputs": [
    {
     "data": {
      "text/plain": [
       "6"
      ]
     },
     "execution_count": 11,
     "metadata": {},
     "output_type": "execute_result"
    }
   ],
   "source": [
    "@validate_arguments  # This works\n",
    "def add3(n1, n2, n3):\n",
    "    return n1 + n2 + n3\n",
    "\n",
    "add3(1, 2, 3)"
   ]
  },
  {
   "cell_type": "code",
   "execution_count": 12,
   "metadata": {},
   "outputs": [
    {
     "name": "stdout",
     "output_type": "stream",
     "text": [
      "15\n",
      "45\n"
     ]
    }
   ],
   "source": [
    "@validate_arguments  # And so does this\n",
    "def addn(*args):\n",
    "    \"\"\"Add an arbitrary number of numbers together\"\"\"\n",
    "    cumu = 0\n",
    "    for arg in args:\n",
    "        cumu += arg\n",
    "    return cumu\n",
    "print(addn(1, 2, 3, 4, 5))\n",
    "# range(n) gives a list, so we expand the list into positional arguments...\n",
    "print(addn(*range(10)))"
   ]
  },
  {
   "cell_type": "markdown",
   "metadata": {},
   "source": [
    "\n",
    "Congrats, you now understand decorators! You can do tons of other stuff with them, but hopefully now you're equipped to read the other guides online. \n",
    "\n"
   ]
  },
  {
   "cell_type": "markdown",
   "metadata": {},
   "source": [
    "---\n",
    "# Advanced decorators\n",
    "\n",
    "This section will introduce some of the many other useful ways you can use decorators. We'll talk about\n",
    "* Passing arguments into decorators\n",
    "* `functools.wraps`\n",
    "* Returning a different function\n",
    "* Decorators and objects.\n",
    "\n",
    "\n",
    "\n",
    "## Decorators with arguments\n",
    "\n",
    "A common thing to want to do is to do some kind of configuration in a decorator. For example, let's say we want to define a `divide_n` method, and to make it easy to use we want to hide the existence of integer division. Let's define a decorator that converts arguments into floats."
   ]
  },
  {
   "cell_type": "code",
   "execution_count": null,
   "metadata": {},
   "outputs": [],
   "source": [
    "def convert_arguments(func):\n",
    "    \"\"\"\n",
    "    Convert func arguments to floats.\n",
    "    \"\"\"\n",
    "    # Introducing the leading underscore: (weakly) marks a private \n",
    "    # method/property that should not be accessed outside the defining\n",
    "    # scope. Look up PEP 8 for more. \n",
    "    def _wrapped_func(*args):\n",
    "        new_args = [float(arg) for arg in args]\n",
    "        return func(*new_args)\n",
    "    return _wrapped_func\n",
    "\n",
    "@convert_arguments\n",
    "@validate_arguments\n",
    "def divide_n(*args):\n",
    "    cumu = args[0]\n",
    "    for arg in args[1:]:\n",
    "        cumu = cumu / arg\n",
    "    return cumu"
   ]
  },
  {
   "cell_type": "code",
   "execution_count": null,
   "metadata": {},
   "outputs": [],
   "source": [
    "# The user doesn't need to think about integer division!\n",
    "divide_n(103, 2, 8)"
   ]
  },
  {
   "cell_type": "markdown",
   "metadata": {},
   "source": [
    "But now let's say we want to define a `divide_n_as_integers` function. We could write a new decorator, or we could alter our decorator so that we can specify what we want to convert the arguments to. Let's try the latter. \n",
    "\n"
   ]
  },
  {
   "cell_type": "code",
   "execution_count": null,
   "metadata": {},
   "outputs": [],
   "source": [
    "def convert_arguments_to(to_type=float):\n",
    "    \"\"\"\n",
    "    Convert arguments to the given to_type by casting them.\n",
    "    \"\"\"\n",
    "    def _wrapper(func):\n",
    "        def _wrapped_func(*args):\n",
    "            new_args = [to_type(arg) for arg in args]\n",
    "            return func(*new_args)\n",
    "        return _wrapped_func\n",
    "    return _wrapper\n",
    "\n",
    "\n",
    "@validate_arguments\n",
    "def divide_n(*args):\n",
    "    cumu = args[0]\n",
    "    for arg in args[1:]:\n",
    "        cumu = cumu / arg\n",
    "    return cumu\n",
    "\n",
    "\n",
    "@convert_arguments_to(to_type=int)\n",
    "def divide_n_as_integers(*args):\n",
    "    return int(divide_n(*args))\n",
    "\n",
    "\n",
    "@convert_arguments_to(to_type=float)\n",
    "def divide_n_as_float(*args):\n",
    "    return divide_n(*args)\n",
    "\n",
    "\n",
    "print(divide_n_as_float('6', 3))\n",
    "print(divide_n_as_integers('6', 3))"
   ]
  },
  {
   "cell_type": "markdown",
   "metadata": {},
   "source": [
    "Did you notice the tricky thing about creating a decorator that takes arguments? **We had to create a function to \"return a decorator\".** The outermost function, `convert_arguments_to`, returns a function that takes a function, which is what we've been calling a \"decorator\". \n",
    "\n",
    "To think about why this is necessary, let's start from the form that we wanted to write, and unpack from there. We wanted to be able to do:\n",
    "\n",
    "    @decorator(decorator_arg)\n",
    "    def myfunc(*func_args):\n",
    "        pass\n",
    "        \n",
    "Unpacking the syntactic sugar gives us\n",
    "\n",
    "    def myfunc(*func_args): \n",
    "       pass\n",
    "    myfunc = decorator(decorator_arg)(myfunc)\n",
    "      \n",
    "Written this way, it should immediately be clear that `decorator(decorator_arg)` **returns a function that takes a function**. \n",
    "\n",
    "So that's how you write a decorator that takes an argument: it actually has to be a function that takes your decorator arguments, and returns a function that takes a function. "
   ]
  },
  {
   "cell_type": "markdown",
   "metadata": {},
   "source": [
    "## functools.wraps\n",
    "If you've played around with the examples above, you might've seen that the name of the wrapped function changes after you apply a decorator... And perhaps more importantly, the docstring of the wrapped function changes too (this is important for when generating documentation, e.g. with Sphinx). "
   ]
  },
  {
   "cell_type": "code",
   "execution_count": null,
   "metadata": {},
   "outputs": [],
   "source": [
    "@validate_arguments\n",
    "def foo(*args):\n",
    "    \"\"\"foo frobs bar\"\"\"\n",
    "    pass\n",
    "\n",
    "\n",
    "print(foo.__name__)\n",
    "print(foo.__doc__)"
   ]
  },
  {
   "cell_type": "markdown",
   "metadata": {},
   "source": [
    "[`functools.wraps`](https://docs.python.org/2/library/functools.html#functools.wraps) solves this problem. Use it as follows:"
   ]
  },
  {
   "cell_type": "code",
   "execution_count": null,
   "metadata": {},
   "outputs": [],
   "source": [
    "from functools import wraps\n",
    "\n",
    "def better_validate_arguments(func):\n",
    "    @wraps(func)\n",
    "    def wrapped_func(*args):\n",
    "        for arg in args:\n",
    "            if not is_number(arg):\n",
    "                raise Exception(\"Arguments must be numbers!\")\n",
    "        if len(args) < 2:\n",
    "            raise Exception(\"Must specify at least 2 arguments!\")\n",
    "        return func(*args)\n",
    "    return wrapped_func\n",
    "\n",
    "\n",
    "@better_validate_arguments\n",
    "def bar(*args):\n",
    "    \"\"\"bar frobs foo\"\"\"\n",
    "    pass\n",
    "\n",
    "\n",
    "print(bar.__name__)\n",
    "print(bar.__doc__)"
   ]
  },
  {
   "cell_type": "markdown",
   "metadata": {},
   "source": [
    "Think of the `@wraps` decorator making it so that `wrapped_func` knows what function it originally wrapped. "
   ]
  },
  {
   "cell_type": "markdown",
   "metadata": {},
   "source": [
    "## Returning a different function\n",
    "\n",
    "Decorators don't even have to return the function that's passed in. You can have some fun with this..."
   ]
  },
  {
   "cell_type": "code",
   "execution_count": null,
   "metadata": {},
   "outputs": [],
   "source": [
    "def jedi_mind_trick(func):\n",
    "    def _jedi_func():\n",
    "        return \"Not the droid you're looking for\"\n",
    "    return _jedi_func\n",
    "\n",
    "    \n",
    "@jedi_mind_trick\n",
    "def get_droid():\n",
    "    return \"Found the droid!\"\n",
    "\n",
    "\n",
    "get_droid()"
   ]
  },
  {
   "cell_type": "markdown",
   "metadata": {},
   "source": [
    "But more seriously, this can be useful for things like\n",
    "\n",
    "* Authentication: you don't want to return the function if the user isn't recognized, instead redirecting to a login page (e.g. you could check an environment variable)\n",
    "* Disabling test methods when deployed to a production environment\n"
   ]
  },
  {
   "cell_type": "markdown",
   "metadata": {},
   "source": [
    "# Decorators by case\n",
    "\n",
    "Functools have plenty of useful decorators that you should look into. But we will look at custom decorators according to their use cases"
   ]
  },
  {
   "cell_type": "markdown",
   "metadata": {},
   "source": [
    "### Decorators for annotation\n",
    "Decorators can add annotations to functions when they're declared. For instance, suppose we want to label two types of functions, \"red\" functions and \"blue\" functions: "
   ]
  },
  {
   "cell_type": "code",
   "execution_count": null,
   "metadata": {},
   "outputs": [],
   "source": [
    "def red(fn):\n",
    "    fn.color = 'red'\n",
    "    return fn\n",
    "\n",
    "def blue(fn):\n",
    "    fn.color = 'blue'\n",
    "    return fn\n",
    "\n",
    "@red\n",
    "def combine(a, b):\n",
    "    result = []\n",
    "    result.extend(a)\n",
    "    result.extend(b)\n",
    "    return result\n",
    "\n",
    "@blue\n",
    "def unsafe_combine(a, b):\n",
    "    a.extend(b)\n",
    "    return a\n",
    "\n",
    "@blue\n",
    "def combine_and_save(a, b):\n",
    "    result = a + b\n",
    "    with open('combined', 'w') as f:\n",
    "        f.write(repr(result))\n",
    "    return result"
   ]
  },
  {
   "cell_type": "code",
   "execution_count": null,
   "metadata": {},
   "outputs": [],
   "source": [
    "def combine_using(fn, a, b):\n",
    "    if hasattr(fn, 'color') and fn.color == 'blue':\n",
    "        print(\"Sorry, only red functions allowed here!\")\n",
    "        return combine(a, b)  # fall back to default implementation\n",
    "    return fn(a, b)\n",
    "\n",
    "a = [1, 2]\n",
    "b = [3, 4]\n",
    "print(combine_using(unsafe_combine, a, b))\n",
    "a"
   ]
  },
  {
   "cell_type": "markdown",
   "metadata": {},
   "source": [
    "the `red` and `blue` decorators offer the benefits of being:\n",
    "- highly and immediately visible\n",
    "- inherently closely attached to/above the function definition\n",
    "- consistent and foolproof (no room for typos).\n",
    "\n",
    "If you've ever used [`pytest`](https://docs.pytest.org/en/latest/), this is what `@pytest.mark.parametrize`, `@pytest.mark.skip`, `@pytest.mark.[etc]` are doing - simply setting attributes on your test function, (some of) which are later used by the framework to dictate how the test is to be run."
   ]
  },
  {
   "cell_type": "markdown",
   "metadata": {},
   "source": [
    "### Decorators for registration\n",
    "Sometimes, we want to have a centralized means of discovering a number of different functions. Decorators are a convenient means of doing this."
   ]
  },
  {
   "cell_type": "code",
   "execution_count": null,
   "metadata": {},
   "outputs": [],
   "source": [
    "FUNCTION_REGISTRY = []\n",
    "\n",
    "def registered(fn):\n",
    "    FUNCTION_REGISTRY.append(fn)\n",
    "    return fn\n",
    "\n",
    "@registered\n",
    "def step_1():\n",
    "    print(\"Hello\")\n",
    "    \n",
    "@registered\n",
    "def step_2():\n",
    "    print(\"world!\")"
   ]
  },
  {
   "cell_type": "code",
   "execution_count": null,
   "metadata": {},
   "outputs": [],
   "source": [
    "def run_all():\n",
    "    for function in FUNCTION_REGISTRY:\n",
    "        function()\n",
    "        \n",
    "run_all()"
   ]
  },
  {
   "cell_type": "markdown",
   "metadata": {},
   "source": [
    "while we could have accomplished the same thing by doing:"
   ]
  },
  {
   "cell_type": "code",
   "execution_count": null,
   "metadata": {},
   "outputs": [],
   "source": [
    "def step_1():\n",
    "    print(\"Hello\")\n",
    "    \n",
    "def step_2():\n",
    "    print(\"world!\")\n",
    "    \n",
    "FUNCTION_REGISTRY = [step_1, step_2]"
   ]
  },
  {
   "cell_type": "markdown",
   "metadata": {},
   "source": [
    "This means that, looking at the definition of `step_1` in isolation, we don't _know_ that it's been registered and, further, if we want to figure out how or why it's being run, we need to first identify that it's included in `FUNCTION_REGISTRY`, and then see that `FUNCTION_REGISTRY` is used in `run_all`. Additionally, if we add a `step_3` - possibly referencing our other step functions - we have to remember to add it to `FUNCTION_REGISTRY` when we're done. This is harder to forget when you see `step_1` and `step_2` very visibly decorated with `@registered`."
   ]
  },
  {
   "cell_type": "markdown",
   "metadata": {},
   "source": [
    "### Decorators for verification\n",
    "Discovering bugs at runtime is a big bummer. Even moreso when they pop up at the end of a very long-running script or program, or in code running in production. Because decorators are evaluated at function definition time, we can use them to give us \"compile\"-time assurances immediately when a module is imported.\n",
    "\n",
    "For instance, pretty frequently you'll want to use other languages or DSLs within Python: regular expressions, SQL, XPath, etc. The problem is that these are almost always represented as strings, not code, meaning that you can't benefit from syntax checking (although it [doesn't have to be this way](https://github.com/hchasestevens/xpyth)). Using a decorator, we can at least be alerted when the strings in our function have mismatched brackets - regardless of if or when the function is run:"
   ]
  },
  {
   "cell_type": "code",
   "execution_count": null,
   "metadata": {},
   "outputs": [],
   "source": [
    "def brackets_balanced(s):\n",
    "    brackets = {\n",
    "        opening: closing\n",
    "        for opening, closing in \n",
    "        '() {} []'.split()\n",
    "    }\n",
    "    closing = set(brackets.values())\n",
    "    stack = []\n",
    "    for char in s:\n",
    "        if char not in closing:\n",
    "            if char in brackets:\n",
    "                stack.append(brackets[char])\n",
    "            continue\n",
    "        try:\n",
    "            expected = stack.pop()\n",
    "        except IndexError:\n",
    "            return False\n",
    "        if char != expected:\n",
    "            return False\n",
    "    return not stack\n",
    "\n",
    "def ensure_brackets_balanced(fn):\n",
    "    for const in fn.__code__.co_consts:\n",
    "        if not isinstance(const, str) or brackets_balanced(const):\n",
    "            continue\n",
    "        print(\n",
    "            \"WARNING - {.__name__} contains unbalanced brackets: {}\".format(\n",
    "                fn, const\n",
    "            )\n",
    "        )\n",
    "    return fn\n",
    "\n",
    "@ensure_brackets_balanced\n",
    "def get_root_div_paragraphs(xml_element):\n",
    "    return xml_element.xpath(\"//div[not(ancestor::div]/p\")"
   ]
  },
  {
   "cell_type": "markdown",
   "metadata": {},
   "source": [
    "### Decorators for dispatch\n",
    "\n",
    "It's often very convenient to not explicitly, yourself, decide what functions should be run under what circumstances on which inputs, but to instead simply indicate the necessary circumstances for a function, and then let the computer decide what function to run by using that information. Decorators are a clean way of establishing these mappings between input conditions and handling strategy.\n",
    "\n",
    "For instance, consider the `IntStore` example above. The `constructor` decorator _annotates_ each method, the `register_constructors` class decorator _registers_ each of these on the class, and the `from_auto` method uses this information to _dispatch_ on the input type. \n",
    "\n",
    "This can be taken even further by creating a suite of strategies, each with their own preconditions, available for use by the program at run time. Giving your program _options_ like this can give you a _robustness_ and _flexibility_ that is very desirable for some applications - for instance, web scraping, in which the document you're parsing can vary (on a single site) depending on a huge number of factors.\n",
    "\n",
    "Anyway, here's an example:"
   ]
  },
  {
   "cell_type": "code",
   "execution_count": null,
   "metadata": {},
   "outputs": [],
   "source": [
    "STRATEGIES = []\n",
    "\n",
    "def precondition(cond):\n",
    "    def decorator(fn):\n",
    "        fn.precondition_met = lambda **kwargs: eval(cond, kwargs)\n",
    "        STRATEGIES.append(fn)\n",
    "        return fn\n",
    "    return decorator\n",
    "\n",
    "@precondition(\"s.startswith('The year is ')\")\n",
    "def parse_year_from_declaration(s):\n",
    "    print(\"Using declaration\")\n",
    "    return int(s[-4:])\n",
    "\n",
    "@precondition(\"any(substr.isdigit() for substr in s.split())\")\n",
    "def parse_year_from_word(s):\n",
    "    print(\"Using words\")\n",
    "    for substr in s.split():\n",
    "        try:\n",
    "            return int(substr)\n",
    "        except Exception:\n",
    "            continue\n",
    "            \n",
    "@precondition(\"'-' in s\")\n",
    "def parse_year_from_iso(s):\n",
    "    print(\"Using iso\")\n",
    "    from dateutil import parser\n",
    "    return parser.parse(s).year\n",
    "\n",
    "def parse_year(s):\n",
    "    for strategy in STRATEGIES:\n",
    "        if strategy.precondition_met(s=s):\n",
    "            return strategy(s)\n",
    "        \n",
    "print(parse_year(\"It's 2017 bro.\"))\n",
    "\n",
    "print(parse_year('The year is 2018'))\n",
    "print(parse_year('01-01-2019'))"
   ]
  },
  {
   "cell_type": "code",
   "execution_count": null,
   "metadata": {},
   "outputs": [],
   "source": []
  }
 ],
 "metadata": {
  "kernelspec": {
   "display_name": "Python 3",
   "language": "python",
   "name": "python3"
  },
  "language_info": {
   "codemirror_mode": {
    "name": "ipython",
    "version": 3
   },
   "file_extension": ".py",
   "mimetype": "text/x-python",
   "name": "python",
   "nbconvert_exporter": "python",
   "pygments_lexer": "ipython3",
   "version": "3.6.5"
  }
 },
 "nbformat": 4,
 "nbformat_minor": 1
}
