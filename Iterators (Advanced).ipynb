{
 "cells": [
  {
   "cell_type": "markdown",
   "metadata": {},
   "source": [
    "# Iterators\n",
    "\n",
    "As we already learned, iterators are objects that are \"iterable\" (duh) which means you can traverse through them. Basically it means that it contains the operators iter() and next(). Python 3 already includes iterators with it's built in objects like lists, tuples and dictionaries but you can also generate an iterator manually or overload the iter() operator to make your custom class iterable.\n",
    "\n",
    "Here's an example of a specific iterator:"
   ]
  },
  {
   "cell_type": "code",
   "execution_count": 7,
   "metadata": {},
   "outputs": [
    {
     "name": "stdout",
     "output_type": "stream",
     "text": [
      "<class 'list_iterator'>\n",
      "1\n",
      "3\n",
      "4\n"
     ]
    }
   ],
   "source": [
    "iterable = [1,2,3,4]\n",
    "iterator = iterable.__iter__()    # or iterator = iter(iterable)\n",
    "print(type(iterator))\n",
    "\n",
    "value = iterator.__next__()   # or value = next(iterator)\n",
    "print(value)\n",
    "next(iterator)\n",
    "for i in iterator:\n",
    "    print(i)"
   ]
  },
  {
   "cell_type": "markdown",
   "metadata": {},
   "source": [
    "There are several things to notice in this code. First, we use the iterator instead of the list itself to go through each value. Notice how the for loop doesn't reprint 1 and skips 2. This is because the iterator was incremented twice (once by value and once by next()) so the for loop started at the third number.\n",
    "\n",
    "When you saw for loops you learned about iteration, but you didn't need to declare an iterator. This is because a for loop works on any iterable object."
   ]
  },
  {
   "cell_type": "code",
   "execution_count": 8,
   "metadata": {},
   "outputs": [
    {
     "name": "stdout",
     "output_type": "stream",
     "text": [
      "1 8 27 64 125 "
     ]
    }
   ],
   "source": [
    "for x in [1, 2, 3, 4, 5]:\n",
    "\tprint(x ** 3, end=' ')"
   ]
  },
  {
   "cell_type": "markdown",
   "metadata": {},
   "source": [
    "We have seen file iteration as well, this is done because file objects have the next() and the iter() operators. Let's look at this into more detail using the remember.txt file from unit 1"
   ]
  },
  {
   "cell_type": "code",
   "execution_count": 12,
   "metadata": {},
   "outputs": [
    {
     "name": "stdout",
     "output_type": "stream",
     "text": [
      "Remember me\n",
      "\n",
      "Though I have to say goodbye\n",
      "\n",
      "Remember me\n",
      "\n",
      "Don't let it make you cry\n",
      "\n",
      "I hold you in my heart\n",
      "\n",
      "Each night we are apart\n",
      "\n",
      "Though I have to travel far\n",
      "\n",
      "Each time you hear a sad guitar\n",
      "\n",
      "The only way that I can be\n",
      "\n",
      "Remember me\n"
     ]
    },
    {
     "ename": "StopIteration",
     "evalue": "",
     "output_type": "error",
     "traceback": [
      "\u001b[1;31m---------------------------------------------------------------------------\u001b[0m",
      "\u001b[1;31mStopIteration\u001b[0m                             Traceback (most recent call last)",
      "\u001b[1;32m<ipython-input-12-c6119761a29d>\u001b[0m in \u001b[0;36m<module>\u001b[1;34m()\u001b[0m\n\u001b[0;32m      6\u001b[0m \u001b[1;32mfor\u001b[0m \u001b[0mi\u001b[0m \u001b[1;32min\u001b[0m \u001b[0mf\u001b[0m\u001b[1;33m:\u001b[0m\u001b[1;33m\u001b[0m\u001b[0m\n\u001b[0;32m      7\u001b[0m     \u001b[0mprint\u001b[0m\u001b[1;33m(\u001b[0m\u001b[0mf\u001b[0m\u001b[1;33m.\u001b[0m\u001b[0m__next__\u001b[0m\u001b[1;33m(\u001b[0m\u001b[1;33m)\u001b[0m\u001b[1;33m)\u001b[0m\u001b[1;33m\u001b[0m\u001b[0m\n\u001b[1;32m----> 8\u001b[1;33m \u001b[0mprint\u001b[0m\u001b[1;33m(\u001b[0m\u001b[0mf\u001b[0m\u001b[1;33m.\u001b[0m\u001b[0m__next__\u001b[0m\u001b[1;33m(\u001b[0m\u001b[1;33m)\u001b[0m\u001b[1;33m)\u001b[0m\u001b[1;33m\u001b[0m\u001b[0m\n\u001b[0m",
      "\u001b[1;31mStopIteration\u001b[0m: "
     ]
    }
   ],
   "source": [
    "f = open('remember.txt')\n",
    "print(f.__next__())\n",
    "print(f.__next__())\n",
    "print(f.__next__())\n",
    "print(f.__next__())\n",
    "for i in f:\n",
    "    print(f.__next__())\n",
    "print(f.__next__())"
   ]
  },
  {
   "cell_type": "markdown",
   "metadata": {},
   "source": [
    "Notice how the last statement raises a StopIteration exception. This let's us know that there are no more objects to iterate.\n",
    "\n",
    "## iter and next\n",
    "\n",
    "Another way to call the next item is to use the class next(). You will see this being preferred to the .\\__next__() because is shorter, easier to use but they mean the same thing.\n",
    "\n",
    "Now let's look at dictionaries. In this case the iterator returns keys instead of values."
   ]
  },
  {
   "cell_type": "code",
   "execution_count": 17,
   "metadata": {},
   "outputs": [
    {
     "name": "stdout",
     "output_type": "stream",
     "text": [
      "a\n",
      "b\n",
      "c\n"
     ]
    }
   ],
   "source": [
    "D = {'a':97, 'b':98, 'c':99}\n",
    "iterObj = iter(D)\n",
    "print(next(iterObj))\n",
    "print(next(iterObj))\n",
    "print(next(iterObj))"
   ]
  },
  {
   "cell_type": "markdown",
   "metadata": {},
   "source": [
    "How about range()?, range is a special generator (coming up next lesson), it works as an iterator but generates values on demand. To have a full range we need to create the list with it."
   ]
  },
  {
   "cell_type": "code",
   "execution_count": 20,
   "metadata": {},
   "outputs": [
    {
     "name": "stdout",
     "output_type": "stream",
     "text": [
      "range(0, 5)\n"
     ]
    },
    {
     "data": {
      "text/plain": [
       "[0, 1, 2, 3, 4]"
      ]
     },
     "execution_count": 20,
     "metadata": {},
     "output_type": "execute_result"
    }
   ],
   "source": [
    "L = range(5)\n",
    "print(L)\n",
    "list(L)"
   ]
  },
  {
   "cell_type": "markdown",
   "metadata": {},
   "source": [
    "## Iterable classes\n",
    "\n",
    "Ok, now for the fun part. You already know how iteration works, but since Python 3 handles iterators so well with built-ins, all this information is practically useless unless you know how to implement it with a class.\n",
    "\n",
    "Using our previous knowledge about operator overloadiing, we are going to build an iterable class. First we'll declare the whole class and then we'll go into detail for every operator."
   ]
  },
  {
   "cell_type": "code",
   "execution_count": 23,
   "metadata": {},
   "outputs": [],
   "source": [
    "class Countdown:\n",
    "    def __init__(self,start):\n",
    "        self.start = start\t# self.start never changes; see self.n in __iter__\n",
    "    \n",
    "    # __iter__ must return an object on which __next__ can be called; it returns\n",
    "    # self, which is an object of the Countdown class, which defines __next__.\n",
    "    # Later we will see a problem with returning self (when the same Countdown\n",
    "    # object is iterated over in a nested structure), and how to solve that\n",
    "    # problem. \n",
    "\n",
    "    def __iter__(self):\n",
    "        self.n = self.start\t# n attribute is added to the namespace here \n",
    "        return self             # (not in __init__) and processed in __next__\n",
    "    \n",
    "    def __next__(self):\n",
    "        if self.n < 0:\n",
    "            raise StopIteration # can del self.n here, after exhausting iterator\n",
    "        else:\n",
    "            answer = self.n\t# or, without the temporary, but more confusing\n",
    "            self.n -= 1\t\t#  self.n -= 1\n",
    "            return answer       #  return self.n+1"
   ]
  },
  {
   "cell_type": "markdown",
   "metadata": {},
   "source": [
    "In this class, when \\__iter__ is called it (re)sets self.n (the value \\__next__ \n",
    "will return first) to self.start (which is set in \\__init__ and never changes for\n",
    "a constructed object). The \\__iter__ method has a requirement that it must\n",
    "return an object that defines a \\__next__ method. Here it returns self, which as\n",
    "an object constructed from Countdown, defines \\__next__ (right below \\__iter__).\n",
    "\n",
    "When \\__next__ is called it checks whether self.n has been decremented past 0,\n",
    "and if is has, raises StopIteration; otherwise it returns the current value\n",
    "of self.n, but before doing so, it decrements self.n by 1 (by saving it in a\n",
    "local variable, decrementing it, and then returning the saved local value).\n",
    "\n",
    "As a variant in \\__next__, we could put del self.n directly before the raise\n",
    "statement, to remove this attribute from the namespace once the iterator is\n",
    "exhausted; if we did this, calling \\__next__ again would raise a NameError when\n",
    "accessing self.n; the code above, without del, would just raise StopIteration\n",
    "again, which is probably a better behavior to implement.\n",
    "\n",
    "Note that if we substituted Countdown(-1) in the loop above, its body would be\n",
    "executed 0 times and nothing would be printed before \"blastoff\".\n"
   ]
  },
  {
   "cell_type": "code",
   "execution_count": 25,
   "metadata": {},
   "outputs": [
    {
     "name": "stdout",
     "output_type": "stream",
     "text": [
      "10, 9, 8, 7, 6, 5, 4, 3, 2, 1, 0, blastoff\n",
      "10, 9, 8, 7, 6, 5, 4, 3, 2, 1, 0, blastoff\n"
     ]
    }
   ],
   "source": [
    "cd = Countdown(10)\n",
    "for i in  cd:\n",
    "    print(str(i)+', ',end='')\n",
    "print ('blastoff')\n",
    "\n",
    "for i in  cd:\n",
    "    print(str(i)+', ',end='')\n",
    "print ('blastoff')"
   ]
  },
  {
   "cell_type": "markdown",
   "metadata": {},
   "source": [
    "Let's look at a more elaborate example. The following class stores and processes\n",
    "histograms. For simplicity we will assume it processes percentages (ints from\n",
    "0 to 100) and places them in 10 bins: 0-9, 10-19, 20-29, ... 80-89, 90-100;\n",
    "note that the last bin really reprsents 11 values, while all the others\n",
    "represent 10 values. Of course we will focus on the how to accomplish iteration\n",
    "for objects of this class (iterating over the counts in their bins) but there\n",
    "are other interesting aspects about this class that we will discuss first (and\n",
    "we could always generalize or add methods to make this class even more\n",
    "powerful)."
   ]
  },
  {
   "cell_type": "code",
   "execution_count": 27,
   "metadata": {},
   "outputs": [],
   "source": [
    "class Percent_Histogram:\n",
    "    def __init__(self,init_percents=[]):\n",
    "        self._histogram = 10*[0]    # [0,0,0,...,0,0] length 10, all 0s\n",
    "        for p in init_percents:\n",
    "            self.tally(p)\n",
    "         \n",
    "    # Called only when 0<=p<=100: 100//10 is 10 but 100 belongs in index 9\n",
    "    def _tally(self,p):\n",
    "        self._histogram[p//10 if p<100 else 9] += 1\n",
    "    \n",
    "    def clear(self):\n",
    "        for i in range(10):         # could write: self._histogram = 10*[0]\n",
    "            self._histogram[i] = 0\n",
    "\n",
    "    # tally allows any number of arguments, collected into a tuple by *args\n",
    "    def tally(self,*args):\n",
    "        if len(args) == 0:\n",
    "            raise IndexError('Percent_Histogram.tally: no value(s) to tally')\n",
    "        for p in args:\n",
    "            if 0 <= p <= 100:\n",
    "                self._tally(p)\n",
    "            else:\n",
    "                raise IndexError('Percent_Histogram.tally: '+str(p)+' outside [0,100]')\n",
    "                # Another approach would be to store/remember all tally failures\n",
    "\n",
    "    # allow indexing for bins [0-9]\n",
    "    # but can mutate these values only through __init__, clear, and tally\n",
    "    # no __setitem__ defined\n",
    "    def __getitem__(self,bin_num):\n",
    "        if 0 <= bin_num <= 9:\n",
    "            return self._histogram[bin_num]\n",
    "        else:\n",
    "            raise IndexError('Percent_Histogram.__getitem__: '+str(bin_num)+' outside [0,9]')\n",
    "\n",
    "    # standard __iter__: defines a class with __init__/__next__ and returns\n",
    "    #   an object from that class\n",
    "    def __iter__(self):\n",
    "\n",
    "        class PH_iter:\n",
    "            def __init__(self,histogram):\n",
    "                self._histogram = histogram          # sharing; sees mutation\n",
    "                # self._histogram = list(histogram)  # copying; doesn't see it\n",
    "                self._next = 0\n",
    "\n",
    "            def __next__(self):\n",
    "                if self._next == 10:\n",
    "                    raise StopIteration\n",
    "                answer = self._histogram[self._next]\n",
    "                self._next += 1\n",
    "                return answer\n",
    "\n",
    "            def __iter__(self):\n",
    "                return self\n",
    "\n",
    "        return PH_iter(self._histogram)\n",
    "            \n",
    "    # To reconstruct a call the __init__ that reproduces the correct counts in\n",
    "    #   the histogram, we supply the correct number of values, but all at the\n",
    "    #   start of the bin: e.g., if bin 5 has 3 items, the repr has three 50s\n",
    "    def __repr__(self):\n",
    "        param = []\n",
    "        for i in range(10):\n",
    "            param += self[i]*[i*10]\n",
    "        return 'Percent_Histogram('+str(param)+')'\n",
    "    \n",
    "    # a 2-dimensional display; do you understand the use of .format here?\n",
    "    def __str__(self):\n",
    "        return '\\n'.join(['[{l: >2}-{h: >3}] | {s}'.format(l=10*i,h=10*i+9 if i != 9 else 100,s=self[i]*'*') for i in range(10)])"
   ]
  },
  {
   "cell_type": "markdown",
   "metadata": {},
   "source": [
    "0) The __init__ method uses the idiom 10*[0] that generates ten 0's. Then calls the function tally for each of the percentages.\n",
    "\n",
    "1) The _tally function is supposed to be called only by methods defined in this\n",
    "class. It does the actual work, putting a number from the range [0,100] into the\n",
    "correct bin, treating 100 specially (it belongs in bin 9, but p//10 would put\n",
    "it in bin 10, which doesn't exist). The last bin, 90-100 contains 11 values,\n",
    "while all the other bins (e.g., 30-39) contain 10. To work correctly, this\n",
    "method assumes p is legal: 0 <= p <= 100\n",
    "\n",
    "2) The clear method sets each bin in the list to 0; we could have allocated a\n",
    "new list as shown in the comment, but generally that takes more time and\n",
    "occupies more space. Better to zero-out existing list.\n",
    "\n",
    "3) By using *args, the tally method can have any number (0 or more) of\n",
    "positional arguments. All arguments are collected into a tuple that is iterated \n",
    "over to process the value individually. If there is not at least one value, or\n",
    "any value is out of range, this method raises an exception. \n",
    "\n",
    "4) The \\__getitem__ method allows us to index all the bins, 0-9 inclusive of a\n",
    "Histogrm object. Note that we can set values into these bins (i.e., mutate the\n",
    "list), only via \\__init__ and tally. So we call this information read-only: we\n",
    "can read it but not write/change it (this class defines no \\__setitem__). Of\n",
    "course, Python actually allows us to write o._histogram but the leading\n",
    "underscore indicates only methods in the class should refer to the _histogram\n",
    "attribute\n",
    "\n",
    "5) We use the now standard way to implement \\__iter__, by defining a local class\n",
    "that defines \\__next__ and returning an object from that class. \n",
    "\n",
    "6) The \\__repr__ method doesn't know what numbers went into the bins! But we can\n",
    "use the lowest number in each bin, repeated by the count in that bin, to specify\n",
    "a list needed to construct an equivalent object (with the equivalent number of\n",
    "values in each bin) with the construtor.\n",
    "\n",
    "7) The \\__str__ method returns a two-dimensional plot of the histogram. \n"
   ]
  },
  {
   "cell_type": "code",
   "execution_count": 30,
   "metadata": {},
   "outputs": [
    {
     "name": "stdout",
     "output_type": "stream",
     "text": [
      "Percent_Histogram([20, 30, 50, 50, 70, 70, 80, 90, 90])\n",
      "0 0 1 1 0 2 0 2 1 2 \n",
      "[ 0-  9] | \n",
      "[10- 19] | \n",
      "[20- 29] | *\n",
      "[30- 39] | *\n",
      "[40- 49] | \n",
      "[50- 59] | **\n",
      "[60- 69] | \n",
      "[70- 79] | **\n",
      "[80- 89] | *\n",
      "[90-100] | **\n"
     ]
    }
   ],
   "source": [
    "quiz1 = Percent_Histogram([50, 55, 70, 75, 85, 100])\n",
    "quiz1.tally(20,30,95)\n",
    "print(repr(quiz1))\n",
    "for count in quiz1:\n",
    "    print(count,end=' ')\n",
    "print('\\n',quiz1,sep='')"
   ]
  },
  {
   "cell_type": "code",
   "execution_count": 29,
   "metadata": {},
   "outputs": [
    {
     "name": "stdout",
     "output_type": "stream",
     "text": [
      "0 0 1 1 0 2 0 2 1 11 "
     ]
    }
   ],
   "source": [
    "for count in quiz1:\n",
    "    print(count,end=' ')\n",
    "    quiz1.tally(100)"
   ]
  },
  {
   "cell_type": "markdown",
   "metadata": {},
   "source": []
  }
 ],
 "metadata": {
  "kernelspec": {
   "display_name": "Python 3",
   "language": "python",
   "name": "python3"
  },
  "language_info": {
   "codemirror_mode": {
    "name": "ipython",
    "version": 3
   },
   "file_extension": ".py",
   "mimetype": "text/x-python",
   "name": "python",
   "nbconvert_exporter": "python",
   "pygments_lexer": "ipython3",
   "version": "3.6.5"
  }
 },
 "nbformat": 4,
 "nbformat_minor": 2
}
