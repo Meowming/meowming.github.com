{
 "cells": [
  {
   "cell_type": "markdown",
   "metadata": {},
   "source": [
    "## Quiz 7"
   ]
  },
  {
   "cell_type": "markdown",
   "metadata": {},
   "source": [
    "Question 1 - Mail Weight Conversion, Summation, and Restriction (via Map, Reduce, and Filter)\n",
    "\n",
    "No loops are allowed for this problem.\n",
    "\n",
    "At a post office you are given a list of objects to ship together on vehicles. Each list's objects' masses are given in pounds, convert each the provided list from pounds to kilograms (1 lb = 0.453592 kg). Then, calculate the aggregate mass of all the objects in each list for a shipment. Finally, any shipment with a combined mass over 200 kg must be filtered out. Create a function that takes in each list separately, performs the conversion and summation, and appends the aggregate mass to the list g. Run it on the given lists, then filter the list g and print the resulting list of items remaining.\n",
    "\n",
    "Example:\n",
    "\n",
    "Given list:\n",
    "[23,46,80,70]\n",
    "\n",
    "List in kg:\n",
    "[10.432616, 20.865232, 36.28736, 31.75144]\n",
    "\n",
    "Aggregate mass:\n",
    "99.33648\n",
    "\n",
    "The shipment is valid, so 99.33648 would appear in the result list.\n"
   ]
  },
  {
   "cell_type": "code",
   "execution_count": null,
   "metadata": {},
   "outputs": [],
   "source": [
    "a = [1,1,2,3,5,8,13,21,34,55,89]\n",
    "b = [35,42,68,57,44]\n",
    "c = [84,77,89,9,45]\n",
    "d = [86,5,36,2,89,4,24,3]\n",
    "f = [220, 220, 1]\n",
    "g = []"
   ]
  },
  {
   "cell_type": "markdown",
   "metadata": {},
   "source": [
    "Question 2 - Function Argument Checker\n",
    "\n",
    "Write a decorator that checks that arguments to a function are passed in the following order:\n",
    "\n",
    "int, float, complex, string, list, tuple\n",
    "\n",
    "The decorator should print that the order is incorrect if a given run of the test function does not fit. Apply the decorator to the test function below.\n"
   ]
  },
  {
   "cell_type": "code",
   "execution_count": null,
   "metadata": {},
   "outputs": [],
   "source": [
    "d = \"python\"\n",
    "a = 45.67\n",
    "c = (0, 0)\n",
    "b = 10\n",
    "e = 3.14J\n",
    "f = []\n",
    "\n",
    "#insert decorator\n",
    "\n",
    "#apply decorator\n",
    "def test(element1, element2, element3, element4, element5, element6):\n",
    "    pass\n",
    "\n",
    "\n",
    "test(a,b,c,d,e,f)\n",
    "test(a,f,b,e,c,d)\n",
    "test(b,d,c,a,e,f)\n",
    "test(b,a,e,d,f,c)\n",
    "test(d,c,e,f,a,b)\n"
   ]
  },
  {
   "cell_type": "markdown",
   "metadata": {},
   "source": [
    "Question 3 - Number Replacement\n",
    "\n",
    "Write a recursive function that reads in a string and replaces all text numbers('one', 'two', 'three', 'four', 'five',...,'nine') with their numeric counterparts ('1', '2', '3', '4', '5',...,'9'), even if they are inside other words. Run the function on the given strings, and print the resulting strings."
   ]
  },
  {
   "cell_type": "code",
   "execution_count": null,
   "metadata": {},
   "outputs": [],
   "source": [
    "onestring = \"one two three four five six seven eight nine\"\n",
    "twostring = \"episode four - a new hope, episode five - the empire strikes back, episode six - return of the jedi, episode one - the phantom menace, episode two - attack of the clones, episode three - revenge of the sith, episode seven - the force awakens, episode eight - the last jedi\"\n",
    "redstring = \"See you leighter, alligeighter\"\n",
    "bluestring = \"why was six afraid of seven? because seven eight nine\""
   ]
  },
  {
   "cell_type": "markdown",
   "metadata": {},
   "source": [
    "Save your results as quiz7.txt in the following format:\n",
    "\n",
    "Q1\n",
    "\n",
    "q1 output\n",
    "\n",
    "Q2\n",
    "\n",
    "q2 output\n",
    "\n",
    "Q3\n",
    "\n",
    "q3 output\n",
    "\n",
    "Compress it with your IPython notebook into a Quiz7.zip and submit it on Canvas.\n",
    "\n"
   ]
  }
 ],
 "metadata": {
  "kernelspec": {
   "display_name": "Python 3",
   "language": "python",
   "name": "python3"
  },
  "language_info": {
   "codemirror_mode": {
    "name": "ipython",
    "version": 3
   },
   "file_extension": ".py",
   "mimetype": "text/x-python",
   "name": "python",
   "nbconvert_exporter": "python",
   "pygments_lexer": "ipython3",
   "version": "3.6.5"
  }
 },
 "nbformat": 4,
 "nbformat_minor": 2
}
