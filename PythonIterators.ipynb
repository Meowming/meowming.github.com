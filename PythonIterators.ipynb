{
 "cells": [
  {
   "cell_type": "markdown",
   "metadata": {},
   "source": [
    "# Python Iterators\n",
    "By Ibrahim Mohamed\n",
    "https://gist.github.com/bingorabbit/e04d72b81475fbd111d87c2822f9e879\n",
    "\n",
    "This should be a simple guide for python iterators. It will introduce the following terms: containers, iterables, iterators, generators."
   ]
  },
  {
   "cell_type": "markdown",
   "metadata": {},
   "source": [
    "## Containers\n",
    "\n",
    "Containers are actually any python data structure that fulfills the membership relationship with its objects, typical examples of such containers are lists/tuples/dicts:\n"
   ]
  },
  {
   "cell_type": "code",
   "execution_count": 11,
   "metadata": {},
   "outputs": [
    {
     "name": "stdout",
     "output_type": "stream",
     "text": [
      "True\n",
      "True\n",
      "False\n"
     ]
    }
   ],
   "source": [
    "pokemons = ['Bulbasaur',\n",
    "            'Charmander',\n",
    "            'Pikachu',\n",
    "            'Mankey'] # Catch 'em all.\n",
    "print('Bulbasaur' in pokemons)\n",
    "print('Ponyta' not in pokemons)\n",
    "print('Rabbit' in pokemons)"
   ]
  },
  {
   "cell_type": "markdown",
   "metadata": {},
   "source": [
    "Containers are plain basic boxes, you can manage them (add/remove/edit their items - if possible -), that's why they are easy to deal with.\n",
    "\n",
    "Basically, implementing a container, require implementing the **\\_\\_contains\\_\\_()** operator. Containers provide a way to test if they have another object and they might provide a way to iterate over their contents (other contained objects) which would make them also iterables."
   ]
  },
  {
   "cell_type": "markdown",
   "metadata": {},
   "source": [
    "## Iterables\n",
    "\n",
    "In python, being able to iterate/loop over items in a container makes it iterable. So, if containers provide a way to iterate over their items - or get one of them when possible, else raises an **IndexError** - they become iterables, but an iterable is not by default a container. An iterable is something which we can iterate over to fetch data within, whether these data is file contents, socket stream."
   ]
  },
  {
   "cell_type": "code",
   "execution_count": 16,
   "metadata": {},
   "outputs": [],
   "source": [
    "pokedox = iter(pokemons)"
   ]
  },
  {
   "cell_type": "code",
   "execution_count": 17,
   "metadata": {},
   "outputs": [
    {
     "name": "stdout",
     "output_type": "stream",
     "text": [
      "I'm an awesome pokemon and my name is Bulbasaur.\n",
      "I'm an awesome pokemon and my name is Charmander.\n",
      "I'm an awesome pokemon and my name is Pikachu.\n",
      "I'm an awesome pokemon and my name is Mankey.\n"
     ]
    }
   ],
   "source": [
    "for pokemon in pokedox:\n",
    "    print(\"I'm an awesome pokemon and my name is {0}.\".format(pokemon))"
   ]
  },
  {
   "cell_type": "code",
   "execution_count": 4,
   "metadata": {},
   "outputs": [
    {
     "data": {
      "text/plain": [
       "list"
      ]
     },
     "execution_count": 4,
     "metadata": {},
     "output_type": "execute_result"
    }
   ],
   "source": [
    "type(pokemons)"
   ]
  },
  {
   "cell_type": "code",
   "execution_count": 5,
   "metadata": {},
   "outputs": [
    {
     "data": {
      "text/plain": [
       "list_iterator"
      ]
     },
     "execution_count": 5,
     "metadata": {},
     "output_type": "execute_result"
    }
   ],
   "source": [
    "type(pokedox)"
   ]
  },
  {
   "cell_type": "markdown",
   "metadata": {},
   "source": [
    "So, as we can see, the pokemons list is an **iterable** but the pokedox object is an **iterator**. Implementing an iterator requires implementing the **\\_\\_iter\\_\\_()** operator, which would return the iterator itself. Or the **\\_\\_getitem\\_\\_()** operator to support the sequence protocol which calls for items in the container starting from index 0."
   ]
  },
  {
   "cell_type": "markdown",
   "metadata": {},
   "source": [
    "## Iterators\n",
    "\n",
    "As per python docs, iterators are those items that support the Iterator protocol - or as mentioned before, the sequence protocol, but we will focus on the first - : which can be implemented by implementing the **\\_\\_iter\\_\\_()** and **next()**"
   ]
  },
  {
   "cell_type": "code",
   "execution_count": 18,
   "metadata": {},
   "outputs": [],
   "source": [
    "class FibIterator(object):\n",
    "    \n",
    "    def __init__(self):\n",
    "        self.previous, self.current = 0,1\n",
    "    \n",
    "    def __iter__(self):\n",
    "        return self\n",
    "   \n",
    "    def __next__(self):\n",
    "        # For Python 3.x\n",
    "        return self.next()\n",
    "    \n",
    "    def next(self):\n",
    "        # Python 2.x\n",
    "        #if self.current > 50:\n",
    "        #    raise StopIteration(\"Finished\")\n",
    "        value = self.current\n",
    "        self.previous, self.current = self.current, self.current+self.previous\n",
    "        return value"
   ]
  },
  {
   "cell_type": "code",
   "execution_count": 19,
   "metadata": {},
   "outputs": [],
   "source": [
    "fibonacci = FibIterator()"
   ]
  },
  {
   "cell_type": "code",
   "execution_count": 20,
   "metadata": {},
   "outputs": [
    {
     "name": "stdout",
     "output_type": "stream",
     "text": [
      "1\n",
      "1\n",
      "2\n"
     ]
    }
   ],
   "source": [
    "print(next(fibonacci))\n",
    "print(next(fibonacci))\n",
    "print(next(fibonacci))"
   ]
  },
  {
   "cell_type": "code",
   "execution_count": 21,
   "metadata": {},
   "outputs": [
    {
     "name": "stdout",
     "output_type": "stream",
     "text": [
      "3\n",
      "5\n",
      "8\n",
      "13\n",
      "21\n",
      "34\n",
      "55\n",
      "89\n",
      "144\n",
      "233\n"
     ]
    }
   ],
   "source": [
    "for i in range(10):\n",
    "    print(next(fibonacci))"
   ]
  },
  {
   "cell_type": "markdown",
   "metadata": {},
   "source": [
    "Note that the iterator remembers where it stopped and continue from there, and once you reach the final item, it's done!"
   ]
  },
  {
   "cell_type": "markdown",
   "metadata": {},
   "source": [
    "So, you can go crazy with it, create your own iterators, but you can find some predefined ones for you like you can also check https://docs.python.org/2/library/itertools.html:\n",
    "\n",
    "Itertool is a library of predefined building blocks for iterators that have been optimized for speed and memory efficiency. So why reinvent the wheel? Here are some examples but we'll review itertools in more detail later on"
   ]
  },
  {
   "cell_type": "code",
   "execution_count": 24,
   "metadata": {},
   "outputs": [
    {
     "name": "stdout",
     "output_type": "stream",
     "text": [
      "15\n",
      "16\n",
      "17\n",
      "18\n",
      "19\n"
     ]
    }
   ],
   "source": [
    "from itertools import count\n",
    "counter = count(15)\n",
    "for i in range(5):\n",
    "    print(next(counter))"
   ]
  },
  {
   "cell_type": "code",
   "execution_count": 25,
   "metadata": {},
   "outputs": [
    {
     "name": "stdout",
     "output_type": "stream",
     "text": [
      "Bulbasaur\n",
      "Charmander\n",
      "Pikachu\n",
      "Mankey\n",
      "Bulbasaur\n",
      "Charmander\n",
      "Pikachu\n",
      "Mankey\n"
     ]
    }
   ],
   "source": [
    "from itertools import cycle, islice\n",
    "pokemons_cycle = cycle(pokemons) # This will create an infinite cycling iterator\n",
    "pokemons_slice = islice(pokemons_cycle, 0, len(pokemons)*2) # Finite\n",
    "for pokemon in pokemons_slice:\n",
    "    print(pokemon)"
   ]
  },
  {
   "cell_type": "markdown",
   "metadata": {
    "collapsed": true
   },
   "source": [
    "## Generators\n",
    "A generator is a more elegantly written iterator, so instead of implementing the Fib class up there and going thruogh implementing the **\\_\\_iter\\_\\_** and **\\_\\_next\\_\\_** methods, we can just do it like this:"
   ]
  },
  {
   "cell_type": "code",
   "execution_count": 29,
   "metadata": {},
   "outputs": [
    {
     "name": "stdout",
     "output_type": "stream",
     "text": [
      "1\n",
      "1\n",
      "2\n",
      "3\n",
      "5\n",
      "8\n",
      "13\n",
      "21\n",
      "34\n",
      "55\n"
     ]
    }
   ],
   "source": [
    "def fib():\n",
    "    prev, curr = 0, 1\n",
    "    while True:\n",
    "        yield curr\n",
    "        prev, curr = curr, prev + curr\n",
    "\n",
    "new_fib = fib()\n",
    "for i in islice(new_fib, 0, 10):\n",
    "    print(i)"
   ]
  },
  {
   "cell_type": "markdown",
   "metadata": {},
   "source": [
    "There, we introduce a new magic word, it's **yield**, once it's there,  we have a generator. Basically what it does is that it places a pause in the function o that whenever next() is called the function will continue from yield instead of from the beginning of the function.\n",
    "\n",
    "That's it for introducing iterators, now let's look at them in detail."
   ]
  },
  {
   "cell_type": "code",
   "execution_count": null,
   "metadata": {},
   "outputs": [],
   "source": []
  }
 ],
 "metadata": {
  "celltoolbar": "Raw Cell Format",
  "kernelspec": {
   "display_name": "Python 3",
   "language": "python",
   "name": "python3"
  },
  "language_info": {
   "codemirror_mode": {
    "name": "ipython",
    "version": 3
   },
   "file_extension": ".py",
   "mimetype": "text/x-python",
   "name": "python",
   "nbconvert_exporter": "python",
   "pygments_lexer": "ipython3",
   "version": "3.6.5"
  }
 },
 "nbformat": 4,
 "nbformat_minor": 1
}
